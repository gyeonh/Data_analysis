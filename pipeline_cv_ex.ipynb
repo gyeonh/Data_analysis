{
  "nbformat": 4,
  "nbformat_minor": 5,
  "metadata": {
    "kernelspec": {
      "display_name": "Python 3",
      "language": "python",
      "name": "python3"
    },
    "language_info": {
      "codemirror_mode": {
        "name": "ipython",
        "version": 3
      },
      "file_extension": ".py",
      "mimetype": "text/x-python",
      "name": "python",
      "nbconvert_exporter": "python",
      "pygments_lexer": "ipython3",
      "version": "3.7.10"
    },
    "colab": {
      "name": "pipeline-cv_ex",
      "provenance": []
    }
  },
  "cells": [
    {
      "cell_type": "markdown",
      "metadata": {
        "id": "508004ed-199c-4385-aa3d-2ae25fc994bb"
      },
      "source": [
        "사용해야할 데이터: `melb_data.csv`"
      ],
      "id": "508004ed-199c-4385-aa3d-2ae25fc994bb"
    },
    {
      "cell_type": "markdown",
      "metadata": {
        "id": "0b608621-d2ee-4c3b-bbc1-d93b59870143"
      },
      "source": [
        "## 1. Data Preprocessing"
      ],
      "id": "0b608621-d2ee-4c3b-bbc1-d93b59870143"
    },
    {
      "cell_type": "markdown",
      "metadata": {
        "id": "2cc24789-1343-4029-876b-c7a994f8dc55"
      },
      "source": [
        "### Task\n",
        "\n",
        "- data loading\n",
        "\n",
        "- Categorical 변수\n",
        "\n",
        "    - Categorical 변수는 클래스 종류가 40개 이하인 feature 만 사용하고 onehot encoding으로 처리해서 사용한다.\n",
        "        - onehot encoding 설정: \n",
        "            - handle_unknown='ignore'\n",
        "            - sparse=False\n",
        "            \n",
        "    - 만약 `na` 값이 있다면 해당 feature 에서 가장 많이 나온 값으로 대체 한다.\n",
        "\n",
        "- numerical 변수\n",
        "    - `na`값이 있다면 해당 feature의 평균값으로 대체한다. 대체값을 사용했으면 해당 위치 또한 feature 로 만들어 학습에 사용한다.\n"
      ],
      "id": "2cc24789-1343-4029-876b-c7a994f8dc55"
    },
    {
      "cell_type": "markdown",
      "metadata": {
        "id": "db57e827-810f-41a8-bd65-0c73872c2666"
      },
      "source": [
        "위과정을 정확했다면 완성된 데이터프레임의 `shape` 은 `(13580, 49)`이다."
      ],
      "id": "db57e827-810f-41a8-bd65-0c73872c2666"
    },
    {
      "cell_type": "code",
      "metadata": {
        "id": "9e56edc1-357b-4238-8195-4767b1971acb",
        "colab": {
          "base_uri": "https://localhost:8080/"
        },
        "outputId": "95954449-a076-4796-f7c3-bb191459be8e"
      },
      "source": [
        "!pwd"
      ],
      "id": "9e56edc1-357b-4238-8195-4767b1971acb",
      "execution_count": null,
      "outputs": [
        {
          "output_type": "stream",
          "text": [
            "/content\n"
          ],
          "name": "stdout"
        }
      ]
    },
    {
      "cell_type": "code",
      "metadata": {
        "colab": {
          "base_uri": "https://localhost:8080/"
        },
        "id": "EeZ9YiQczr_a",
        "outputId": "627b8590-9726-4bf5-d1d9-c92c4faa254f"
      },
      "source": [
        "from google.colab import drive\n",
        "drive.mount('/content/drive')"
      ],
      "id": "EeZ9YiQczr_a",
      "execution_count": null,
      "outputs": [
        {
          "output_type": "stream",
          "text": [
            "Mounted at /content/drive\n"
          ],
          "name": "stdout"
        }
      ]
    },
    {
      "cell_type": "code",
      "metadata": {
        "id": "MCrih-k09kTE"
      },
      "source": [
        "import pandas as pd\n",
        "from sklearn.model_selection import train_test_split"
      ],
      "id": "MCrih-k09kTE",
      "execution_count": null,
      "outputs": []
    },
    {
      "cell_type": "code",
      "metadata": {
        "id": "Hb0XEvHO9pvB"
      },
      "source": [
        "df = pd.read_csv('/content/drive/MyDrive/data/melb_data.csv')\n",
        "\n",
        "y = df.Price\n",
        "X = df.drop(['Price'], axis=\"columns\")\n",
        "\n",
        "X_train, X_test, y_train, y_test = train_test_split(X, y, random_state=701)"
      ],
      "id": "Hb0XEvHO9pvB",
      "execution_count": null,
      "outputs": []
    },
    {
      "cell_type": "code",
      "metadata": {
        "id": "PwMNl1NX96fq"
      },
      "source": [
        "from sklearn.compose import make_column_selector\n",
        "\n",
        "numeric_selector = make_column_selector(dtype_include=\"number\")\n",
        "cate_selector = make_column_selector(dtype_include='object')\n",
        "\n",
        "cate_cols = cate_selector(X_train)\n",
        "numeric_cols = numeric_selector(X_train)\n",
        "\n",
        "select_cols = numeric_cols + cate_cols\n",
        "\n",
        "X_train = X_train[select_cols]\n",
        "X_test = X_test[select_cols]"
      ],
      "id": "PwMNl1NX96fq",
      "execution_count": null,
      "outputs": []
    },
    {
      "cell_type": "code",
      "metadata": {
        "id": "zyHUag2B-37V"
      },
      "source": [
        "from sklearn.pipeline import make_pipeline\n",
        "from sklearn.preprocessing import OneHotEncoder\n",
        "from sklearn.impute import SimpleImputer, MissingIndicator\n",
        "from sklearn.compose import ColumnTransformer\n",
        "\n",
        "cate_pipe = make_pipeline(\n",
        "    SimpleImputer(strategy=\"most_frequent\"),\n",
        "    OneHotEncoder(handle_unknown=\"ignore\", sparse=False)\n",
        ")\n",
        "\n",
        "preprocessor = ColumnTransformer(transformers=[\n",
        "        ('impute&onehot', cate_pipe, ['CouncilArea']),\n",
        "        ('impute_numeric', SimpleImputer(strategy=\"mean\"), numeric_selector),\n",
        "        ('numeric_impute_indicator', MissingIndicator(), numeric_selector)\n",
        "])"
      ],
      "id": "zyHUag2B-37V",
      "execution_count": null,
      "outputs": []
    },
    {
      "cell_type": "code",
      "metadata": {
        "colab": {
          "base_uri": "https://localhost:8080/"
        },
        "id": "2q6HvfzVnxt-",
        "outputId": "380d19c4-b019-4c7d-fa8b-f447fd0886cb"
      },
      "source": [
        "model = preprocessor.fit_transform(X, y)\n",
        "model"
      ],
      "id": "2q6HvfzVnxt-",
      "execution_count": null,
      "outputs": [
        {
          "output_type": "execute_result",
          "data": {
            "text/plain": [
              "array([[0., 0., 0., ..., 0., 1., 1.],\n",
              "       [0., 0., 0., ..., 0., 0., 0.],\n",
              "       [0., 0., 0., ..., 0., 0., 0.],\n",
              "       ...,\n",
              "       [0., 0., 0., ..., 0., 1., 0.],\n",
              "       [0., 0., 0., ..., 0., 0., 0.],\n",
              "       [0., 0., 0., ..., 0., 0., 0.]])"
            ]
          },
          "metadata": {
            "tags": []
          },
          "execution_count": 29
        }
      ]
    },
    {
      "cell_type": "markdown",
      "metadata": {
        "id": "dfa4291f-1b27-4299-991d-eeb2cadf1664"
      },
      "source": [
        "## 2. Cross validation 을 이용해서 가장 좋은 Deicision Tree 를 찾아보자\n",
        "    - 고려해야 할 hyperparameter 조건\n",
        "        - max_leaf_nodes\n",
        "        - criterion:'mse', 'mae"
      ],
      "id": "dfa4291f-1b27-4299-991d-eeb2cadf1664"
    },
    {
      "cell_type": "code",
      "metadata": {
        "id": "ea3f1961-50b6-4e10-9bed-8a013fc5c193"
      },
      "source": [
        "from sklearn.model_selection import GridSearchCV\n",
        "from sklearn.pipeline import make_pipeline\n",
        "from sklearn.tree import DecisionTreeRegressor"
      ],
      "id": "ea3f1961-50b6-4e10-9bed-8a013fc5c193",
      "execution_count": null,
      "outputs": []
    },
    {
      "cell_type": "code",
      "metadata": {
        "colab": {
          "base_uri": "https://localhost:8080/"
        },
        "id": "0TPPBfGvx6Dp",
        "outputId": "825fc748-17f3-4cd4-c44e-592311003900"
      },
      "source": [
        "for k in model.get_params().keys():\n",
        "    print(k)"
      ],
      "id": "0TPPBfGvx6Dp",
      "execution_count": null,
      "outputs": [
        {
          "output_type": "stream",
          "text": [
            "memory\n",
            "steps\n",
            "verbose\n",
            "columntransformer\n",
            "decisiontreeregressor\n",
            "columntransformer__n_jobs\n",
            "columntransformer__remainder\n",
            "columntransformer__sparse_threshold\n",
            "columntransformer__transformer_weights\n",
            "columntransformer__transformers\n",
            "columntransformer__verbose\n",
            "columntransformer__impute&onehot\n",
            "columntransformer__impute_numeric\n",
            "columntransformer__numeric_impute_indicator\n",
            "columntransformer__impute&onehot__memory\n",
            "columntransformer__impute&onehot__steps\n",
            "columntransformer__impute&onehot__verbose\n",
            "columntransformer__impute&onehot__simpleimputer\n",
            "columntransformer__impute&onehot__onehotencoder\n",
            "columntransformer__impute&onehot__simpleimputer__add_indicator\n",
            "columntransformer__impute&onehot__simpleimputer__copy\n",
            "columntransformer__impute&onehot__simpleimputer__fill_value\n",
            "columntransformer__impute&onehot__simpleimputer__missing_values\n",
            "columntransformer__impute&onehot__simpleimputer__strategy\n",
            "columntransformer__impute&onehot__simpleimputer__verbose\n",
            "columntransformer__impute&onehot__onehotencoder__categories\n",
            "columntransformer__impute&onehot__onehotencoder__drop\n",
            "columntransformer__impute&onehot__onehotencoder__dtype\n",
            "columntransformer__impute&onehot__onehotencoder__handle_unknown\n",
            "columntransformer__impute&onehot__onehotencoder__sparse\n",
            "columntransformer__impute_numeric__add_indicator\n",
            "columntransformer__impute_numeric__copy\n",
            "columntransformer__impute_numeric__fill_value\n",
            "columntransformer__impute_numeric__missing_values\n",
            "columntransformer__impute_numeric__strategy\n",
            "columntransformer__impute_numeric__verbose\n",
            "columntransformer__numeric_impute_indicator__error_on_new\n",
            "columntransformer__numeric_impute_indicator__features\n",
            "columntransformer__numeric_impute_indicator__missing_values\n",
            "columntransformer__numeric_impute_indicator__sparse\n",
            "decisiontreeregressor__ccp_alpha\n",
            "decisiontreeregressor__criterion\n",
            "decisiontreeregressor__max_depth\n",
            "decisiontreeregressor__max_features\n",
            "decisiontreeregressor__max_leaf_nodes\n",
            "decisiontreeregressor__min_impurity_decrease\n",
            "decisiontreeregressor__min_impurity_split\n",
            "decisiontreeregressor__min_samples_leaf\n",
            "decisiontreeregressor__min_samples_split\n",
            "decisiontreeregressor__min_weight_fraction_leaf\n",
            "decisiontreeregressor__presort\n",
            "decisiontreeregressor__random_state\n",
            "decisiontreeregressor__splitter\n"
          ],
          "name": "stdout"
        }
      ]
    },
    {
      "cell_type": "code",
      "metadata": {
        "colab": {
          "base_uri": "https://localhost:8080/"
        },
        "id": "NY9J7E5owkb-",
        "outputId": "6b9a76b8-7e6c-460d-e990-f7083243b64d"
      },
      "source": [
        "param_grid = {\n",
        "    \"dmodel__max_leaf_nodes\": [10, 20, 30, 40, 50],\n",
        "    \"dmodel__criterion\":[\"mse\",\"mae\"]\n",
        "}\n",
        "X_train, X_test, y_train, y_test = train_test_split(X, y)\n",
        "\n",
        "model = make_pipeline(preprocessor, DecisionTreeRegressor(random_state=0))\n",
        "grid=GridSearchCV(model, param_grid, cv=5, return_train_score=True)\n",
        "\n",
        "grid.fit(X_train, y_train)"
      ],
      "id": "NY9J7E5owkb-",
      "execution_count": null,
      "outputs": [
        {
          "output_type": "execute_result",
          "data": {
            "text/plain": [
              "GridSearchCV(cv=5, error_score=nan,\n",
              "             estimator=Pipeline(memory=None,\n",
              "                                steps=[('columntransformer',\n",
              "                                        ColumnTransformer(n_jobs=None,\n",
              "                                                          remainder='drop',\n",
              "                                                          sparse_threshold=0.3,\n",
              "                                                          transformer_weights=None,\n",
              "                                                          transformers=[('impute&onehot',\n",
              "                                                                         Pipeline(memory=None,\n",
              "                                                                                  steps=[('simpleimputer',\n",
              "                                                                                          SimpleImputer(add_indicator=False,\n",
              "                                                                                                        copy=True,\n",
              "                                                                                                        fill_value=None,\n",
              "                                                                                                        missing_values=nan,\n",
              "                                                                                                        strategy=...\n",
              "                                                              min_samples_leaf=1,\n",
              "                                                              min_samples_split=2,\n",
              "                                                              min_weight_fraction_leaf=0.0,\n",
              "                                                              presort='deprecated',\n",
              "                                                              random_state=0,\n",
              "                                                              splitter='best'))],\n",
              "                                verbose=False),\n",
              "             iid='deprecated', n_jobs=None,\n",
              "             param_grid={'decisiontreeregressor__criterion': ['mse', 'mae'],\n",
              "                         'decisiontreeregressor__max_leaf_nodes': [10, 20, 30,\n",
              "                                                                   40, 50]},\n",
              "             pre_dispatch='2*n_jobs', refit=True, return_train_score=True,\n",
              "             scoring=None, verbose=0)"
            ]
          },
          "metadata": {
            "tags": []
          },
          "execution_count": 37
        }
      ]
    },
    {
      "cell_type": "code",
      "metadata": {
        "colab": {
          "base_uri": "https://localhost:8080/"
        },
        "id": "LTGoKMMMzjij",
        "outputId": "c007ee93-837b-417f-d47d-f350054e0245"
      },
      "source": [
        "grid.best_score_"
      ],
      "id": "LTGoKMMMzjij",
      "execution_count": null,
      "outputs": [
        {
          "output_type": "execute_result",
          "data": {
            "text/plain": [
              "0.6338096597687615"
            ]
          },
          "metadata": {
            "tags": []
          },
          "execution_count": 38
        }
      ]
    },
    {
      "cell_type": "code",
      "metadata": {
        "colab": {
          "base_uri": "https://localhost:8080/",
          "height": 355
        },
        "id": "yqHVHY9g0OYm",
        "outputId": "da1ec9a4-0910-4d26-e415-92ddb783d743"
      },
      "source": [
        "pd.DataFrame(grid.cv_results_).loc[:,[\"mean_train_score\",\"mean_test_score\"]]"
      ],
      "id": "yqHVHY9g0OYm",
      "execution_count": null,
      "outputs": [
        {
          "output_type": "execute_result",
          "data": {
            "text/html": [
              "<div>\n",
              "<style scoped>\n",
              "    .dataframe tbody tr th:only-of-type {\n",
              "        vertical-align: middle;\n",
              "    }\n",
              "\n",
              "    .dataframe tbody tr th {\n",
              "        vertical-align: top;\n",
              "    }\n",
              "\n",
              "    .dataframe thead th {\n",
              "        text-align: right;\n",
              "    }\n",
              "</style>\n",
              "<table border=\"1\" class=\"dataframe\">\n",
              "  <thead>\n",
              "    <tr style=\"text-align: right;\">\n",
              "      <th></th>\n",
              "      <th>mean_train_score</th>\n",
              "      <th>mean_test_score</th>\n",
              "    </tr>\n",
              "  </thead>\n",
              "  <tbody>\n",
              "    <tr>\n",
              "      <th>0</th>\n",
              "      <td>0.527843</td>\n",
              "      <td>0.522049</td>\n",
              "    </tr>\n",
              "    <tr>\n",
              "      <th>1</th>\n",
              "      <td>0.622758</td>\n",
              "      <td>0.598927</td>\n",
              "    </tr>\n",
              "    <tr>\n",
              "      <th>2</th>\n",
              "      <td>0.662435</td>\n",
              "      <td>0.615089</td>\n",
              "    </tr>\n",
              "    <tr>\n",
              "      <th>3</th>\n",
              "      <td>0.690533</td>\n",
              "      <td>0.626382</td>\n",
              "    </tr>\n",
              "    <tr>\n",
              "      <th>4</th>\n",
              "      <td>0.713762</td>\n",
              "      <td>0.633810</td>\n",
              "    </tr>\n",
              "    <tr>\n",
              "      <th>5</th>\n",
              "      <td>0.503678</td>\n",
              "      <td>0.497080</td>\n",
              "    </tr>\n",
              "    <tr>\n",
              "      <th>6</th>\n",
              "      <td>0.587489</td>\n",
              "      <td>0.578085</td>\n",
              "    </tr>\n",
              "    <tr>\n",
              "      <th>7</th>\n",
              "      <td>0.631032</td>\n",
              "      <td>0.604562</td>\n",
              "    </tr>\n",
              "    <tr>\n",
              "      <th>8</th>\n",
              "      <td>0.655890</td>\n",
              "      <td>0.617114</td>\n",
              "    </tr>\n",
              "    <tr>\n",
              "      <th>9</th>\n",
              "      <td>0.675896</td>\n",
              "      <td>0.627076</td>\n",
              "    </tr>\n",
              "  </tbody>\n",
              "</table>\n",
              "</div>"
            ],
            "text/plain": [
              "   mean_train_score  mean_test_score\n",
              "0          0.527843         0.522049\n",
              "1          0.622758         0.598927\n",
              "2          0.662435         0.615089\n",
              "3          0.690533         0.626382\n",
              "4          0.713762         0.633810\n",
              "5          0.503678         0.497080\n",
              "6          0.587489         0.578085\n",
              "7          0.631032         0.604562\n",
              "8          0.655890         0.617114\n",
              "9          0.675896         0.627076"
            ]
          },
          "metadata": {
            "tags": []
          },
          "execution_count": 44
        }
      ]
    },
    {
      "cell_type": "code",
      "metadata": {
        "colab": {
          "base_uri": "https://localhost:8080/"
        },
        "id": "w9gZhu8czmO1",
        "outputId": "172d1196-7b3f-40b7-d9f7-cc391353fd6c"
      },
      "source": [
        "grid.cv_results_"
      ],
      "id": "w9gZhu8czmO1",
      "execution_count": null,
      "outputs": [
        {
          "output_type": "execute_result",
          "data": {
            "text/plain": [
              "{'mean_fit_time': array([0.0588387 , 0.06333523, 0.06579275, 0.06807261, 0.06926956,\n",
              "        4.57528982, 4.78661938, 4.89463739, 4.9308815 , 4.96790595]),\n",
              " 'mean_score_time': array([0.00857439, 0.00853186, 0.0084312 , 0.00850887, 0.00876718,\n",
              "        0.00863938, 0.00912151, 0.00897298, 0.00862508, 0.00865936]),\n",
              " 'mean_test_score': array([0.52204915, 0.59892701, 0.61508872, 0.62638206, 0.63380966,\n",
              "        0.49707986, 0.57808506, 0.60456183, 0.6171142 , 0.62707629]),\n",
              " 'mean_train_score': array([0.52784272, 0.62275792, 0.66243504, 0.69053293, 0.71376243,\n",
              "        0.50367839, 0.58748897, 0.6310324 , 0.65589021, 0.67589591]),\n",
              " 'param_decisiontreeregressor__criterion': masked_array(data=['mse', 'mse', 'mse', 'mse', 'mse', 'mae', 'mae', 'mae',\n",
              "                    'mae', 'mae'],\n",
              "              mask=[False, False, False, False, False, False, False, False,\n",
              "                    False, False],\n",
              "        fill_value='?',\n",
              "             dtype=object),\n",
              " 'param_decisiontreeregressor__max_leaf_nodes': masked_array(data=[10, 20, 30, 40, 50, 10, 20, 30, 40, 50],\n",
              "              mask=[False, False, False, False, False, False, False, False,\n",
              "                    False, False],\n",
              "        fill_value='?',\n",
              "             dtype=object),\n",
              " 'params': [{'decisiontreeregressor__criterion': 'mse',\n",
              "   'decisiontreeregressor__max_leaf_nodes': 10},\n",
              "  {'decisiontreeregressor__criterion': 'mse',\n",
              "   'decisiontreeregressor__max_leaf_nodes': 20},\n",
              "  {'decisiontreeregressor__criterion': 'mse',\n",
              "   'decisiontreeregressor__max_leaf_nodes': 30},\n",
              "  {'decisiontreeregressor__criterion': 'mse',\n",
              "   'decisiontreeregressor__max_leaf_nodes': 40},\n",
              "  {'decisiontreeregressor__criterion': 'mse',\n",
              "   'decisiontreeregressor__max_leaf_nodes': 50},\n",
              "  {'decisiontreeregressor__criterion': 'mae',\n",
              "   'decisiontreeregressor__max_leaf_nodes': 10},\n",
              "  {'decisiontreeregressor__criterion': 'mae',\n",
              "   'decisiontreeregressor__max_leaf_nodes': 20},\n",
              "  {'decisiontreeregressor__criterion': 'mae',\n",
              "   'decisiontreeregressor__max_leaf_nodes': 30},\n",
              "  {'decisiontreeregressor__criterion': 'mae',\n",
              "   'decisiontreeregressor__max_leaf_nodes': 40},\n",
              "  {'decisiontreeregressor__criterion': 'mae',\n",
              "   'decisiontreeregressor__max_leaf_nodes': 50}],\n",
              " 'rank_test_score': array([ 9,  7,  5,  3,  1, 10,  8,  6,  4,  2], dtype=int32),\n",
              " 'split0_test_score': array([0.52322153, 0.5980129 , 0.58829609, 0.62009699, 0.62265896,\n",
              "        0.47929033, 0.5720934 , 0.59139587, 0.61719905, 0.62202356]),\n",
              " 'split0_train_score': array([0.52690912, 0.62551554, 0.66643748, 0.69513145, 0.72736767,\n",
              "        0.47246311, 0.56060295, 0.61366226, 0.63962898, 0.66074439]),\n",
              " 'split1_test_score': array([0.52064327, 0.60871115, 0.62126824, 0.63806574, 0.63688331,\n",
              "        0.52470082, 0.61037905, 0.6345476 , 0.64033425, 0.64843387]),\n",
              " 'split1_train_score': array([0.52819003, 0.62336558, 0.66267877, 0.69108285, 0.7128342 ,\n",
              "        0.52134905, 0.60562658, 0.64175183, 0.67311884, 0.68836152]),\n",
              " 'split2_test_score': array([0.49238214, 0.56210367, 0.59271027, 0.59073718, 0.60391916,\n",
              "        0.47925558, 0.54356617, 0.58928569, 0.60362427, 0.62097627]),\n",
              " 'split2_train_score': array([0.53571454, 0.62849867, 0.6669371 , 0.69358115, 0.71272682,\n",
              "        0.53249729, 0.60638992, 0.65650443, 0.67933095, 0.69377188]),\n",
              " 'split3_test_score': array([0.54205127, 0.61444665, 0.63793854, 0.63106841, 0.64272277,\n",
              "        0.52949947, 0.60334803, 0.62542352, 0.64680572, 0.66255375]),\n",
              " 'split3_train_score': array([0.52337103, 0.62272359, 0.66108377, 0.6895043 , 0.70960036,\n",
              "        0.51689862, 0.60495461, 0.63958399, 0.65816045, 0.67730729]),\n",
              " 'split4_test_score': array([0.53194755, 0.61136069, 0.63523047, 0.651942  , 0.66286411,\n",
              "        0.47265311, 0.56103863, 0.58215649, 0.57760771, 0.58139403]),\n",
              " 'split4_train_score': array([0.52502887, 0.61368623, 0.6550381 , 0.68336489, 0.70628309,\n",
              "        0.47518389, 0.5598708 , 0.6036595 , 0.62921184, 0.65929446]),\n",
              " 'std_fit_time': array([0.00352774, 0.00454781, 0.0013815 , 0.00257254, 0.00109549,\n",
              "        0.39965411, 0.43785082, 0.44770996, 0.45817044, 0.45365846]),\n",
              " 'std_score_time': array([2.87407109e-04, 2.08352598e-04, 3.23515651e-05, 2.85287866e-04,\n",
              "        6.44386406e-04, 1.55038482e-04, 1.00287972e-03, 3.70725684e-04,\n",
              "        1.98763059e-04, 2.03844009e-04]),\n",
              " 'std_test_score': array([0.01662255, 0.01922487, 0.02090278, 0.0206002 , 0.01975263,\n",
              "        0.02467706, 0.02529488, 0.02118045, 0.02515355, 0.02780074]),\n",
              " 'std_train_score': array([0.00426313, 0.00496441, 0.00431018, 0.00407871, 0.00721526,\n",
              "        0.0249154 , 0.02225708, 0.0194312 , 0.01911863, 0.01401507])}"
            ]
          },
          "metadata": {
            "tags": []
          },
          "execution_count": 39
        }
      ]
    },
    {
      "cell_type": "code",
      "metadata": {
        "id": "9eeee47d-31f9-4a14-a6bb-7b71096c0914"
      },
      "source": [
        ""
      ],
      "id": "9eeee47d-31f9-4a14-a6bb-7b71096c0914",
      "execution_count": null,
      "outputs": []
    }
  ]
}