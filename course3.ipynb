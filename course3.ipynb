{
  "nbformat": 4,
  "nbformat_minor": 5,
  "metadata": {
    "kernelspec": {
      "display_name": "Python 3",
      "language": "python",
      "name": "python3"
    },
    "language_info": {
      "codemirror_mode": {
        "name": "ipython",
        "version": 3
      },
      "file_extension": ".py",
      "mimetype": "text/x-python",
      "name": "python",
      "nbconvert_exporter": "python",
      "pygments_lexer": "ipython3",
      "version": "3.7.10"
    },
    "colab": {
      "name": "course3",
      "provenance": [],
      "collapsed_sections": [
        "RHUR0FK4F50i",
        "ZQ0TVbLqGkgB",
        "axD3qWJuSnSp"
      ],
      "toc_visible": true
    }
  },
  "cells": [
    {
      "cell_type": "code",
      "metadata": {
        "id": "Ebj4NbWmF50u"
      },
      "source": [
        "import pandas as pd\n",
        "import numpy as np"
      ],
      "id": "Ebj4NbWmF50u",
      "execution_count": null,
      "outputs": []
    },
    {
      "cell_type": "code",
      "metadata": {
        "colab": {
          "base_uri": "https://localhost:8080/"
        },
        "id": "GXndbUTkF50u",
        "outputId": "a6509ff6-b961-41d0-8b37-fcd50eece26a"
      },
      "source": [
        "from google.colab import drive\n",
        "drive.mount('/content/drive')"
      ],
      "id": "GXndbUTkF50u",
      "execution_count": null,
      "outputs": [
        {
          "output_type": "stream",
          "text": [
            "Mounted at /content/drive\n"
          ],
          "name": "stdout"
        }
      ]
    },
    {
      "cell_type": "markdown",
      "metadata": {
        "id": "60e19b1a-ab97-4c53-8c9e-f9002be98333"
      },
      "source": [
        "## 데이터 프레임 합치기"
      ],
      "id": "60e19b1a-ab97-4c53-8c9e-f9002be98333"
    },
    {
      "cell_type": "markdown",
      "metadata": {
        "id": "9c53598b-0049-4038-897e-72b96c5259dd"
      },
      "source": [
        "- ```python\n",
        "  pd.concat([df1, df2...], axis=...)\n",
        "  ```"
      ],
      "id": "9c53598b-0049-4038-897e-72b96c5259dd"
    },
    {
      "cell_type": "code",
      "metadata": {
        "id": "EMkAyCtQgyuJ"
      },
      "source": [
        "df1 = pd.read_csv(\"/content/drive/MyDrive/data/apt_trade_part1.csv\", index_col=0, parse_dates=True)\n",
        "df2 = pd.read_csv(\"/content/drive/MyDrive/data/apt_trade_part2.csv\", index_col=0, parse_dates=True)"
      ],
      "id": "EMkAyCtQgyuJ",
      "execution_count": null,
      "outputs": []
    },
    {
      "cell_type": "code",
      "metadata": {
        "id": "4252f9e4-aa7c-447d-b23c-4586d93cc54a"
      },
      "source": [
        "df = pd.concat([df1, df2], axis=\"index\")"
      ],
      "id": "4252f9e4-aa7c-447d-b23c-4586d93cc54a",
      "execution_count": null,
      "outputs": []
    },
    {
      "cell_type": "code",
      "metadata": {
        "colab": {
          "base_uri": "https://localhost:8080/"
        },
        "id": "XjVKMU0LiQbK",
        "outputId": "eb7f38b2-cd05-4c78-8bdf-90a4edb9db0e"
      },
      "source": [
        "# 내가 예상한대로 정확히 된건가?\n",
        "# 합쳐진 데이터프레임의 행이 각 데이터프레임의 행의 합과 같은가? \n",
        "df.shape[0] == df1.shape[0] + df2.shape[0]"
      ],
      "id": "XjVKMU0LiQbK",
      "execution_count": null,
      "outputs": [
        {
          "output_type": "execute_result",
          "data": {
            "text/plain": [
              "True"
            ]
          },
          "metadata": {
            "tags": []
          },
          "execution_count": 5
        }
      ]
    },
    {
      "cell_type": "code",
      "metadata": {
        "colab": {
          "base_uri": "https://localhost:8080/",
          "height": 171
        },
        "id": "vvG2tHewiT71",
        "outputId": "c4c1c559-286d-442e-c818-89dd70357867"
      },
      "source": [
        "# 데이터 check\n",
        "# ex) df.head() # from the top\n",
        "#     df.tail() # from the botton\n",
        "df.sample(3) # random 샘플링"
      ],
      "id": "vvG2tHewiT71",
      "execution_count": null,
      "outputs": [
        {
          "output_type": "execute_result",
          "data": {
            "text/html": [
              "<div>\n",
              "<style scoped>\n",
              "    .dataframe tbody tr th:only-of-type {\n",
              "        vertical-align: middle;\n",
              "    }\n",
              "\n",
              "    .dataframe tbody tr th {\n",
              "        vertical-align: top;\n",
              "    }\n",
              "\n",
              "    .dataframe thead th {\n",
              "        text-align: right;\n",
              "    }\n",
              "</style>\n",
              "<table border=\"1\" class=\"dataframe\">\n",
              "  <thead>\n",
              "    <tr style=\"text-align: right;\">\n",
              "      <th></th>\n",
              "      <th>apt</th>\n",
              "      <th>area</th>\n",
              "      <th>transaction</th>\n",
              "      <th>floor</th>\n",
              "      <th>built</th>\n",
              "      <th>road</th>\n",
              "      <th>year</th>\n",
              "      <th>month</th>\n",
              "      <th>day</th>\n",
              "      <th>city</th>\n",
              "      <th>gu</th>\n",
              "      <th>dong</th>\n",
              "    </tr>\n",
              "    <tr>\n",
              "      <th>cdate</th>\n",
              "      <th></th>\n",
              "      <th></th>\n",
              "      <th></th>\n",
              "      <th></th>\n",
              "      <th></th>\n",
              "      <th></th>\n",
              "      <th></th>\n",
              "      <th></th>\n",
              "      <th></th>\n",
              "      <th></th>\n",
              "      <th></th>\n",
              "      <th></th>\n",
              "    </tr>\n",
              "  </thead>\n",
              "  <tbody>\n",
              "    <tr>\n",
              "      <th>2019-11-27</th>\n",
              "      <td>칠곡대백맨션</td>\n",
              "      <td>59.940</td>\n",
              "      <td>12400</td>\n",
              "      <td>5</td>\n",
              "      <td>1993</td>\n",
              "      <td>관음로 24</td>\n",
              "      <td>2019</td>\n",
              "      <td>11</td>\n",
              "      <td>27</td>\n",
              "      <td>대구광역시</td>\n",
              "      <td>북구</td>\n",
              "      <td>태전동</td>\n",
              "    </tr>\n",
              "    <tr>\n",
              "      <th>2021-04-21</th>\n",
              "      <td>백자</td>\n",
              "      <td>70.775</td>\n",
              "      <td>22000</td>\n",
              "      <td>3</td>\n",
              "      <td>1989</td>\n",
              "      <td>동촌로 346</td>\n",
              "      <td>2021</td>\n",
              "      <td>4</td>\n",
              "      <td>21</td>\n",
              "      <td>대구광역시</td>\n",
              "      <td>동구</td>\n",
              "      <td>용계동</td>\n",
              "    </tr>\n",
              "    <tr>\n",
              "      <th>2020-06-11</th>\n",
              "      <td>효성타운1차</td>\n",
              "      <td>108.380</td>\n",
              "      <td>37000</td>\n",
              "      <td>1</td>\n",
              "      <td>1988</td>\n",
              "      <td>효성중앙길 37</td>\n",
              "      <td>2020</td>\n",
              "      <td>6</td>\n",
              "      <td>11</td>\n",
              "      <td>대구광역시</td>\n",
              "      <td>남구</td>\n",
              "      <td>봉덕동</td>\n",
              "    </tr>\n",
              "  </tbody>\n",
              "</table>\n",
              "</div>"
            ],
            "text/plain": [
              "               apt     area  transaction  floor  ...  day   city  gu  dong\n",
              "cdate                                            ...                      \n",
              "2019-11-27  칠곡대백맨션   59.940        12400      5  ...   27  대구광역시  북구   태전동\n",
              "2021-04-21      백자   70.775        22000      3  ...   21  대구광역시  동구   용계동\n",
              "2020-06-11  효성타운1차  108.380        37000      1  ...   11  대구광역시  남구   봉덕동\n",
              "\n",
              "[3 rows x 12 columns]"
            ]
          },
          "metadata": {
            "tags": []
          },
          "execution_count": 6
        }
      ]
    },
    {
      "cell_type": "code",
      "metadata": {
        "colab": {
          "base_uri": "https://localhost:8080/"
        },
        "id": "mycDzMhCBHNf",
        "outputId": "8c955cdb-e15d-423f-9fb4-7916205d4338"
      },
      "source": [
        "df.info() # datatype, na 값 확인"
      ],
      "id": "mycDzMhCBHNf",
      "execution_count": null,
      "outputs": [
        {
          "output_type": "stream",
          "text": [
            "<class 'pandas.core.frame.DataFrame'>\n",
            "DatetimeIndex: 74822 entries, 2020-05-14 to 2020-12-17\n",
            "Data columns (total 12 columns):\n",
            " #   Column       Non-Null Count  Dtype  \n",
            "---  ------       --------------  -----  \n",
            " 0   apt          74822 non-null  object \n",
            " 1   area         74822 non-null  float64\n",
            " 2   transaction  74822 non-null  int64  \n",
            " 3   floor        74822 non-null  int64  \n",
            " 4   built        74822 non-null  int64  \n",
            " 5   road         74822 non-null  object \n",
            " 6   year         74822 non-null  int64  \n",
            " 7   month        74822 non-null  int64  \n",
            " 8   day          74822 non-null  int64  \n",
            " 9   city         74822 non-null  object \n",
            " 10  gu           74822 non-null  object \n",
            " 11  dong         74822 non-null  object \n",
            "dtypes: float64(1), int64(6), object(5)\n",
            "memory usage: 7.4+ MB\n"
          ],
          "name": "stdout"
        }
      ]
    },
    {
      "cell_type": "markdown",
      "metadata": {
        "id": "abd477a0-d52d-4f1f-bdcc-0d88c9c4c927"
      },
      "source": [
        "\n",
        "- 인덱스 정렬하기\n",
        "    - ```python\n",
        "df.sort_index()\n",
        "```"
      ],
      "id": "abd477a0-d52d-4f1f-bdcc-0d88c9c4c927"
    },
    {
      "cell_type": "code",
      "metadata": {
        "id": "70e5c3a8-e6e8-46bf-8342-68061446622b",
        "colab": {
          "base_uri": "https://localhost:8080/",
          "height": 232
        },
        "outputId": "dc72017f-18ad-42be-96ba-059140c135e1"
      },
      "source": [
        "# 데이터를 인덱스 순서(시간순서)대로 정렬\n",
        "df = df.sort_index()\n",
        "df.tail()"
      ],
      "id": "70e5c3a8-e6e8-46bf-8342-68061446622b",
      "execution_count": null,
      "outputs": [
        {
          "output_type": "execute_result",
          "data": {
            "text/html": [
              "<div>\n",
              "<style scoped>\n",
              "    .dataframe tbody tr th:only-of-type {\n",
              "        vertical-align: middle;\n",
              "    }\n",
              "\n",
              "    .dataframe tbody tr th {\n",
              "        vertical-align: top;\n",
              "    }\n",
              "\n",
              "    .dataframe thead th {\n",
              "        text-align: right;\n",
              "    }\n",
              "</style>\n",
              "<table border=\"1\" class=\"dataframe\">\n",
              "  <thead>\n",
              "    <tr style=\"text-align: right;\">\n",
              "      <th></th>\n",
              "      <th>apt</th>\n",
              "      <th>area</th>\n",
              "      <th>transaction</th>\n",
              "      <th>floor</th>\n",
              "      <th>built</th>\n",
              "      <th>road</th>\n",
              "      <th>year</th>\n",
              "      <th>month</th>\n",
              "      <th>day</th>\n",
              "      <th>city</th>\n",
              "      <th>gu</th>\n",
              "      <th>dong</th>\n",
              "    </tr>\n",
              "    <tr>\n",
              "      <th>cdate</th>\n",
              "      <th></th>\n",
              "      <th></th>\n",
              "      <th></th>\n",
              "      <th></th>\n",
              "      <th></th>\n",
              "      <th></th>\n",
              "      <th></th>\n",
              "      <th></th>\n",
              "      <th></th>\n",
              "      <th></th>\n",
              "      <th></th>\n",
              "      <th></th>\n",
              "    </tr>\n",
              "  </thead>\n",
              "  <tbody>\n",
              "    <tr>\n",
              "      <th>2021-05-31</th>\n",
              "      <td>아름다운나날3</td>\n",
              "      <td>84.6139</td>\n",
              "      <td>31900</td>\n",
              "      <td>15</td>\n",
              "      <td>2003</td>\n",
              "      <td>동호로 132</td>\n",
              "      <td>2021</td>\n",
              "      <td>5</td>\n",
              "      <td>31</td>\n",
              "      <td>대구광역시</td>\n",
              "      <td>동구</td>\n",
              "      <td>신서동</td>\n",
              "    </tr>\n",
              "    <tr>\n",
              "      <th>2021-05-31</th>\n",
              "      <td>화성그랜드파크</td>\n",
              "      <td>110.4038</td>\n",
              "      <td>48000</td>\n",
              "      <td>3</td>\n",
              "      <td>2003</td>\n",
              "      <td>구암로65길 9</td>\n",
              "      <td>2021</td>\n",
              "      <td>5</td>\n",
              "      <td>31</td>\n",
              "      <td>대구광역시</td>\n",
              "      <td>북구</td>\n",
              "      <td>구암동</td>\n",
              "    </tr>\n",
              "    <tr>\n",
              "      <th>2021-05-31</th>\n",
              "      <td>내당시영</td>\n",
              "      <td>55.3400</td>\n",
              "      <td>34150</td>\n",
              "      <td>3</td>\n",
              "      <td>1979</td>\n",
              "      <td>서대구로8길 15</td>\n",
              "      <td>2021</td>\n",
              "      <td>5</td>\n",
              "      <td>31</td>\n",
              "      <td>대구광역시</td>\n",
              "      <td>서구</td>\n",
              "      <td>내당동</td>\n",
              "    </tr>\n",
              "    <tr>\n",
              "      <th>2021-05-31</th>\n",
              "      <td>롯데캐슬오페라</td>\n",
              "      <td>84.9100</td>\n",
              "      <td>48800</td>\n",
              "      <td>15</td>\n",
              "      <td>2005</td>\n",
              "      <td>침산남로 160</td>\n",
              "      <td>2021</td>\n",
              "      <td>5</td>\n",
              "      <td>31</td>\n",
              "      <td>대구광역시</td>\n",
              "      <td>북구</td>\n",
              "      <td>침산동</td>\n",
              "    </tr>\n",
              "    <tr>\n",
              "      <th>2021-05-31</th>\n",
              "      <td>칠곡미래타운</td>\n",
              "      <td>84.9900</td>\n",
              "      <td>26000</td>\n",
              "      <td>9</td>\n",
              "      <td>1995</td>\n",
              "      <td>팔거천동로 52</td>\n",
              "      <td>2021</td>\n",
              "      <td>5</td>\n",
              "      <td>31</td>\n",
              "      <td>대구광역시</td>\n",
              "      <td>북구</td>\n",
              "      <td>구암동</td>\n",
              "    </tr>\n",
              "  </tbody>\n",
              "</table>\n",
              "</div>"
            ],
            "text/plain": [
              "                apt      area  transaction  floor  ...  day   city  gu  dong\n",
              "cdate                                              ...                      \n",
              "2021-05-31  아름다운나날3   84.6139        31900     15  ...   31  대구광역시  동구   신서동\n",
              "2021-05-31  화성그랜드파크  110.4038        48000      3  ...   31  대구광역시  북구   구암동\n",
              "2021-05-31     내당시영   55.3400        34150      3  ...   31  대구광역시  서구   내당동\n",
              "2021-05-31  롯데캐슬오페라   84.9100        48800     15  ...   31  대구광역시  북구   침산동\n",
              "2021-05-31   칠곡미래타운   84.9900        26000      9  ...   31  대구광역시  북구   구암동\n",
              "\n",
              "[5 rows x 12 columns]"
            ]
          },
          "metadata": {
            "tags": []
          },
          "execution_count": 8
        }
      ]
    },
    {
      "cell_type": "code",
      "metadata": {
        "id": "0e01819f-1ddb-4f14-aabb-97249e8cc6f5",
        "colab": {
          "base_uri": "https://localhost:8080/",
          "height": 445
        },
        "outputId": "0b856858-f41b-4e9f-b9b0-108a8ce313a1"
      },
      "source": [
        "# Pandas dataframe timeseries indexing\n",
        "# df.loc[\"2021\":]\n",
        "df.loc[\"20200101\":]"
      ],
      "id": "0e01819f-1ddb-4f14-aabb-97249e8cc6f5",
      "execution_count": null,
      "outputs": [
        {
          "output_type": "execute_result",
          "data": {
            "text/html": [
              "<div>\n",
              "<style scoped>\n",
              "    .dataframe tbody tr th:only-of-type {\n",
              "        vertical-align: middle;\n",
              "    }\n",
              "\n",
              "    .dataframe tbody tr th {\n",
              "        vertical-align: top;\n",
              "    }\n",
              "\n",
              "    .dataframe thead th {\n",
              "        text-align: right;\n",
              "    }\n",
              "</style>\n",
              "<table border=\"1\" class=\"dataframe\">\n",
              "  <thead>\n",
              "    <tr style=\"text-align: right;\">\n",
              "      <th></th>\n",
              "      <th>apt</th>\n",
              "      <th>area</th>\n",
              "      <th>transaction</th>\n",
              "      <th>floor</th>\n",
              "      <th>built</th>\n",
              "      <th>road</th>\n",
              "      <th>year</th>\n",
              "      <th>month</th>\n",
              "      <th>day</th>\n",
              "      <th>city</th>\n",
              "      <th>gu</th>\n",
              "      <th>dong</th>\n",
              "    </tr>\n",
              "    <tr>\n",
              "      <th>cdate</th>\n",
              "      <th></th>\n",
              "      <th></th>\n",
              "      <th></th>\n",
              "      <th></th>\n",
              "      <th></th>\n",
              "      <th></th>\n",
              "      <th></th>\n",
              "      <th></th>\n",
              "      <th></th>\n",
              "      <th></th>\n",
              "      <th></th>\n",
              "      <th></th>\n",
              "    </tr>\n",
              "  </thead>\n",
              "  <tbody>\n",
              "    <tr>\n",
              "      <th>2020-01-01</th>\n",
              "      <td>밀레니엄</td>\n",
              "      <td>106.8300</td>\n",
              "      <td>40000</td>\n",
              "      <td>5</td>\n",
              "      <td>2001</td>\n",
              "      <td>신암북로7길 59</td>\n",
              "      <td>2020</td>\n",
              "      <td>1</td>\n",
              "      <td>1</td>\n",
              "      <td>대구광역시</td>\n",
              "      <td>동구</td>\n",
              "      <td>신암동</td>\n",
              "    </tr>\n",
              "    <tr>\n",
              "      <th>2020-01-01</th>\n",
              "      <td>청구타운</td>\n",
              "      <td>84.9250</td>\n",
              "      <td>28900</td>\n",
              "      <td>17</td>\n",
              "      <td>1995</td>\n",
              "      <td>진천로 41</td>\n",
              "      <td>2020</td>\n",
              "      <td>1</td>\n",
              "      <td>1</td>\n",
              "      <td>대구광역시</td>\n",
              "      <td>달서구</td>\n",
              "      <td>진천동</td>\n",
              "    </tr>\n",
              "    <tr>\n",
              "      <th>2020-01-01</th>\n",
              "      <td>수성풀비체</td>\n",
              "      <td>84.7456</td>\n",
              "      <td>32100</td>\n",
              "      <td>4</td>\n",
              "      <td>2007</td>\n",
              "      <td>화랑로32길 91</td>\n",
              "      <td>2020</td>\n",
              "      <td>1</td>\n",
              "      <td>1</td>\n",
              "      <td>대구광역시</td>\n",
              "      <td>수성구</td>\n",
              "      <td>만촌동</td>\n",
              "    </tr>\n",
              "    <tr>\n",
              "      <th>2020-01-01</th>\n",
              "      <td>시지3태왕하이츠</td>\n",
              "      <td>85.0000</td>\n",
              "      <td>33000</td>\n",
              "      <td>6</td>\n",
              "      <td>2001</td>\n",
              "      <td>욱수천로 77</td>\n",
              "      <td>2020</td>\n",
              "      <td>1</td>\n",
              "      <td>1</td>\n",
              "      <td>대구광역시</td>\n",
              "      <td>수성구</td>\n",
              "      <td>신매동</td>\n",
              "    </tr>\n",
              "    <tr>\n",
              "      <th>2020-01-01</th>\n",
              "      <td>대실역동화아이위시</td>\n",
              "      <td>84.7680</td>\n",
              "      <td>35000</td>\n",
              "      <td>7</td>\n",
              "      <td>2008</td>\n",
              "      <td>대실역북로 55</td>\n",
              "      <td>2020</td>\n",
              "      <td>1</td>\n",
              "      <td>1</td>\n",
              "      <td>대구광역시</td>\n",
              "      <td>달성군</td>\n",
              "      <td>다사읍 매곡리</td>\n",
              "    </tr>\n",
              "    <tr>\n",
              "      <th>...</th>\n",
              "      <td>...</td>\n",
              "      <td>...</td>\n",
              "      <td>...</td>\n",
              "      <td>...</td>\n",
              "      <td>...</td>\n",
              "      <td>...</td>\n",
              "      <td>...</td>\n",
              "      <td>...</td>\n",
              "      <td>...</td>\n",
              "      <td>...</td>\n",
              "      <td>...</td>\n",
              "      <td>...</td>\n",
              "    </tr>\n",
              "    <tr>\n",
              "      <th>2021-05-31</th>\n",
              "      <td>아름다운나날3</td>\n",
              "      <td>84.6139</td>\n",
              "      <td>31900</td>\n",
              "      <td>15</td>\n",
              "      <td>2003</td>\n",
              "      <td>동호로 132</td>\n",
              "      <td>2021</td>\n",
              "      <td>5</td>\n",
              "      <td>31</td>\n",
              "      <td>대구광역시</td>\n",
              "      <td>동구</td>\n",
              "      <td>신서동</td>\n",
              "    </tr>\n",
              "    <tr>\n",
              "      <th>2021-05-31</th>\n",
              "      <td>화성그랜드파크</td>\n",
              "      <td>110.4038</td>\n",
              "      <td>48000</td>\n",
              "      <td>3</td>\n",
              "      <td>2003</td>\n",
              "      <td>구암로65길 9</td>\n",
              "      <td>2021</td>\n",
              "      <td>5</td>\n",
              "      <td>31</td>\n",
              "      <td>대구광역시</td>\n",
              "      <td>북구</td>\n",
              "      <td>구암동</td>\n",
              "    </tr>\n",
              "    <tr>\n",
              "      <th>2021-05-31</th>\n",
              "      <td>내당시영</td>\n",
              "      <td>55.3400</td>\n",
              "      <td>34150</td>\n",
              "      <td>3</td>\n",
              "      <td>1979</td>\n",
              "      <td>서대구로8길 15</td>\n",
              "      <td>2021</td>\n",
              "      <td>5</td>\n",
              "      <td>31</td>\n",
              "      <td>대구광역시</td>\n",
              "      <td>서구</td>\n",
              "      <td>내당동</td>\n",
              "    </tr>\n",
              "    <tr>\n",
              "      <th>2021-05-31</th>\n",
              "      <td>롯데캐슬오페라</td>\n",
              "      <td>84.9100</td>\n",
              "      <td>48800</td>\n",
              "      <td>15</td>\n",
              "      <td>2005</td>\n",
              "      <td>침산남로 160</td>\n",
              "      <td>2021</td>\n",
              "      <td>5</td>\n",
              "      <td>31</td>\n",
              "      <td>대구광역시</td>\n",
              "      <td>북구</td>\n",
              "      <td>침산동</td>\n",
              "    </tr>\n",
              "    <tr>\n",
              "      <th>2021-05-31</th>\n",
              "      <td>칠곡미래타운</td>\n",
              "      <td>84.9900</td>\n",
              "      <td>26000</td>\n",
              "      <td>9</td>\n",
              "      <td>1995</td>\n",
              "      <td>팔거천동로 52</td>\n",
              "      <td>2021</td>\n",
              "      <td>5</td>\n",
              "      <td>31</td>\n",
              "      <td>대구광역시</td>\n",
              "      <td>북구</td>\n",
              "      <td>구암동</td>\n",
              "    </tr>\n",
              "  </tbody>\n",
              "</table>\n",
              "<p>56726 rows × 12 columns</p>\n",
              "</div>"
            ],
            "text/plain": [
              "                  apt      area  transaction  floor  ...  day   city   gu     dong\n",
              "cdate                                                ...                          \n",
              "2020-01-01       밀레니엄  106.8300        40000      5  ...    1  대구광역시   동구      신암동\n",
              "2020-01-01       청구타운   84.9250        28900     17  ...    1  대구광역시  달서구      진천동\n",
              "2020-01-01      수성풀비체   84.7456        32100      4  ...    1  대구광역시  수성구      만촌동\n",
              "2020-01-01   시지3태왕하이츠   85.0000        33000      6  ...    1  대구광역시  수성구      신매동\n",
              "2020-01-01  대실역동화아이위시   84.7680        35000      7  ...    1  대구광역시  달성군  다사읍 매곡리\n",
              "...               ...       ...          ...    ...  ...  ...    ...  ...      ...\n",
              "2021-05-31    아름다운나날3   84.6139        31900     15  ...   31  대구광역시   동구      신서동\n",
              "2021-05-31    화성그랜드파크  110.4038        48000      3  ...   31  대구광역시   북구      구암동\n",
              "2021-05-31       내당시영   55.3400        34150      3  ...   31  대구광역시   서구      내당동\n",
              "2021-05-31    롯데캐슬오페라   84.9100        48800     15  ...   31  대구광역시   북구      침산동\n",
              "2021-05-31     칠곡미래타운   84.9900        26000      9  ...   31  대구광역시   북구      구암동\n",
              "\n",
              "[56726 rows x 12 columns]"
            ]
          },
          "metadata": {
            "tags": []
          },
          "execution_count": 9
        }
      ]
    },
    {
      "cell_type": "markdown",
      "metadata": {
        "id": "y7-WZpmsLA_c"
      },
      "source": [
        ""
      ],
      "id": "y7-WZpmsLA_c"
    },
    {
      "cell_type": "markdown",
      "metadata": {
        "id": "RHUR0FK4F50i"
      },
      "source": [
        "## Aggregation"
      ],
      "id": "RHUR0FK4F50i"
    },
    {
      "cell_type": "markdown",
      "metadata": {
        "id": "v36H8mZ1LHRb"
      },
      "source": [
        "- Aggregate using one or more operations over the specified axis.\n",
        "- aggregation에 넘길수 있는 케이스\n",
        "    - function\n",
        "    - str\n",
        "    - list or dict"
      ],
      "id": "v36H8mZ1LHRb"
    },
    {
      "cell_type": "code",
      "metadata": {
        "colab": {
          "base_uri": "https://localhost:8080/"
        },
        "id": "6EPzMYZNF50s",
        "outputId": "1d677f61-42ae-4c3a-cbf5-065753e8fc4b"
      },
      "source": [
        "number_df = df.select_dtypes(include=[\"number\"]) # 숫자 datatype 인 column 만 선택\n",
        "number_df.sample(2)"
      ],
      "id": "6EPzMYZNF50s",
      "execution_count": null,
      "outputs": [
        {
          "output_type": "execute_result",
          "data": {
            "text/html": [
              "<div>\n",
              "<style scoped>\n",
              "    .dataframe tbody tr th:only-of-type {\n",
              "        vertical-align: middle;\n",
              "    }\n",
              "\n",
              "    .dataframe tbody tr th {\n",
              "        vertical-align: top;\n",
              "    }\n",
              "\n",
              "    .dataframe thead th {\n",
              "        text-align: right;\n",
              "    }\n",
              "</style>\n",
              "<table border=\"1\" class=\"dataframe\">\n",
              "  <thead>\n",
              "    <tr style=\"text-align: right;\">\n",
              "      <th></th>\n",
              "      <th>area</th>\n",
              "      <th>transaction</th>\n",
              "      <th>floor</th>\n",
              "      <th>built</th>\n",
              "      <th>year</th>\n",
              "      <th>month</th>\n",
              "      <th>day</th>\n",
              "    </tr>\n",
              "    <tr>\n",
              "      <th>cdate</th>\n",
              "      <th></th>\n",
              "      <th></th>\n",
              "      <th></th>\n",
              "      <th></th>\n",
              "      <th></th>\n",
              "      <th></th>\n",
              "      <th></th>\n",
              "    </tr>\n",
              "  </thead>\n",
              "  <tbody>\n",
              "    <tr>\n",
              "      <th>2020-08-10</th>\n",
              "      <td>43.200</td>\n",
              "      <td>9500</td>\n",
              "      <td>2</td>\n",
              "      <td>1993</td>\n",
              "      <td>2020</td>\n",
              "      <td>8</td>\n",
              "      <td>10</td>\n",
              "    </tr>\n",
              "    <tr>\n",
              "      <th>2020-08-18</th>\n",
              "      <td>106.967</td>\n",
              "      <td>54000</td>\n",
              "      <td>8</td>\n",
              "      <td>2006</td>\n",
              "      <td>2020</td>\n",
              "      <td>8</td>\n",
              "      <td>18</td>\n",
              "    </tr>\n",
              "  </tbody>\n",
              "</table>\n",
              "</div>"
            ],
            "text/plain": [
              "               area  transaction  floor  built  year  month  day\n",
              "cdate                                                           \n",
              "2020-08-10   43.200         9500      2   1993  2020      8   10\n",
              "2020-08-18  106.967        54000      8   2006  2020      8   18"
            ]
          },
          "metadata": {
            "tags": []
          },
          "execution_count": 10
        }
      ]
    },
    {
      "cell_type": "code",
      "metadata": {
        "colab": {
          "base_uri": "https://localhost:8080/"
        },
        "id": "gnMDFy3HF50s",
        "outputId": "065aaf16-e196-4ceb-de2d-a3d131a4df95"
      },
      "source": [
        "number_df.area.agg(sum) # python 에서 미리 정의 된 함수 sum"
      ],
      "id": "gnMDFy3HF50s",
      "execution_count": null,
      "outputs": [
        {
          "output_type": "execute_result",
          "data": {
            "text/plain": [
              "5814165.164899999"
            ]
          },
          "metadata": {
            "tags": []
          },
          "execution_count": 11
        }
      ]
    },
    {
      "cell_type": "code",
      "metadata": {
        "colab": {
          "base_uri": "https://localhost:8080/"
        },
        "id": "QlcmywFoF50t",
        "outputId": "a0718dc8-434a-4ab7-86d9-fd2a024f13ad"
      },
      "source": [
        "number_df.area.agg(lambda x: x.sum())"
      ],
      "id": "QlcmywFoF50t",
      "execution_count": null,
      "outputs": [
        {
          "output_type": "execute_result",
          "data": {
            "text/plain": [
              "5814165.164899999"
            ]
          },
          "metadata": {
            "tags": []
          },
          "execution_count": 12
        }
      ]
    },
    {
      "cell_type": "code",
      "metadata": {
        "colab": {
          "base_uri": "https://localhost:8080/"
        },
        "id": "U7bPlpBJF50t",
        "outputId": "7e08d68e-222c-49d3-e063-0be32e0758fe"
      },
      "source": [
        "number_df.agg(sum)"
      ],
      "id": "U7bPlpBJF50t",
      "execution_count": null,
      "outputs": [
        {
          "output_type": "execute_result",
          "data": {
            "text/plain": [
              "area           5.814165e+06\n",
              "transaction    2.376125e+09\n",
              "floor          7.188420e+05\n",
              "built          1.498070e+08\n",
              "year           1.511315e+08\n",
              "month          5.501510e+05\n",
              "day            1.180816e+06\n",
              "dtype: float64"
            ]
          },
          "metadata": {
            "tags": []
          },
          "execution_count": 13
        }
      ]
    },
    {
      "cell_type": "code",
      "metadata": {
        "colab": {
          "base_uri": "https://localhost:8080/"
        },
        "id": "V-N1y7AtF50t",
        "outputId": "c8debe3a-7fb9-4903-e8ce-d06e034fa158"
      },
      "source": [
        "number_df.agg(['sum', 'mean'])"
      ],
      "id": "V-N1y7AtF50t",
      "execution_count": null,
      "outputs": [
        {
          "output_type": "execute_result",
          "data": {
            "text/html": [
              "<div>\n",
              "<style scoped>\n",
              "    .dataframe tbody tr th:only-of-type {\n",
              "        vertical-align: middle;\n",
              "    }\n",
              "\n",
              "    .dataframe tbody tr th {\n",
              "        vertical-align: top;\n",
              "    }\n",
              "\n",
              "    .dataframe thead th {\n",
              "        text-align: right;\n",
              "    }\n",
              "</style>\n",
              "<table border=\"1\" class=\"dataframe\">\n",
              "  <thead>\n",
              "    <tr style=\"text-align: right;\">\n",
              "      <th></th>\n",
              "      <th>area</th>\n",
              "      <th>transaction</th>\n",
              "      <th>floor</th>\n",
              "      <th>built</th>\n",
              "      <th>year</th>\n",
              "      <th>month</th>\n",
              "      <th>day</th>\n",
              "    </tr>\n",
              "  </thead>\n",
              "  <tbody>\n",
              "    <tr>\n",
              "      <th>sum</th>\n",
              "      <td>5.814165e+06</td>\n",
              "      <td>2.376125e+09</td>\n",
              "      <td>718842.000000</td>\n",
              "      <td>1.498070e+08</td>\n",
              "      <td>1.511315e+08</td>\n",
              "      <td>550151.000000</td>\n",
              "      <td>1.180816e+06</td>\n",
              "    </tr>\n",
              "    <tr>\n",
              "      <th>mean</th>\n",
              "      <td>7.770663e+01</td>\n",
              "      <td>3.175704e+04</td>\n",
              "      <td>9.607361</td>\n",
              "      <td>2.002179e+03</td>\n",
              "      <td>2.019881e+03</td>\n",
              "      <td>7.352797</td>\n",
              "      <td>1.578167e+01</td>\n",
              "    </tr>\n",
              "  </tbody>\n",
              "</table>\n",
              "</div>"
            ],
            "text/plain": [
              "              area   transaction  ...          month           day\n",
              "sum   5.814165e+06  2.376125e+09  ...  550151.000000  1.180816e+06\n",
              "mean  7.770663e+01  3.175704e+04  ...       7.352797  1.578167e+01\n",
              "\n",
              "[2 rows x 7 columns]"
            ]
          },
          "metadata": {
            "tags": []
          },
          "execution_count": 14
        }
      ]
    },
    {
      "cell_type": "code",
      "metadata": {
        "colab": {
          "base_uri": "https://localhost:8080/"
        },
        "id": "tWHEsxDtF50u",
        "outputId": "e79e7fe8-5d54-464b-c132-589be0c6a97e"
      },
      "source": [
        "# 내가 정의한 함수\n",
        "def my_sum(data):\n",
        "    return data.sum()\n",
        "\n",
        "number_df.agg([sum, lambda x: x.sum(), my_sum])\n"
      ],
      "id": "tWHEsxDtF50u",
      "execution_count": null,
      "outputs": [
        {
          "output_type": "execute_result",
          "data": {
            "text/html": [
              "<div>\n",
              "<style scoped>\n",
              "    .dataframe tbody tr th:only-of-type {\n",
              "        vertical-align: middle;\n",
              "    }\n",
              "\n",
              "    .dataframe tbody tr th {\n",
              "        vertical-align: top;\n",
              "    }\n",
              "\n",
              "    .dataframe thead th {\n",
              "        text-align: right;\n",
              "    }\n",
              "</style>\n",
              "<table border=\"1\" class=\"dataframe\">\n",
              "  <thead>\n",
              "    <tr style=\"text-align: right;\">\n",
              "      <th></th>\n",
              "      <th>area</th>\n",
              "      <th>transaction</th>\n",
              "      <th>floor</th>\n",
              "      <th>built</th>\n",
              "      <th>year</th>\n",
              "      <th>month</th>\n",
              "      <th>day</th>\n",
              "    </tr>\n",
              "  </thead>\n",
              "  <tbody>\n",
              "    <tr>\n",
              "      <th>sum</th>\n",
              "      <td>5.814165e+06</td>\n",
              "      <td>2376124990</td>\n",
              "      <td>718842</td>\n",
              "      <td>149807012</td>\n",
              "      <td>151131540</td>\n",
              "      <td>550151</td>\n",
              "      <td>1180816</td>\n",
              "    </tr>\n",
              "    <tr>\n",
              "      <th>&lt;lambda&gt;</th>\n",
              "      <td>5.814165e+06</td>\n",
              "      <td>2376124990</td>\n",
              "      <td>718842</td>\n",
              "      <td>149807012</td>\n",
              "      <td>151131540</td>\n",
              "      <td>550151</td>\n",
              "      <td>1180816</td>\n",
              "    </tr>\n",
              "    <tr>\n",
              "      <th>my_sum</th>\n",
              "      <td>5.814165e+06</td>\n",
              "      <td>2376124990</td>\n",
              "      <td>718842</td>\n",
              "      <td>149807012</td>\n",
              "      <td>151131540</td>\n",
              "      <td>550151</td>\n",
              "      <td>1180816</td>\n",
              "    </tr>\n",
              "  </tbody>\n",
              "</table>\n",
              "</div>"
            ],
            "text/plain": [
              "                  area  transaction   floor  ...       year   month      day\n",
              "sum       5.814165e+06   2376124990  718842  ...  151131540  550151  1180816\n",
              "<lambda>  5.814165e+06   2376124990  718842  ...  151131540  550151  1180816\n",
              "my_sum    5.814165e+06   2376124990  718842  ...  151131540  550151  1180816\n",
              "\n",
              "[3 rows x 7 columns]"
            ]
          },
          "metadata": {
            "tags": []
          },
          "execution_count": 15
        }
      ]
    },
    {
      "cell_type": "markdown",
      "metadata": {
        "id": "ODdnveF4F50v"
      },
      "source": [
        "### Aggregation with dict"
      ],
      "id": "ODdnveF4F50v"
    },
    {
      "cell_type": "code",
      "metadata": {
        "colab": {
          "base_uri": "https://localhost:8080/"
        },
        "id": "Oj3i1yrFF50v",
        "outputId": "d1a60108-5e54-4f24-9b27-d3e1b979c07f"
      },
      "source": [
        "number_df.agg({\n",
        "    \"transaction\": \"median\",\n",
        "    \"floor\":\"max\"\n",
        "})"
      ],
      "id": "Oj3i1yrFF50v",
      "execution_count": null,
      "outputs": [
        {
          "output_type": "execute_result",
          "data": {
            "text/plain": [
              "transaction    27400.0\n",
              "floor             53.0\n",
              "dtype: float64"
            ]
          },
          "metadata": {
            "tags": []
          },
          "execution_count": 16
        }
      ]
    },
    {
      "cell_type": "code",
      "metadata": {
        "colab": {
          "base_uri": "https://localhost:8080/"
        },
        "id": "gySivsYEF50v",
        "outputId": "31d420a4-1db2-47ef-8b69-d4d71a2ab654"
      },
      "source": [
        "number_df.agg({\n",
        "    \"transaction\": [\"median\", \"mean\"],\n",
        "    \"floor\":\"max\"\n",
        "})"
      ],
      "id": "gySivsYEF50v",
      "execution_count": null,
      "outputs": [
        {
          "output_type": "execute_result",
          "data": {
            "text/html": [
              "<div>\n",
              "<style scoped>\n",
              "    .dataframe tbody tr th:only-of-type {\n",
              "        vertical-align: middle;\n",
              "    }\n",
              "\n",
              "    .dataframe tbody tr th {\n",
              "        vertical-align: top;\n",
              "    }\n",
              "\n",
              "    .dataframe thead th {\n",
              "        text-align: right;\n",
              "    }\n",
              "</style>\n",
              "<table border=\"1\" class=\"dataframe\">\n",
              "  <thead>\n",
              "    <tr style=\"text-align: right;\">\n",
              "      <th></th>\n",
              "      <th>transaction</th>\n",
              "      <th>floor</th>\n",
              "    </tr>\n",
              "  </thead>\n",
              "  <tbody>\n",
              "    <tr>\n",
              "      <th>max</th>\n",
              "      <td>NaN</td>\n",
              "      <td>53.0</td>\n",
              "    </tr>\n",
              "    <tr>\n",
              "      <th>mean</th>\n",
              "      <td>31757.036567</td>\n",
              "      <td>NaN</td>\n",
              "    </tr>\n",
              "    <tr>\n",
              "      <th>median</th>\n",
              "      <td>27400.000000</td>\n",
              "      <td>NaN</td>\n",
              "    </tr>\n",
              "  </tbody>\n",
              "</table>\n",
              "</div>"
            ],
            "text/plain": [
              "         transaction  floor\n",
              "max              NaN   53.0\n",
              "mean    31757.036567    NaN\n",
              "median  27400.000000    NaN"
            ]
          },
          "metadata": {
            "tags": []
          },
          "execution_count": 17
        }
      ]
    },
    {
      "cell_type": "markdown",
      "metadata": {
        "id": "JyYTYE4ZMooL"
      },
      "source": [
        "### 참고) 함수 속도 측정! "
      ],
      "id": "JyYTYE4ZMooL"
    },
    {
      "cell_type": "code",
      "metadata": {
        "colab": {
          "base_uri": "https://localhost:8080/"
        },
        "id": "Y0xf8z_HF50z",
        "outputId": "20aba20f-746a-4ee6-b3f5-f568dd39c85b"
      },
      "source": [
        "# -n 100: 100 번 함수를 실행시켜서, 속도를 측정해봐라~\n",
        "\n",
        "%timeit -n 100 number_df['area'].apply(lambda x: x+1)\n",
        "%timeit -n 100 number_df[['area']].apply(lambda x: x+1)"
      ],
      "id": "Y0xf8z_HF50z",
      "execution_count": null,
      "outputs": [
        {
          "output_type": "stream",
          "text": [
            "100 loops, best of 5: 18.7 ms per loop\n",
            "100 loops, best of 5: 2.38 ms per loop\n"
          ],
          "name": "stdout"
        }
      ]
    },
    {
      "cell_type": "markdown",
      "metadata": {
        "id": "Li4EB-mVF50w"
      },
      "source": [
        "### custom describe"
      ],
      "id": "Li4EB-mVF50w"
    },
    {
      "cell_type": "markdown",
      "metadata": {
        "id": "76Zfp5mTLc_g"
      },
      "source": [
        "함수에 인자에 미리 값을 정해서 사용하고 싶다면 -> `partial`"
      ],
      "id": "76Zfp5mTLc_g"
    },
    {
      "cell_type": "code",
      "metadata": {
        "id": "4qoDZpQqF50w"
      },
      "source": [
        "from functools import partial"
      ],
      "id": "4qoDZpQqF50w",
      "execution_count": null,
      "outputs": []
    },
    {
      "cell_type": "code",
      "metadata": {
        "id": "ZSIGd4GgF50w"
      },
      "source": [
        "def cal_return(stock, date):\n",
        "    print(f\"stock:{stock}\")\n",
        "    print(date)\n",
        "    return 0.3"
      ],
      "id": "ZSIGd4GgF50w",
      "execution_count": null,
      "outputs": []
    },
    {
      "cell_type": "code",
      "metadata": {
        "id": "noqufjhbF50w"
      },
      "source": [
        "# cal_return(stock, date=\"20210101\")\n",
        "cal_return_with_date = partial(cal_return, date=\"20210101\")"
      ],
      "id": "noqufjhbF50w",
      "execution_count": null,
      "outputs": []
    },
    {
      "cell_type": "code",
      "metadata": {
        "colab": {
          "base_uri": "https://localhost:8080/"
        },
        "id": "rmfhlqGEF50x",
        "outputId": "8ac648f6-0bf8-469b-e76a-775046ff0f24"
      },
      "source": [
        "cal_return_with_date"
      ],
      "id": "rmfhlqGEF50x",
      "execution_count": null,
      "outputs": [
        {
          "output_type": "execute_result",
          "data": {
            "text/plain": [
              "functools.partial(<function cal_return at 0x7fbf43c6b5f0>, date='20210101')"
            ]
          },
          "metadata": {
            "tags": []
          },
          "execution_count": 22
        }
      ]
    },
    {
      "cell_type": "code",
      "metadata": {
        "colab": {
          "base_uri": "https://localhost:8080/"
        },
        "id": "UlPl__rlF50x",
        "outputId": "95cf918e-5f60-415e-caae-a798d3a8f0ec"
      },
      "source": [
        "cal_return_with_date(\"네이버\")"
      ],
      "id": "UlPl__rlF50x",
      "execution_count": null,
      "outputs": [
        {
          "output_type": "stream",
          "text": [
            "stock:네이버\n",
            "20210101\n"
          ],
          "name": "stdout"
        },
        {
          "output_type": "execute_result",
          "data": {
            "text/plain": [
              "0.3"
            ]
          },
          "metadata": {
            "tags": []
          },
          "execution_count": 23
        }
      ]
    },
    {
      "cell_type": "markdown",
      "metadata": {
        "id": "Y-CRl0ZfLtV-"
      },
      "source": [
        "`partial` 을 `agg` 와 함께 사용하기"
      ],
      "id": "Y-CRl0ZfLtV-"
    },
    {
      "cell_type": "code",
      "metadata": {
        "id": "IiSgCpyFF50x"
      },
      "source": [
        "q_25 = partial(pd.Series.quantile, q=0.25)"
      ],
      "id": "IiSgCpyFF50x",
      "execution_count": null,
      "outputs": []
    },
    {
      "cell_type": "code",
      "metadata": {
        "id": "Oic00zOqF50x"
      },
      "source": [
        "q_25.__name__ = \"25%\""
      ],
      "id": "Oic00zOqF50x",
      "execution_count": null,
      "outputs": []
    },
    {
      "cell_type": "code",
      "metadata": {
        "colab": {
          "base_uri": "https://localhost:8080/"
        },
        "id": "zRko3iX8F50y",
        "outputId": "6ee984e1-ba7d-468f-f772-f2b8fe8560af"
      },
      "source": [
        "number_df.agg([q_25])"
      ],
      "id": "zRko3iX8F50y",
      "execution_count": null,
      "outputs": [
        {
          "output_type": "execute_result",
          "data": {
            "text/html": [
              "<div>\n",
              "<style scoped>\n",
              "    .dataframe tbody tr th:only-of-type {\n",
              "        vertical-align: middle;\n",
              "    }\n",
              "\n",
              "    .dataframe tbody tr th {\n",
              "        vertical-align: top;\n",
              "    }\n",
              "\n",
              "    .dataframe thead th {\n",
              "        text-align: right;\n",
              "    }\n",
              "</style>\n",
              "<table border=\"1\" class=\"dataframe\">\n",
              "  <thead>\n",
              "    <tr style=\"text-align: right;\">\n",
              "      <th></th>\n",
              "      <th>area</th>\n",
              "      <th>transaction</th>\n",
              "      <th>floor</th>\n",
              "      <th>built</th>\n",
              "      <th>year</th>\n",
              "      <th>month</th>\n",
              "      <th>day</th>\n",
              "    </tr>\n",
              "  </thead>\n",
              "  <tbody>\n",
              "    <tr>\n",
              "      <th>25%</th>\n",
              "      <td>59.91</td>\n",
              "      <td>18300.0</td>\n",
              "      <td>4.0</td>\n",
              "      <td>1995.0</td>\n",
              "      <td>2020.0</td>\n",
              "      <td>5.0</td>\n",
              "      <td>8.0</td>\n",
              "    </tr>\n",
              "  </tbody>\n",
              "</table>\n",
              "</div>"
            ],
            "text/plain": [
              "      area  transaction  floor   built    year  month  day\n",
              "25%  59.91      18300.0    4.0  1995.0  2020.0    5.0  8.0"
            ]
          },
          "metadata": {
            "tags": []
          },
          "execution_count": 26
        }
      ]
    },
    {
      "cell_type": "code",
      "metadata": {
        "colab": {
          "base_uri": "https://localhost:8080/"
        },
        "id": "0MtF1PpvF50y",
        "outputId": "80d0fb3f-afbf-40f3-f3e3-5dadee725d0d"
      },
      "source": [
        "q_25"
      ],
      "id": "0MtF1PpvF50y",
      "execution_count": null,
      "outputs": [
        {
          "output_type": "execute_result",
          "data": {
            "text/plain": [
              "functools.partial(<function Series.quantile at 0x7fbf4f700050>, q=0.25)"
            ]
          },
          "metadata": {
            "tags": []
          },
          "execution_count": 27
        }
      ]
    },
    {
      "cell_type": "code",
      "metadata": {
        "colab": {
          "base_uri": "https://localhost:8080/"
        },
        "id": "3wQUwmh6F50y",
        "outputId": "8a00f93d-6822-42dd-f1e1-58916a7bbf31"
      },
      "source": [
        "# 보충, python f-string\n",
        "a = 3.2345\n",
        "text = \"This is a number\"\n",
        "print(f\"This is a number{a:.2f}\")"
      ],
      "id": "3wQUwmh6F50y",
      "execution_count": null,
      "outputs": [
        {
          "output_type": "stream",
          "text": [
            "This is a number3.23\n"
          ],
          "name": "stdout"
        }
      ]
    },
    {
      "cell_type": "markdown",
      "metadata": {
        "id": "tXjrk6C2F50y"
      },
      "source": [
        "### Quiz: number_df.describe() 의 결과를 `agg` 를 사용해서 똑같이 해보자."
      ],
      "id": "tXjrk6C2F50y"
    },
    {
      "cell_type": "code",
      "metadata": {
        "colab": {
          "base_uri": "https://localhost:8080/"
        },
        "id": "NEFpDXcQF50y",
        "outputId": "dec54257-5809-47a6-8c31-48995ee9594d"
      },
      "source": [
        "number_df.describe()"
      ],
      "id": "NEFpDXcQF50y",
      "execution_count": null,
      "outputs": [
        {
          "output_type": "execute_result",
          "data": {
            "text/html": [
              "<div>\n",
              "<style scoped>\n",
              "    .dataframe tbody tr th:only-of-type {\n",
              "        vertical-align: middle;\n",
              "    }\n",
              "\n",
              "    .dataframe tbody tr th {\n",
              "        vertical-align: top;\n",
              "    }\n",
              "\n",
              "    .dataframe thead th {\n",
              "        text-align: right;\n",
              "    }\n",
              "</style>\n",
              "<table border=\"1\" class=\"dataframe\">\n",
              "  <thead>\n",
              "    <tr style=\"text-align: right;\">\n",
              "      <th></th>\n",
              "      <th>area</th>\n",
              "      <th>transaction</th>\n",
              "      <th>floor</th>\n",
              "      <th>built</th>\n",
              "      <th>year</th>\n",
              "      <th>month</th>\n",
              "      <th>day</th>\n",
              "    </tr>\n",
              "  </thead>\n",
              "  <tbody>\n",
              "    <tr>\n",
              "      <th>count</th>\n",
              "      <td>74822.000000</td>\n",
              "      <td>74822.000000</td>\n",
              "      <td>74822.000000</td>\n",
              "      <td>74822.000000</td>\n",
              "      <td>74822.000000</td>\n",
              "      <td>74822.000000</td>\n",
              "      <td>74822.000000</td>\n",
              "    </tr>\n",
              "    <tr>\n",
              "      <th>mean</th>\n",
              "      <td>77.706626</td>\n",
              "      <td>31757.036567</td>\n",
              "      <td>9.607361</td>\n",
              "      <td>2002.178664</td>\n",
              "      <td>2019.881051</td>\n",
              "      <td>7.352797</td>\n",
              "      <td>15.781668</td>\n",
              "    </tr>\n",
              "    <tr>\n",
              "      <th>std</th>\n",
              "      <td>25.093547</td>\n",
              "      <td>20425.203404</td>\n",
              "      <td>6.472128</td>\n",
              "      <td>10.286096</td>\n",
              "      <td>0.592127</td>\n",
              "      <td>3.464989</td>\n",
              "      <td>8.630833</td>\n",
              "    </tr>\n",
              "    <tr>\n",
              "      <th>min</th>\n",
              "      <td>11.880000</td>\n",
              "      <td>1500.000000</td>\n",
              "      <td>-1.000000</td>\n",
              "      <td>1973.000000</td>\n",
              "      <td>2019.000000</td>\n",
              "      <td>1.000000</td>\n",
              "      <td>1.000000</td>\n",
              "    </tr>\n",
              "    <tr>\n",
              "      <th>25%</th>\n",
              "      <td>59.910000</td>\n",
              "      <td>18300.000000</td>\n",
              "      <td>4.000000</td>\n",
              "      <td>1995.000000</td>\n",
              "      <td>2020.000000</td>\n",
              "      <td>5.000000</td>\n",
              "      <td>8.000000</td>\n",
              "    </tr>\n",
              "    <tr>\n",
              "      <th>50%</th>\n",
              "      <td>83.491900</td>\n",
              "      <td>27400.000000</td>\n",
              "      <td>9.000000</td>\n",
              "      <td>2002.000000</td>\n",
              "      <td>2020.000000</td>\n",
              "      <td>8.000000</td>\n",
              "      <td>16.000000</td>\n",
              "    </tr>\n",
              "    <tr>\n",
              "      <th>75%</th>\n",
              "      <td>84.970000</td>\n",
              "      <td>39000.000000</td>\n",
              "      <td>14.000000</td>\n",
              "      <td>2011.000000</td>\n",
              "      <td>2020.000000</td>\n",
              "      <td>10.000000</td>\n",
              "      <td>23.000000</td>\n",
              "    </tr>\n",
              "    <tr>\n",
              "      <th>max</th>\n",
              "      <td>250.910000</td>\n",
              "      <td>345000.000000</td>\n",
              "      <td>53.000000</td>\n",
              "      <td>2021.000000</td>\n",
              "      <td>2021.000000</td>\n",
              "      <td>12.000000</td>\n",
              "      <td>31.000000</td>\n",
              "    </tr>\n",
              "  </tbody>\n",
              "</table>\n",
              "</div>"
            ],
            "text/plain": [
              "               area    transaction  ...         month           day\n",
              "count  74822.000000   74822.000000  ...  74822.000000  74822.000000\n",
              "mean      77.706626   31757.036567  ...      7.352797     15.781668\n",
              "std       25.093547   20425.203404  ...      3.464989      8.630833\n",
              "min       11.880000    1500.000000  ...      1.000000      1.000000\n",
              "25%       59.910000   18300.000000  ...      5.000000      8.000000\n",
              "50%       83.491900   27400.000000  ...      8.000000     16.000000\n",
              "75%       84.970000   39000.000000  ...     10.000000     23.000000\n",
              "max      250.910000  345000.000000  ...     12.000000     31.000000\n",
              "\n",
              "[8 rows x 7 columns]"
            ]
          },
          "metadata": {
            "tags": []
          },
          "execution_count": 29
        }
      ]
    },
    {
      "cell_type": "code",
      "metadata": {
        "colab": {
          "base_uri": "https://localhost:8080/"
        },
        "id": "fI8lZecgF50z",
        "outputId": "52c0e8c5-9b85-49c5-9235-b39f21180eef"
      },
      "source": [
        "q_25 = partial(pd.Series.quantile, q=0.25)\n",
        "q_25.__name__ = \"25%\"\n",
        "\n",
        "\n",
        "q_50 = partial(pd.Series.quantile, q=0.5)\n",
        "q_50.__name__ = \"50%\"\n",
        "\n",
        "q_75 = partial(pd.Series.quantile, q=0.75)\n",
        "q_75.__name__ = \"75%\"\n",
        "\n",
        "number_df.agg(['count', 'mean', 'std', 'min', q_25, q_50,  q_75, \"max\"])"
      ],
      "id": "fI8lZecgF50z",
      "execution_count": null,
      "outputs": [
        {
          "output_type": "execute_result",
          "data": {
            "text/html": [
              "<div>\n",
              "<style scoped>\n",
              "    .dataframe tbody tr th:only-of-type {\n",
              "        vertical-align: middle;\n",
              "    }\n",
              "\n",
              "    .dataframe tbody tr th {\n",
              "        vertical-align: top;\n",
              "    }\n",
              "\n",
              "    .dataframe thead th {\n",
              "        text-align: right;\n",
              "    }\n",
              "</style>\n",
              "<table border=\"1\" class=\"dataframe\">\n",
              "  <thead>\n",
              "    <tr style=\"text-align: right;\">\n",
              "      <th></th>\n",
              "      <th>area</th>\n",
              "      <th>transaction</th>\n",
              "      <th>floor</th>\n",
              "      <th>built</th>\n",
              "      <th>year</th>\n",
              "      <th>month</th>\n",
              "      <th>day</th>\n",
              "    </tr>\n",
              "  </thead>\n",
              "  <tbody>\n",
              "    <tr>\n",
              "      <th>count</th>\n",
              "      <td>74822.000000</td>\n",
              "      <td>74822.000000</td>\n",
              "      <td>74822.000000</td>\n",
              "      <td>74822.000000</td>\n",
              "      <td>74822.000000</td>\n",
              "      <td>74822.000000</td>\n",
              "      <td>74822.000000</td>\n",
              "    </tr>\n",
              "    <tr>\n",
              "      <th>mean</th>\n",
              "      <td>77.706626</td>\n",
              "      <td>31757.036567</td>\n",
              "      <td>9.607361</td>\n",
              "      <td>2002.178664</td>\n",
              "      <td>2019.881051</td>\n",
              "      <td>7.352797</td>\n",
              "      <td>15.781668</td>\n",
              "    </tr>\n",
              "    <tr>\n",
              "      <th>std</th>\n",
              "      <td>25.093547</td>\n",
              "      <td>20425.203404</td>\n",
              "      <td>6.472128</td>\n",
              "      <td>10.286096</td>\n",
              "      <td>0.592127</td>\n",
              "      <td>3.464989</td>\n",
              "      <td>8.630833</td>\n",
              "    </tr>\n",
              "    <tr>\n",
              "      <th>min</th>\n",
              "      <td>11.880000</td>\n",
              "      <td>1500.000000</td>\n",
              "      <td>-1.000000</td>\n",
              "      <td>1973.000000</td>\n",
              "      <td>2019.000000</td>\n",
              "      <td>1.000000</td>\n",
              "      <td>1.000000</td>\n",
              "    </tr>\n",
              "    <tr>\n",
              "      <th>25%</th>\n",
              "      <td>59.910000</td>\n",
              "      <td>18300.000000</td>\n",
              "      <td>4.000000</td>\n",
              "      <td>1995.000000</td>\n",
              "      <td>2020.000000</td>\n",
              "      <td>5.000000</td>\n",
              "      <td>8.000000</td>\n",
              "    </tr>\n",
              "    <tr>\n",
              "      <th>50%</th>\n",
              "      <td>83.491900</td>\n",
              "      <td>27400.000000</td>\n",
              "      <td>9.000000</td>\n",
              "      <td>2002.000000</td>\n",
              "      <td>2020.000000</td>\n",
              "      <td>8.000000</td>\n",
              "      <td>16.000000</td>\n",
              "    </tr>\n",
              "    <tr>\n",
              "      <th>75%</th>\n",
              "      <td>84.970000</td>\n",
              "      <td>39000.000000</td>\n",
              "      <td>14.000000</td>\n",
              "      <td>2011.000000</td>\n",
              "      <td>2020.000000</td>\n",
              "      <td>10.000000</td>\n",
              "      <td>23.000000</td>\n",
              "    </tr>\n",
              "    <tr>\n",
              "      <th>max</th>\n",
              "      <td>250.910000</td>\n",
              "      <td>345000.000000</td>\n",
              "      <td>53.000000</td>\n",
              "      <td>2021.000000</td>\n",
              "      <td>2021.000000</td>\n",
              "      <td>12.000000</td>\n",
              "      <td>31.000000</td>\n",
              "    </tr>\n",
              "  </tbody>\n",
              "</table>\n",
              "</div>"
            ],
            "text/plain": [
              "               area    transaction  ...         month           day\n",
              "count  74822.000000   74822.000000  ...  74822.000000  74822.000000\n",
              "mean      77.706626   31757.036567  ...      7.352797     15.781668\n",
              "std       25.093547   20425.203404  ...      3.464989      8.630833\n",
              "min       11.880000    1500.000000  ...      1.000000      1.000000\n",
              "25%       59.910000   18300.000000  ...      5.000000      8.000000\n",
              "50%       83.491900   27400.000000  ...      8.000000     16.000000\n",
              "75%       84.970000   39000.000000  ...     10.000000     23.000000\n",
              "max      250.910000  345000.000000  ...     12.000000     31.000000\n",
              "\n",
              "[8 rows x 7 columns]"
            ]
          },
          "metadata": {
            "tags": []
          },
          "execution_count": 30
        }
      ]
    },
    {
      "cell_type": "code",
      "metadata": {
        "id": "AiD1yPp2GeFz"
      },
      "source": [
        ""
      ],
      "id": "AiD1yPp2GeFz",
      "execution_count": null,
      "outputs": []
    },
    {
      "cell_type": "code",
      "metadata": {
        "id": "cTRC6hkoGiqO"
      },
      "source": [
        ""
      ],
      "id": "cTRC6hkoGiqO",
      "execution_count": null,
      "outputs": []
    },
    {
      "cell_type": "markdown",
      "metadata": {
        "id": "ZQ0TVbLqGkgB"
      },
      "source": [
        "## Transformation"
      ],
      "id": "ZQ0TVbLqGkgB"
    },
    {
      "cell_type": "markdown",
      "metadata": {
        "id": "94wI8BgiK6K-"
      },
      "source": [
        "- Call func on self producing a DataFrame with transformed values.\n",
        "- Produced DataFrame will have same axis length as self.\n",
        "\n",
        "- aggregation에 넘길수 있는 케이스\n",
        "    - function\n",
        "    - str\n",
        "    - list or dict"
      ],
      "id": "94wI8BgiK6K-"
    },
    {
      "cell_type": "code",
      "metadata": {
        "colab": {
          "base_uri": "https://localhost:8080/"
        },
        "id": "c_tiotHbGkgC",
        "outputId": "2de66d6d-f713-428f-c4a2-c88d149792ef"
      },
      "source": [
        "number_df.transaction.transform(lambda x: x+1)"
      ],
      "id": "c_tiotHbGkgC",
      "execution_count": null,
      "outputs": [
        {
          "output_type": "execute_result",
          "data": {
            "text/plain": [
              "cdate\n",
              "2019-07-01    27101\n",
              "2019-07-01    37401\n",
              "2019-07-01    30651\n",
              "2019-07-01    15101\n",
              "2019-07-01     9801\n",
              "              ...  \n",
              "2021-05-31    31901\n",
              "2021-05-31    48001\n",
              "2021-05-31    34151\n",
              "2021-05-31    48801\n",
              "2021-05-31    26001\n",
              "Name: transaction, Length: 74822, dtype: int64"
            ]
          },
          "metadata": {
            "tags": []
          },
          "execution_count": 31
        }
      ]
    },
    {
      "cell_type": "code",
      "metadata": {
        "colab": {
          "base_uri": "https://localhost:8080/"
        },
        "id": "E2PGfaAQGkgE",
        "outputId": "062d3a30-efa1-4c4e-fe84-728e73d4030b"
      },
      "source": [
        "number_df.transaction.transform([abs, lambda x: x+1])"
      ],
      "id": "E2PGfaAQGkgE",
      "execution_count": null,
      "outputs": [
        {
          "output_type": "execute_result",
          "data": {
            "text/html": [
              "<div>\n",
              "<style scoped>\n",
              "    .dataframe tbody tr th:only-of-type {\n",
              "        vertical-align: middle;\n",
              "    }\n",
              "\n",
              "    .dataframe tbody tr th {\n",
              "        vertical-align: top;\n",
              "    }\n",
              "\n",
              "    .dataframe thead th {\n",
              "        text-align: right;\n",
              "    }\n",
              "</style>\n",
              "<table border=\"1\" class=\"dataframe\">\n",
              "  <thead>\n",
              "    <tr style=\"text-align: right;\">\n",
              "      <th></th>\n",
              "      <th>abs</th>\n",
              "      <th>&lt;lambda&gt;</th>\n",
              "    </tr>\n",
              "    <tr>\n",
              "      <th>cdate</th>\n",
              "      <th></th>\n",
              "      <th></th>\n",
              "    </tr>\n",
              "  </thead>\n",
              "  <tbody>\n",
              "    <tr>\n",
              "      <th>2019-07-01</th>\n",
              "      <td>27100</td>\n",
              "      <td>27101</td>\n",
              "    </tr>\n",
              "    <tr>\n",
              "      <th>2019-07-01</th>\n",
              "      <td>37400</td>\n",
              "      <td>37401</td>\n",
              "    </tr>\n",
              "    <tr>\n",
              "      <th>2019-07-01</th>\n",
              "      <td>30650</td>\n",
              "      <td>30651</td>\n",
              "    </tr>\n",
              "    <tr>\n",
              "      <th>2019-07-01</th>\n",
              "      <td>15100</td>\n",
              "      <td>15101</td>\n",
              "    </tr>\n",
              "    <tr>\n",
              "      <th>2019-07-01</th>\n",
              "      <td>9800</td>\n",
              "      <td>9801</td>\n",
              "    </tr>\n",
              "    <tr>\n",
              "      <th>...</th>\n",
              "      <td>...</td>\n",
              "      <td>...</td>\n",
              "    </tr>\n",
              "    <tr>\n",
              "      <th>2021-05-31</th>\n",
              "      <td>31900</td>\n",
              "      <td>31901</td>\n",
              "    </tr>\n",
              "    <tr>\n",
              "      <th>2021-05-31</th>\n",
              "      <td>48000</td>\n",
              "      <td>48001</td>\n",
              "    </tr>\n",
              "    <tr>\n",
              "      <th>2021-05-31</th>\n",
              "      <td>34150</td>\n",
              "      <td>34151</td>\n",
              "    </tr>\n",
              "    <tr>\n",
              "      <th>2021-05-31</th>\n",
              "      <td>48800</td>\n",
              "      <td>48801</td>\n",
              "    </tr>\n",
              "    <tr>\n",
              "      <th>2021-05-31</th>\n",
              "      <td>26000</td>\n",
              "      <td>26001</td>\n",
              "    </tr>\n",
              "  </tbody>\n",
              "</table>\n",
              "<p>74822 rows × 2 columns</p>\n",
              "</div>"
            ],
            "text/plain": [
              "              abs  <lambda>\n",
              "cdate                      \n",
              "2019-07-01  27100     27101\n",
              "2019-07-01  37400     37401\n",
              "2019-07-01  30650     30651\n",
              "2019-07-01  15100     15101\n",
              "2019-07-01   9800      9801\n",
              "...           ...       ...\n",
              "2021-05-31  31900     31901\n",
              "2021-05-31  48000     48001\n",
              "2021-05-31  34150     34151\n",
              "2021-05-31  48800     48801\n",
              "2021-05-31  26000     26001\n",
              "\n",
              "[74822 rows x 2 columns]"
            ]
          },
          "metadata": {
            "tags": []
          },
          "execution_count": 32
        }
      ]
    },
    {
      "cell_type": "code",
      "metadata": {
        "colab": {
          "base_uri": "https://localhost:8080/"
        },
        "id": "d4U6ZOqMGkgF",
        "outputId": "21f5d928-476c-4194-bc47-cb5eea9453b8"
      },
      "source": [
        "number_df.transform([abs, lambda x: x+1])"
      ],
      "id": "d4U6ZOqMGkgF",
      "execution_count": null,
      "outputs": [
        {
          "output_type": "execute_result",
          "data": {
            "text/html": [
              "<div>\n",
              "<style scoped>\n",
              "    .dataframe tbody tr th:only-of-type {\n",
              "        vertical-align: middle;\n",
              "    }\n",
              "\n",
              "    .dataframe tbody tr th {\n",
              "        vertical-align: top;\n",
              "    }\n",
              "\n",
              "    .dataframe thead tr th {\n",
              "        text-align: left;\n",
              "    }\n",
              "\n",
              "    .dataframe thead tr:last-of-type th {\n",
              "        text-align: right;\n",
              "    }\n",
              "</style>\n",
              "<table border=\"1\" class=\"dataframe\">\n",
              "  <thead>\n",
              "    <tr>\n",
              "      <th></th>\n",
              "      <th colspan=\"2\" halign=\"left\">area</th>\n",
              "      <th colspan=\"2\" halign=\"left\">transaction</th>\n",
              "      <th colspan=\"2\" halign=\"left\">floor</th>\n",
              "      <th colspan=\"2\" halign=\"left\">built</th>\n",
              "      <th colspan=\"2\" halign=\"left\">year</th>\n",
              "      <th colspan=\"2\" halign=\"left\">month</th>\n",
              "      <th colspan=\"2\" halign=\"left\">day</th>\n",
              "    </tr>\n",
              "    <tr>\n",
              "      <th></th>\n",
              "      <th>abs</th>\n",
              "      <th>&lt;lambda&gt;</th>\n",
              "      <th>abs</th>\n",
              "      <th>&lt;lambda&gt;</th>\n",
              "      <th>abs</th>\n",
              "      <th>&lt;lambda&gt;</th>\n",
              "      <th>abs</th>\n",
              "      <th>&lt;lambda&gt;</th>\n",
              "      <th>abs</th>\n",
              "      <th>&lt;lambda&gt;</th>\n",
              "      <th>abs</th>\n",
              "      <th>&lt;lambda&gt;</th>\n",
              "      <th>abs</th>\n",
              "      <th>&lt;lambda&gt;</th>\n",
              "    </tr>\n",
              "    <tr>\n",
              "      <th>cdate</th>\n",
              "      <th></th>\n",
              "      <th></th>\n",
              "      <th></th>\n",
              "      <th></th>\n",
              "      <th></th>\n",
              "      <th></th>\n",
              "      <th></th>\n",
              "      <th></th>\n",
              "      <th></th>\n",
              "      <th></th>\n",
              "      <th></th>\n",
              "      <th></th>\n",
              "      <th></th>\n",
              "      <th></th>\n",
              "    </tr>\n",
              "  </thead>\n",
              "  <tbody>\n",
              "    <tr>\n",
              "      <th>2019-07-01</th>\n",
              "      <td>84.1347</td>\n",
              "      <td>85.1347</td>\n",
              "      <td>27100</td>\n",
              "      <td>27101</td>\n",
              "      <td>11</td>\n",
              "      <td>12</td>\n",
              "      <td>2016</td>\n",
              "      <td>2017</td>\n",
              "      <td>2019</td>\n",
              "      <td>2020</td>\n",
              "      <td>7</td>\n",
              "      <td>8</td>\n",
              "      <td>1</td>\n",
              "      <td>2</td>\n",
              "    </tr>\n",
              "    <tr>\n",
              "      <th>2019-07-01</th>\n",
              "      <td>84.9999</td>\n",
              "      <td>85.9999</td>\n",
              "      <td>37400</td>\n",
              "      <td>37401</td>\n",
              "      <td>9</td>\n",
              "      <td>10</td>\n",
              "      <td>2006</td>\n",
              "      <td>2007</td>\n",
              "      <td>2019</td>\n",
              "      <td>2020</td>\n",
              "      <td>7</td>\n",
              "      <td>8</td>\n",
              "      <td>1</td>\n",
              "      <td>2</td>\n",
              "    </tr>\n",
              "    <tr>\n",
              "      <th>2019-07-01</th>\n",
              "      <td>59.9500</td>\n",
              "      <td>60.9500</td>\n",
              "      <td>30650</td>\n",
              "      <td>30651</td>\n",
              "      <td>25</td>\n",
              "      <td>26</td>\n",
              "      <td>2017</td>\n",
              "      <td>2018</td>\n",
              "      <td>2019</td>\n",
              "      <td>2020</td>\n",
              "      <td>7</td>\n",
              "      <td>8</td>\n",
              "      <td>1</td>\n",
              "      <td>2</td>\n",
              "    </tr>\n",
              "    <tr>\n",
              "      <th>2019-07-01</th>\n",
              "      <td>59.9900</td>\n",
              "      <td>60.9900</td>\n",
              "      <td>15100</td>\n",
              "      <td>15101</td>\n",
              "      <td>19</td>\n",
              "      <td>20</td>\n",
              "      <td>1998</td>\n",
              "      <td>1999</td>\n",
              "      <td>2019</td>\n",
              "      <td>2020</td>\n",
              "      <td>7</td>\n",
              "      <td>8</td>\n",
              "      <td>1</td>\n",
              "      <td>2</td>\n",
              "    </tr>\n",
              "    <tr>\n",
              "      <th>2019-07-01</th>\n",
              "      <td>49.8000</td>\n",
              "      <td>50.8000</td>\n",
              "      <td>9800</td>\n",
              "      <td>9801</td>\n",
              "      <td>10</td>\n",
              "      <td>11</td>\n",
              "      <td>1993</td>\n",
              "      <td>1994</td>\n",
              "      <td>2019</td>\n",
              "      <td>2020</td>\n",
              "      <td>7</td>\n",
              "      <td>8</td>\n",
              "      <td>1</td>\n",
              "      <td>2</td>\n",
              "    </tr>\n",
              "    <tr>\n",
              "      <th>...</th>\n",
              "      <td>...</td>\n",
              "      <td>...</td>\n",
              "      <td>...</td>\n",
              "      <td>...</td>\n",
              "      <td>...</td>\n",
              "      <td>...</td>\n",
              "      <td>...</td>\n",
              "      <td>...</td>\n",
              "      <td>...</td>\n",
              "      <td>...</td>\n",
              "      <td>...</td>\n",
              "      <td>...</td>\n",
              "      <td>...</td>\n",
              "      <td>...</td>\n",
              "    </tr>\n",
              "    <tr>\n",
              "      <th>2021-05-31</th>\n",
              "      <td>84.6139</td>\n",
              "      <td>85.6139</td>\n",
              "      <td>31900</td>\n",
              "      <td>31901</td>\n",
              "      <td>15</td>\n",
              "      <td>16</td>\n",
              "      <td>2003</td>\n",
              "      <td>2004</td>\n",
              "      <td>2021</td>\n",
              "      <td>2022</td>\n",
              "      <td>5</td>\n",
              "      <td>6</td>\n",
              "      <td>31</td>\n",
              "      <td>32</td>\n",
              "    </tr>\n",
              "    <tr>\n",
              "      <th>2021-05-31</th>\n",
              "      <td>110.4038</td>\n",
              "      <td>111.4038</td>\n",
              "      <td>48000</td>\n",
              "      <td>48001</td>\n",
              "      <td>3</td>\n",
              "      <td>4</td>\n",
              "      <td>2003</td>\n",
              "      <td>2004</td>\n",
              "      <td>2021</td>\n",
              "      <td>2022</td>\n",
              "      <td>5</td>\n",
              "      <td>6</td>\n",
              "      <td>31</td>\n",
              "      <td>32</td>\n",
              "    </tr>\n",
              "    <tr>\n",
              "      <th>2021-05-31</th>\n",
              "      <td>55.3400</td>\n",
              "      <td>56.3400</td>\n",
              "      <td>34150</td>\n",
              "      <td>34151</td>\n",
              "      <td>3</td>\n",
              "      <td>4</td>\n",
              "      <td>1979</td>\n",
              "      <td>1980</td>\n",
              "      <td>2021</td>\n",
              "      <td>2022</td>\n",
              "      <td>5</td>\n",
              "      <td>6</td>\n",
              "      <td>31</td>\n",
              "      <td>32</td>\n",
              "    </tr>\n",
              "    <tr>\n",
              "      <th>2021-05-31</th>\n",
              "      <td>84.9100</td>\n",
              "      <td>85.9100</td>\n",
              "      <td>48800</td>\n",
              "      <td>48801</td>\n",
              "      <td>15</td>\n",
              "      <td>16</td>\n",
              "      <td>2005</td>\n",
              "      <td>2006</td>\n",
              "      <td>2021</td>\n",
              "      <td>2022</td>\n",
              "      <td>5</td>\n",
              "      <td>6</td>\n",
              "      <td>31</td>\n",
              "      <td>32</td>\n",
              "    </tr>\n",
              "    <tr>\n",
              "      <th>2021-05-31</th>\n",
              "      <td>84.9900</td>\n",
              "      <td>85.9900</td>\n",
              "      <td>26000</td>\n",
              "      <td>26001</td>\n",
              "      <td>9</td>\n",
              "      <td>10</td>\n",
              "      <td>1995</td>\n",
              "      <td>1996</td>\n",
              "      <td>2021</td>\n",
              "      <td>2022</td>\n",
              "      <td>5</td>\n",
              "      <td>6</td>\n",
              "      <td>31</td>\n",
              "      <td>32</td>\n",
              "    </tr>\n",
              "  </tbody>\n",
              "</table>\n",
              "<p>74822 rows × 14 columns</p>\n",
              "</div>"
            ],
            "text/plain": [
              "                area           transaction           ... month          day         \n",
              "                 abs  <lambda>         abs <lambda>  ...   abs <lambda> abs <lambda>\n",
              "cdate                                                ...                            \n",
              "2019-07-01   84.1347   85.1347       27100    27101  ...     7        8   1        2\n",
              "2019-07-01   84.9999   85.9999       37400    37401  ...     7        8   1        2\n",
              "2019-07-01   59.9500   60.9500       30650    30651  ...     7        8   1        2\n",
              "2019-07-01   59.9900   60.9900       15100    15101  ...     7        8   1        2\n",
              "2019-07-01   49.8000   50.8000        9800     9801  ...     7        8   1        2\n",
              "...              ...       ...         ...      ...  ...   ...      ...  ..      ...\n",
              "2021-05-31   84.6139   85.6139       31900    31901  ...     5        6  31       32\n",
              "2021-05-31  110.4038  111.4038       48000    48001  ...     5        6  31       32\n",
              "2021-05-31   55.3400   56.3400       34150    34151  ...     5        6  31       32\n",
              "2021-05-31   84.9100   85.9100       48800    48801  ...     5        6  31       32\n",
              "2021-05-31   84.9900   85.9900       26000    26001  ...     5        6  31       32\n",
              "\n",
              "[74822 rows x 14 columns]"
            ]
          },
          "metadata": {
            "tags": []
          },
          "execution_count": 33
        }
      ]
    },
    {
      "cell_type": "code",
      "metadata": {
        "colab": {
          "base_uri": "https://localhost:8080/"
        },
        "id": "iF_7nrV8GkgG",
        "outputId": "c524dbf9-2639-4eef-98f4-9c54c5bb2a09"
      },
      "source": [
        "number_df.transform({\n",
        "    \"transaction\": lambda x: x*10000,\n",
        "    \"floor\":[lambda x: x+2, \"abs\"]\n",
        "})"
      ],
      "id": "iF_7nrV8GkgG",
      "execution_count": null,
      "outputs": [
        {
          "output_type": "execute_result",
          "data": {
            "text/html": [
              "<div>\n",
              "<style scoped>\n",
              "    .dataframe tbody tr th:only-of-type {\n",
              "        vertical-align: middle;\n",
              "    }\n",
              "\n",
              "    .dataframe tbody tr th {\n",
              "        vertical-align: top;\n",
              "    }\n",
              "\n",
              "    .dataframe thead tr th {\n",
              "        text-align: left;\n",
              "    }\n",
              "\n",
              "    .dataframe thead tr:last-of-type th {\n",
              "        text-align: right;\n",
              "    }\n",
              "</style>\n",
              "<table border=\"1\" class=\"dataframe\">\n",
              "  <thead>\n",
              "    <tr>\n",
              "      <th></th>\n",
              "      <th>transaction</th>\n",
              "      <th colspan=\"2\" halign=\"left\">floor</th>\n",
              "    </tr>\n",
              "    <tr>\n",
              "      <th></th>\n",
              "      <th>&lt;lambda&gt;</th>\n",
              "      <th>&lt;lambda&gt;</th>\n",
              "      <th>abs</th>\n",
              "    </tr>\n",
              "    <tr>\n",
              "      <th>cdate</th>\n",
              "      <th></th>\n",
              "      <th></th>\n",
              "      <th></th>\n",
              "    </tr>\n",
              "  </thead>\n",
              "  <tbody>\n",
              "    <tr>\n",
              "      <th>2019-07-01</th>\n",
              "      <td>271000000</td>\n",
              "      <td>13</td>\n",
              "      <td>11</td>\n",
              "    </tr>\n",
              "    <tr>\n",
              "      <th>2019-07-01</th>\n",
              "      <td>374000000</td>\n",
              "      <td>11</td>\n",
              "      <td>9</td>\n",
              "    </tr>\n",
              "    <tr>\n",
              "      <th>2019-07-01</th>\n",
              "      <td>306500000</td>\n",
              "      <td>27</td>\n",
              "      <td>25</td>\n",
              "    </tr>\n",
              "    <tr>\n",
              "      <th>2019-07-01</th>\n",
              "      <td>151000000</td>\n",
              "      <td>21</td>\n",
              "      <td>19</td>\n",
              "    </tr>\n",
              "    <tr>\n",
              "      <th>2019-07-01</th>\n",
              "      <td>98000000</td>\n",
              "      <td>12</td>\n",
              "      <td>10</td>\n",
              "    </tr>\n",
              "    <tr>\n",
              "      <th>...</th>\n",
              "      <td>...</td>\n",
              "      <td>...</td>\n",
              "      <td>...</td>\n",
              "    </tr>\n",
              "    <tr>\n",
              "      <th>2021-05-31</th>\n",
              "      <td>319000000</td>\n",
              "      <td>17</td>\n",
              "      <td>15</td>\n",
              "    </tr>\n",
              "    <tr>\n",
              "      <th>2021-05-31</th>\n",
              "      <td>480000000</td>\n",
              "      <td>5</td>\n",
              "      <td>3</td>\n",
              "    </tr>\n",
              "    <tr>\n",
              "      <th>2021-05-31</th>\n",
              "      <td>341500000</td>\n",
              "      <td>5</td>\n",
              "      <td>3</td>\n",
              "    </tr>\n",
              "    <tr>\n",
              "      <th>2021-05-31</th>\n",
              "      <td>488000000</td>\n",
              "      <td>17</td>\n",
              "      <td>15</td>\n",
              "    </tr>\n",
              "    <tr>\n",
              "      <th>2021-05-31</th>\n",
              "      <td>260000000</td>\n",
              "      <td>11</td>\n",
              "      <td>9</td>\n",
              "    </tr>\n",
              "  </tbody>\n",
              "</table>\n",
              "<p>74822 rows × 3 columns</p>\n",
              "</div>"
            ],
            "text/plain": [
              "           transaction    floor    \n",
              "              <lambda> <lambda> abs\n",
              "cdate                              \n",
              "2019-07-01   271000000       13  11\n",
              "2019-07-01   374000000       11   9\n",
              "2019-07-01   306500000       27  25\n",
              "2019-07-01   151000000       21  19\n",
              "2019-07-01    98000000       12  10\n",
              "...                ...      ...  ..\n",
              "2021-05-31   319000000       17  15\n",
              "2021-05-31   480000000        5   3\n",
              "2021-05-31   341500000        5   3\n",
              "2021-05-31   488000000       17  15\n",
              "2021-05-31   260000000       11   9\n",
              "\n",
              "[74822 rows x 3 columns]"
            ]
          },
          "metadata": {
            "tags": []
          },
          "execution_count": 34
        }
      ]
    },
    {
      "cell_type": "markdown",
      "metadata": {
        "id": "flSTo2J8GkgH"
      },
      "source": [
        ""
      ],
      "id": "flSTo2J8GkgH"
    },
    {
      "cell_type": "markdown",
      "metadata": {
        "id": "axD3qWJuSnSp"
      },
      "source": [
        "## Group by: split-apply-combine"
      ],
      "id": "axD3qWJuSnSp"
    },
    {
      "cell_type": "markdown",
      "metadata": {
        "id": "vED3CkPHSnSp"
      },
      "source": [
        "By “[group by](https://pandas.pydata.org/docs/user_guide/groupby.html)” we are referring to a process involving one or more of the following steps:\n",
        "\n",
        "- **Splitting** the data into groups based on some criteria.\n",
        "- **Applying** a function to each group independently.\n",
        "- **Combining** the results into a data structure."
      ],
      "id": "vED3CkPHSnSp"
    },
    {
      "cell_type": "markdown",
      "metadata": {
        "id": "0Uz24xicSnSq"
      },
      "source": [
        "- 동구의 거래대금의 중간값을 구해보자"
      ],
      "id": "0Uz24xicSnSq"
    },
    {
      "cell_type": "code",
      "metadata": {
        "colab": {
          "base_uri": "https://localhost:8080/"
        },
        "id": "RQtnW2GpSnSq",
        "outputId": "fe0fb7ed-ee5a-4640-9aee-f11d024db0bf"
      },
      "source": [
        "gu_condition = df.gu == \"동구\"\n",
        "df.loc[gu_condition]['transaction'].mean()"
      ],
      "id": "RQtnW2GpSnSq",
      "execution_count": null,
      "outputs": [
        {
          "output_type": "execute_result",
          "data": {
            "text/plain": [
              "27791.46819313091"
            ]
          },
          "metadata": {
            "tags": []
          },
          "execution_count": 35
        }
      ]
    },
    {
      "cell_type": "markdown",
      "metadata": {
        "id": "imHVVFcXSnSq"
      },
      "source": [
        "### ex) 우리동네는 어떨까?\n",
        "자신이 살고 있는 구의 거래 금액에 대한 중간값을 알아보자"
      ],
      "id": "imHVVFcXSnSq"
    },
    {
      "cell_type": "code",
      "metadata": {
        "colab": {
          "base_uri": "https://localhost:8080/"
        },
        "id": "wbbfVnKTSnSr",
        "outputId": "ff9cec28-46e4-4930-ed5a-a44d543a2fe4"
      },
      "source": [
        "gu_condition = df.gu == \"북구\"\n",
        "df.loc[gu_condition]['transaction'].median()"
      ],
      "id": "wbbfVnKTSnSr",
      "execution_count": null,
      "outputs": [
        {
          "output_type": "execute_result",
          "data": {
            "text/plain": [
              "22700.0"
            ]
          },
          "metadata": {
            "tags": []
          },
          "execution_count": 36
        }
      ]
    },
    {
      "cell_type": "markdown",
      "metadata": {
        "id": "ESFgsb9vSnSr"
      },
      "source": [
        "### `groupby` method 를 통해서 각 구의 거래 금액의 중간값을 알아보자"
      ],
      "id": "ESFgsb9vSnSr"
    },
    {
      "cell_type": "markdown",
      "metadata": {
        "id": "LLCGwkybSnSr"
      },
      "source": [
        "1. 각 '구'별로 데이터를 그룹화시킨다\n",
        "2. 각 그룹데이터마다 '중간값'을 구한다.\n",
        "3. 결과를 합친다. "
      ],
      "id": "LLCGwkybSnSr"
    },
    {
      "cell_type": "code",
      "metadata": {
        "colab": {
          "base_uri": "https://localhost:8080/"
        },
        "id": "ie_THppESnSr",
        "outputId": "9b43ce7c-880f-444b-fa26-be8ba54ab6c3"
      },
      "source": [
        "# groupby 가 없었으면 위의 코드를 8번이나 반복해야한다.!\n",
        "df.groupby('gu')['transaction'].median()"
      ],
      "id": "ie_THppESnSr",
      "execution_count": null,
      "outputs": [
        {
          "output_type": "execute_result",
          "data": {
            "text/plain": [
              "gu\n",
              "남구     29500\n",
              "달서구    28000\n",
              "달성군    22800\n",
              "동구     26500\n",
              "북구     22700\n",
              "서구     26500\n",
              "수성구    39300\n",
              "중구     47000\n",
              "Name: transaction, dtype: int64"
            ]
          },
          "metadata": {
            "tags": []
          },
          "execution_count": 37
        }
      ]
    },
    {
      "cell_type": "markdown",
      "metadata": {
        "id": "fe11Ut1USnSs"
      },
      "source": [
        "### groupby 의 이해\n",
        "         - 모를땐 하나하나 뜯어보자"
      ],
      "id": "fe11Ut1USnSs"
    },
    {
      "cell_type": "code",
      "metadata": {
        "colab": {
          "base_uri": "https://localhost:8080/"
        },
        "id": "ocKwwZcCSnSs",
        "outputId": "baa160cb-e3fe-4001-f102-185cfbdae288"
      },
      "source": [
        "df.groupby('gu')['transaction']"
      ],
      "id": "ocKwwZcCSnSs",
      "execution_count": null,
      "outputs": [
        {
          "output_type": "execute_result",
          "data": {
            "text/plain": [
              "<pandas.core.groupby.generic.SeriesGroupBy object at 0x7fbf43f90b90>"
            ]
          },
          "metadata": {
            "tags": []
          },
          "execution_count": 38
        }
      ]
    },
    {
      "cell_type": "code",
      "metadata": {
        "colab": {
          "base_uri": "https://localhost:8080/"
        },
        "id": "5XDUBeUpSnSs",
        "outputId": "506db7bb-5f28-4227-e450-98398190321b"
      },
      "source": [
        "for group_name, group_data, in df.groupby('gu')['transaction']:\n",
        "    print(group_name, type(group_name), group_data.shape, type(group_data), group_data.mean())"
      ],
      "id": "5XDUBeUpSnSs",
      "execution_count": null,
      "outputs": [
        {
          "output_type": "stream",
          "text": [
            "남구 <class 'str'> (2021,) <class 'pandas.core.series.Series'> 31245.86937159822\n",
            "달서구 <class 'str'> (19754,) <class 'pandas.core.series.Series'> 30666.780601397186\n",
            "달성군 <class 'str'> (10837,) <class 'pandas.core.series.Series'> 23045.91621297407\n",
            "동구 <class 'str'> (10045,) <class 'pandas.core.series.Series'> 27791.46819313091\n",
            "북구 <class 'str'> (14768,) <class 'pandas.core.series.Series'> 25828.308369447455\n",
            "서구 <class 'str'> (2263,) <class 'pandas.core.series.Series'> 26432.88422448078\n",
            "수성구 <class 'str'> (12973,) <class 'pandas.core.series.Series'> 49288.61319663918\n",
            "중구 <class 'str'> (2161,) <class 'pandas.core.series.Series'> 45164.44146228598\n"
          ],
          "name": "stdout"
        }
      ]
    },
    {
      "cell_type": "markdown",
      "metadata": {
        "id": "lAcRfZdzSnSs"
      },
      "source": [
        "### 1. splitting"
      ],
      "id": "lAcRfZdzSnSs"
    },
    {
      "cell_type": "code",
      "metadata": {
        "colab": {
          "base_uri": "https://localhost:8080/"
        },
        "id": "cX4sNWuDSnSt",
        "outputId": "a6f4adde-0f71-4c5d-82fb-887d94bf2a0e"
      },
      "source": [
        "df.groupby('gu')"
      ],
      "id": "cX4sNWuDSnSt",
      "execution_count": null,
      "outputs": [
        {
          "output_type": "execute_result",
          "data": {
            "text/plain": [
              "<pandas.core.groupby.generic.DataFrameGroupBy object at 0x7fbf43f9ec90>"
            ]
          },
          "metadata": {
            "tags": []
          },
          "execution_count": 40
        }
      ]
    },
    {
      "cell_type": "code",
      "metadata": {
        "scrolled": true,
        "tags": [],
        "colab": {
          "base_uri": "https://localhost:8080/"
        },
        "id": "hl_RM9DMSnSt",
        "outputId": "8f671139-1d2a-45a9-dffa-4feacdc6ebd9"
      },
      "source": [
        "# 어떻게 그룹화되었는지 알 수 있다.\n",
        "df.groupby('gu').groups"
      ],
      "id": "hl_RM9DMSnSt",
      "execution_count": null,
      "outputs": [
        {
          "output_type": "execute_result",
          "data": {
            "text/plain": [
              "{'남구': [2019-07-01 00:00:00, 2019-07-01 00:00:00, 2019-07-01 00:00:00, 2019-07-01 00:00:00, 2019-07-01 00:00:00, 2019-07-01 00:00:00, 2019-07-02 00:00:00, 2019-07-03 00:00:00, 2019-07-03 00:00:00, 2019-07-03 00:00:00, 2019-07-04 00:00:00, 2019-07-04 00:00:00, 2019-07-05 00:00:00, 2019-07-06 00:00:00, 2019-07-06 00:00:00, 2019-07-06 00:00:00, 2019-07-08 00:00:00, 2019-07-08 00:00:00, 2019-07-08 00:00:00, 2019-07-09 00:00:00, 2019-07-09 00:00:00, 2019-07-10 00:00:00, 2019-07-10 00:00:00, 2019-07-11 00:00:00, 2019-07-12 00:00:00, 2019-07-12 00:00:00, 2019-07-12 00:00:00, 2019-07-12 00:00:00, 2019-07-13 00:00:00, 2019-07-14 00:00:00, 2019-07-14 00:00:00, 2019-07-15 00:00:00, 2019-07-15 00:00:00, 2019-07-15 00:00:00, 2019-07-15 00:00:00, 2019-07-15 00:00:00, 2019-07-15 00:00:00, 2019-07-15 00:00:00, 2019-07-15 00:00:00, 2019-07-16 00:00:00, 2019-07-16 00:00:00, 2019-07-16 00:00:00, 2019-07-16 00:00:00, 2019-07-16 00:00:00, 2019-07-17 00:00:00, 2019-07-17 00:00:00, 2019-07-17 00:00:00, 2019-07-17 00:00:00, 2019-07-17 00:00:00, 2019-07-18 00:00:00, 2019-07-18 00:00:00, 2019-07-19 00:00:00, 2019-07-21 00:00:00, 2019-07-21 00:00:00, 2019-07-22 00:00:00, 2019-07-23 00:00:00, 2019-07-23 00:00:00, 2019-07-23 00:00:00, 2019-07-24 00:00:00, 2019-07-24 00:00:00, 2019-07-24 00:00:00, 2019-07-24 00:00:00, 2019-07-25 00:00:00, 2019-07-25 00:00:00, 2019-07-25 00:00:00, 2019-07-25 00:00:00, 2019-07-26 00:00:00, 2019-07-26 00:00:00, 2019-07-27 00:00:00, 2019-07-27 00:00:00, 2019-07-27 00:00:00, 2019-07-27 00:00:00, 2019-07-27 00:00:00, 2019-07-29 00:00:00, 2019-07-29 00:00:00, 2019-07-29 00:00:00, 2019-07-29 00:00:00, 2019-07-30 00:00:00, 2019-07-30 00:00:00, 2019-07-30 00:00:00, 2019-07-30 00:00:00, 2019-07-31 00:00:00, 2019-08-01 00:00:00, 2019-08-01 00:00:00, 2019-08-02 00:00:00, 2019-08-02 00:00:00, 2019-08-03 00:00:00, 2019-08-04 00:00:00, 2019-08-05 00:00:00, 2019-08-05 00:00:00, 2019-08-05 00:00:00, 2019-08-05 00:00:00, 2019-08-05 00:00:00, 2019-08-05 00:00:00, 2019-08-05 00:00:00, 2019-08-06 00:00:00, 2019-08-07 00:00:00, 2019-08-07 00:00:00, 2019-08-07 00:00:00, 2019-08-08 00:00:00, ...], '달서구': [2019-07-01 00:00:00, 2019-07-01 00:00:00, 2019-07-01 00:00:00, 2019-07-01 00:00:00, 2019-07-01 00:00:00, 2019-07-01 00:00:00, 2019-07-01 00:00:00, 2019-07-01 00:00:00, 2019-07-01 00:00:00, 2019-07-01 00:00:00, 2019-07-01 00:00:00, 2019-07-01 00:00:00, 2019-07-01 00:00:00, 2019-07-01 00:00:00, 2019-07-01 00:00:00, 2019-07-01 00:00:00, 2019-07-01 00:00:00, 2019-07-01 00:00:00, 2019-07-01 00:00:00, 2019-07-01 00:00:00, 2019-07-01 00:00:00, 2019-07-01 00:00:00, 2019-07-01 00:00:00, 2019-07-01 00:00:00, 2019-07-01 00:00:00, 2019-07-01 00:00:00, 2019-07-01 00:00:00, 2019-07-01 00:00:00, 2019-07-01 00:00:00, 2019-07-01 00:00:00, 2019-07-01 00:00:00, 2019-07-01 00:00:00, 2019-07-01 00:00:00, 2019-07-01 00:00:00, 2019-07-01 00:00:00, 2019-07-02 00:00:00, 2019-07-02 00:00:00, 2019-07-02 00:00:00, 2019-07-02 00:00:00, 2019-07-02 00:00:00, 2019-07-02 00:00:00, 2019-07-02 00:00:00, 2019-07-02 00:00:00, 2019-07-02 00:00:00, 2019-07-02 00:00:00, 2019-07-02 00:00:00, 2019-07-02 00:00:00, 2019-07-02 00:00:00, 2019-07-02 00:00:00, 2019-07-02 00:00:00, 2019-07-02 00:00:00, 2019-07-02 00:00:00, 2019-07-02 00:00:00, 2019-07-02 00:00:00, 2019-07-02 00:00:00, 2019-07-02 00:00:00, 2019-07-02 00:00:00, 2019-07-02 00:00:00, 2019-07-02 00:00:00, 2019-07-03 00:00:00, 2019-07-03 00:00:00, 2019-07-03 00:00:00, 2019-07-03 00:00:00, 2019-07-03 00:00:00, 2019-07-03 00:00:00, 2019-07-03 00:00:00, 2019-07-03 00:00:00, 2019-07-03 00:00:00, 2019-07-03 00:00:00, 2019-07-03 00:00:00, 2019-07-03 00:00:00, 2019-07-03 00:00:00, 2019-07-03 00:00:00, 2019-07-03 00:00:00, 2019-07-03 00:00:00, 2019-07-03 00:00:00, 2019-07-04 00:00:00, 2019-07-04 00:00:00, 2019-07-04 00:00:00, 2019-07-04 00:00:00, 2019-07-04 00:00:00, 2019-07-04 00:00:00, 2019-07-04 00:00:00, 2019-07-04 00:00:00, 2019-07-04 00:00:00, 2019-07-04 00:00:00, 2019-07-04 00:00:00, 2019-07-04 00:00:00, 2019-07-04 00:00:00, 2019-07-04 00:00:00, 2019-07-04 00:00:00, 2019-07-04 00:00:00, 2019-07-04 00:00:00, 2019-07-04 00:00:00, 2019-07-04 00:00:00, 2019-07-05 00:00:00, 2019-07-05 00:00:00, 2019-07-05 00:00:00, 2019-07-05 00:00:00, 2019-07-05 00:00:00, ...], '달성군': [2019-07-01 00:00:00, 2019-07-01 00:00:00, 2019-07-01 00:00:00, 2019-07-01 00:00:00, 2019-07-01 00:00:00, 2019-07-01 00:00:00, 2019-07-01 00:00:00, 2019-07-01 00:00:00, 2019-07-01 00:00:00, 2019-07-01 00:00:00, 2019-07-01 00:00:00, 2019-07-01 00:00:00, 2019-07-01 00:00:00, 2019-07-01 00:00:00, 2019-07-01 00:00:00, 2019-07-01 00:00:00, 2019-07-01 00:00:00, 2019-07-01 00:00:00, 2019-07-01 00:00:00, 2019-07-01 00:00:00, 2019-07-01 00:00:00, 2019-07-01 00:00:00, 2019-07-01 00:00:00, 2019-07-01 00:00:00, 2019-07-01 00:00:00, 2019-07-01 00:00:00, 2019-07-01 00:00:00, 2019-07-01 00:00:00, 2019-07-01 00:00:00, 2019-07-01 00:00:00, 2019-07-01 00:00:00, 2019-07-01 00:00:00, 2019-07-01 00:00:00, 2019-07-01 00:00:00, 2019-07-01 00:00:00, 2019-07-01 00:00:00, 2019-07-01 00:00:00, 2019-07-01 00:00:00, 2019-07-01 00:00:00, 2019-07-02 00:00:00, 2019-07-02 00:00:00, 2019-07-02 00:00:00, 2019-07-02 00:00:00, 2019-07-02 00:00:00, 2019-07-02 00:00:00, 2019-07-02 00:00:00, 2019-07-02 00:00:00, 2019-07-02 00:00:00, 2019-07-02 00:00:00, 2019-07-02 00:00:00, 2019-07-02 00:00:00, 2019-07-02 00:00:00, 2019-07-02 00:00:00, 2019-07-02 00:00:00, 2019-07-02 00:00:00, 2019-07-02 00:00:00, 2019-07-02 00:00:00, 2019-07-02 00:00:00, 2019-07-02 00:00:00, 2019-07-02 00:00:00, 2019-07-02 00:00:00, 2019-07-02 00:00:00, 2019-07-02 00:00:00, 2019-07-02 00:00:00, 2019-07-02 00:00:00, 2019-07-02 00:00:00, 2019-07-02 00:00:00, 2019-07-02 00:00:00, 2019-07-02 00:00:00, 2019-07-02 00:00:00, 2019-07-02 00:00:00, 2019-07-02 00:00:00, 2019-07-02 00:00:00, 2019-07-02 00:00:00, 2019-07-02 00:00:00, 2019-07-02 00:00:00, 2019-07-02 00:00:00, 2019-07-02 00:00:00, 2019-07-02 00:00:00, 2019-07-03 00:00:00, 2019-07-03 00:00:00, 2019-07-03 00:00:00, 2019-07-03 00:00:00, 2019-07-03 00:00:00, 2019-07-03 00:00:00, 2019-07-03 00:00:00, 2019-07-03 00:00:00, 2019-07-03 00:00:00, 2019-07-03 00:00:00, 2019-07-03 00:00:00, 2019-07-03 00:00:00, 2019-07-03 00:00:00, 2019-07-03 00:00:00, 2019-07-03 00:00:00, 2019-07-03 00:00:00, 2019-07-03 00:00:00, 2019-07-03 00:00:00, 2019-07-03 00:00:00, 2019-07-03 00:00:00, 2019-07-03 00:00:00, ...], '동구': [2019-07-01 00:00:00, 2019-07-01 00:00:00, 2019-07-01 00:00:00, 2019-07-01 00:00:00, 2019-07-01 00:00:00, 2019-07-01 00:00:00, 2019-07-01 00:00:00, 2019-07-01 00:00:00, 2019-07-01 00:00:00, 2019-07-01 00:00:00, 2019-07-01 00:00:00, 2019-07-01 00:00:00, 2019-07-01 00:00:00, 2019-07-01 00:00:00, 2019-07-01 00:00:00, 2019-07-01 00:00:00, 2019-07-02 00:00:00, 2019-07-02 00:00:00, 2019-07-02 00:00:00, 2019-07-02 00:00:00, 2019-07-02 00:00:00, 2019-07-02 00:00:00, 2019-07-02 00:00:00, 2019-07-02 00:00:00, 2019-07-02 00:00:00, 2019-07-02 00:00:00, 2019-07-02 00:00:00, 2019-07-02 00:00:00, 2019-07-02 00:00:00, 2019-07-02 00:00:00, 2019-07-02 00:00:00, 2019-07-02 00:00:00, 2019-07-02 00:00:00, 2019-07-03 00:00:00, 2019-07-03 00:00:00, 2019-07-03 00:00:00, 2019-07-04 00:00:00, 2019-07-04 00:00:00, 2019-07-04 00:00:00, 2019-07-04 00:00:00, 2019-07-04 00:00:00, 2019-07-04 00:00:00, 2019-07-04 00:00:00, 2019-07-04 00:00:00, 2019-07-04 00:00:00, 2019-07-04 00:00:00, 2019-07-04 00:00:00, 2019-07-05 00:00:00, 2019-07-05 00:00:00, 2019-07-05 00:00:00, 2019-07-05 00:00:00, 2019-07-05 00:00:00, 2019-07-05 00:00:00, 2019-07-05 00:00:00, 2019-07-05 00:00:00, 2019-07-05 00:00:00, 2019-07-05 00:00:00, 2019-07-05 00:00:00, 2019-07-05 00:00:00, 2019-07-05 00:00:00, 2019-07-06 00:00:00, 2019-07-06 00:00:00, 2019-07-06 00:00:00, 2019-07-06 00:00:00, 2019-07-06 00:00:00, 2019-07-06 00:00:00, 2019-07-06 00:00:00, 2019-07-06 00:00:00, 2019-07-06 00:00:00, 2019-07-06 00:00:00, 2019-07-06 00:00:00, 2019-07-06 00:00:00, 2019-07-06 00:00:00, 2019-07-06 00:00:00, 2019-07-07 00:00:00, 2019-07-07 00:00:00, 2019-07-07 00:00:00, 2019-07-07 00:00:00, 2019-07-07 00:00:00, 2019-07-07 00:00:00, 2019-07-07 00:00:00, 2019-07-07 00:00:00, 2019-07-07 00:00:00, 2019-07-07 00:00:00, 2019-07-07 00:00:00, 2019-07-07 00:00:00, 2019-07-08 00:00:00, 2019-07-08 00:00:00, 2019-07-08 00:00:00, 2019-07-08 00:00:00, 2019-07-08 00:00:00, 2019-07-08 00:00:00, 2019-07-08 00:00:00, 2019-07-08 00:00:00, 2019-07-08 00:00:00, 2019-07-08 00:00:00, 2019-07-09 00:00:00, 2019-07-09 00:00:00, 2019-07-09 00:00:00, 2019-07-09 00:00:00, ...], '북구': [2019-07-01 00:00:00, 2019-07-01 00:00:00, 2019-07-01 00:00:00, 2019-07-01 00:00:00, 2019-07-01 00:00:00, 2019-07-01 00:00:00, 2019-07-01 00:00:00, 2019-07-01 00:00:00, 2019-07-01 00:00:00, 2019-07-01 00:00:00, 2019-07-01 00:00:00, 2019-07-01 00:00:00, 2019-07-01 00:00:00, 2019-07-01 00:00:00, 2019-07-01 00:00:00, 2019-07-01 00:00:00, 2019-07-01 00:00:00, 2019-07-01 00:00:00, 2019-07-02 00:00:00, 2019-07-02 00:00:00, 2019-07-02 00:00:00, 2019-07-02 00:00:00, 2019-07-02 00:00:00, 2019-07-02 00:00:00, 2019-07-02 00:00:00, 2019-07-02 00:00:00, 2019-07-02 00:00:00, 2019-07-02 00:00:00, 2019-07-02 00:00:00, 2019-07-02 00:00:00, 2019-07-02 00:00:00, 2019-07-02 00:00:00, 2019-07-03 00:00:00, 2019-07-03 00:00:00, 2019-07-03 00:00:00, 2019-07-03 00:00:00, 2019-07-03 00:00:00, 2019-07-03 00:00:00, 2019-07-03 00:00:00, 2019-07-03 00:00:00, 2019-07-03 00:00:00, 2019-07-03 00:00:00, 2019-07-03 00:00:00, 2019-07-03 00:00:00, 2019-07-03 00:00:00, 2019-07-03 00:00:00, 2019-07-03 00:00:00, 2019-07-03 00:00:00, 2019-07-03 00:00:00, 2019-07-04 00:00:00, 2019-07-04 00:00:00, 2019-07-04 00:00:00, 2019-07-04 00:00:00, 2019-07-04 00:00:00, 2019-07-04 00:00:00, 2019-07-04 00:00:00, 2019-07-04 00:00:00, 2019-07-04 00:00:00, 2019-07-04 00:00:00, 2019-07-04 00:00:00, 2019-07-04 00:00:00, 2019-07-04 00:00:00, 2019-07-04 00:00:00, 2019-07-04 00:00:00, 2019-07-04 00:00:00, 2019-07-05 00:00:00, 2019-07-05 00:00:00, 2019-07-05 00:00:00, 2019-07-05 00:00:00, 2019-07-05 00:00:00, 2019-07-05 00:00:00, 2019-07-05 00:00:00, 2019-07-05 00:00:00, 2019-07-05 00:00:00, 2019-07-05 00:00:00, 2019-07-05 00:00:00, 2019-07-05 00:00:00, 2019-07-05 00:00:00, 2019-07-05 00:00:00, 2019-07-05 00:00:00, 2019-07-05 00:00:00, 2019-07-05 00:00:00, 2019-07-05 00:00:00, 2019-07-05 00:00:00, 2019-07-05 00:00:00, 2019-07-05 00:00:00, 2019-07-05 00:00:00, 2019-07-05 00:00:00, 2019-07-05 00:00:00, 2019-07-06 00:00:00, 2019-07-06 00:00:00, 2019-07-06 00:00:00, 2019-07-06 00:00:00, 2019-07-06 00:00:00, 2019-07-06 00:00:00, 2019-07-06 00:00:00, 2019-07-06 00:00:00, 2019-07-06 00:00:00, 2019-07-06 00:00:00, 2019-07-06 00:00:00, ...], '서구': [2019-07-01 00:00:00, 2019-07-01 00:00:00, 2019-07-01 00:00:00, 2019-07-01 00:00:00, 2019-07-01 00:00:00, 2019-07-02 00:00:00, 2019-07-02 00:00:00, 2019-07-02 00:00:00, 2019-07-02 00:00:00, 2019-07-02 00:00:00, 2019-07-02 00:00:00, 2019-07-03 00:00:00, 2019-07-03 00:00:00, 2019-07-03 00:00:00, 2019-07-03 00:00:00, 2019-07-03 00:00:00, 2019-07-03 00:00:00, 2019-07-04 00:00:00, 2019-07-05 00:00:00, 2019-07-05 00:00:00, 2019-07-05 00:00:00, 2019-07-05 00:00:00, 2019-07-05 00:00:00, 2019-07-06 00:00:00, 2019-07-07 00:00:00, 2019-07-07 00:00:00, 2019-07-07 00:00:00, 2019-07-07 00:00:00, 2019-07-08 00:00:00, 2019-07-08 00:00:00, 2019-07-08 00:00:00, 2019-07-08 00:00:00, 2019-07-09 00:00:00, 2019-07-09 00:00:00, 2019-07-09 00:00:00, 2019-07-09 00:00:00, 2019-07-09 00:00:00, 2019-07-09 00:00:00, 2019-07-09 00:00:00, 2019-07-10 00:00:00, 2019-07-10 00:00:00, 2019-07-10 00:00:00, 2019-07-10 00:00:00, 2019-07-11 00:00:00, 2019-07-12 00:00:00, 2019-07-12 00:00:00, 2019-07-13 00:00:00, 2019-07-13 00:00:00, 2019-07-13 00:00:00, 2019-07-13 00:00:00, 2019-07-14 00:00:00, 2019-07-15 00:00:00, 2019-07-15 00:00:00, 2019-07-15 00:00:00, 2019-07-15 00:00:00, 2019-07-15 00:00:00, 2019-07-15 00:00:00, 2019-07-16 00:00:00, 2019-07-16 00:00:00, 2019-07-16 00:00:00, 2019-07-16 00:00:00, 2019-07-16 00:00:00, 2019-07-17 00:00:00, 2019-07-17 00:00:00, 2019-07-17 00:00:00, 2019-07-17 00:00:00, 2019-07-17 00:00:00, 2019-07-18 00:00:00, 2019-07-18 00:00:00, 2019-07-18 00:00:00, 2019-07-18 00:00:00, 2019-07-18 00:00:00, 2019-07-19 00:00:00, 2019-07-20 00:00:00, 2019-07-21 00:00:00, 2019-07-22 00:00:00, 2019-07-22 00:00:00, 2019-07-22 00:00:00, 2019-07-23 00:00:00, 2019-07-23 00:00:00, 2019-07-23 00:00:00, 2019-07-23 00:00:00, 2019-07-24 00:00:00, 2019-07-25 00:00:00, 2019-07-25 00:00:00, 2019-07-25 00:00:00, 2019-07-26 00:00:00, 2019-07-26 00:00:00, 2019-07-27 00:00:00, 2019-07-27 00:00:00, 2019-07-27 00:00:00, 2019-07-28 00:00:00, 2019-07-29 00:00:00, 2019-07-29 00:00:00, 2019-07-29 00:00:00, 2019-07-29 00:00:00, 2019-07-30 00:00:00, 2019-07-30 00:00:00, 2019-07-30 00:00:00, 2019-07-31 00:00:00, ...], '수성구': [2019-07-01 00:00:00, 2019-07-01 00:00:00, 2019-07-01 00:00:00, 2019-07-01 00:00:00, 2019-07-01 00:00:00, 2019-07-01 00:00:00, 2019-07-01 00:00:00, 2019-07-01 00:00:00, 2019-07-01 00:00:00, 2019-07-01 00:00:00, 2019-07-01 00:00:00, 2019-07-01 00:00:00, 2019-07-01 00:00:00, 2019-07-02 00:00:00, 2019-07-02 00:00:00, 2019-07-02 00:00:00, 2019-07-02 00:00:00, 2019-07-02 00:00:00, 2019-07-02 00:00:00, 2019-07-02 00:00:00, 2019-07-02 00:00:00, 2019-07-02 00:00:00, 2019-07-02 00:00:00, 2019-07-02 00:00:00, 2019-07-02 00:00:00, 2019-07-02 00:00:00, 2019-07-02 00:00:00, 2019-07-03 00:00:00, 2019-07-03 00:00:00, 2019-07-03 00:00:00, 2019-07-03 00:00:00, 2019-07-03 00:00:00, 2019-07-03 00:00:00, 2019-07-03 00:00:00, 2019-07-03 00:00:00, 2019-07-04 00:00:00, 2019-07-04 00:00:00, 2019-07-04 00:00:00, 2019-07-04 00:00:00, 2019-07-04 00:00:00, 2019-07-04 00:00:00, 2019-07-04 00:00:00, 2019-07-05 00:00:00, 2019-07-05 00:00:00, 2019-07-05 00:00:00, 2019-07-05 00:00:00, 2019-07-05 00:00:00, 2019-07-05 00:00:00, 2019-07-05 00:00:00, 2019-07-05 00:00:00, 2019-07-05 00:00:00, 2019-07-05 00:00:00, 2019-07-05 00:00:00, 2019-07-05 00:00:00, 2019-07-05 00:00:00, 2019-07-06 00:00:00, 2019-07-06 00:00:00, 2019-07-06 00:00:00, 2019-07-06 00:00:00, 2019-07-06 00:00:00, 2019-07-06 00:00:00, 2019-07-06 00:00:00, 2019-07-06 00:00:00, 2019-07-06 00:00:00, 2019-07-06 00:00:00, 2019-07-06 00:00:00, 2019-07-06 00:00:00, 2019-07-06 00:00:00, 2019-07-06 00:00:00, 2019-07-06 00:00:00, 2019-07-06 00:00:00, 2019-07-06 00:00:00, 2019-07-07 00:00:00, 2019-07-07 00:00:00, 2019-07-07 00:00:00, 2019-07-08 00:00:00, 2019-07-08 00:00:00, 2019-07-08 00:00:00, 2019-07-08 00:00:00, 2019-07-08 00:00:00, 2019-07-08 00:00:00, 2019-07-08 00:00:00, 2019-07-08 00:00:00, 2019-07-08 00:00:00, 2019-07-08 00:00:00, 2019-07-08 00:00:00, 2019-07-08 00:00:00, 2019-07-08 00:00:00, 2019-07-08 00:00:00, 2019-07-08 00:00:00, 2019-07-08 00:00:00, 2019-07-09 00:00:00, 2019-07-09 00:00:00, 2019-07-09 00:00:00, 2019-07-09 00:00:00, 2019-07-09 00:00:00, 2019-07-09 00:00:00, 2019-07-09 00:00:00, 2019-07-09 00:00:00, 2019-07-09 00:00:00, ...], '중구': [2019-07-01 00:00:00, 2019-07-01 00:00:00, 2019-07-01 00:00:00, 2019-07-01 00:00:00, 2019-07-02 00:00:00, 2019-07-02 00:00:00, 2019-07-03 00:00:00, 2019-07-03 00:00:00, 2019-07-04 00:00:00, 2019-07-05 00:00:00, 2019-07-05 00:00:00, 2019-07-05 00:00:00, 2019-07-05 00:00:00, 2019-07-06 00:00:00, 2019-07-06 00:00:00, 2019-07-06 00:00:00, 2019-07-07 00:00:00, 2019-07-08 00:00:00, 2019-07-08 00:00:00, 2019-07-09 00:00:00, 2019-07-09 00:00:00, 2019-07-12 00:00:00, 2019-07-13 00:00:00, 2019-07-13 00:00:00, 2019-07-14 00:00:00, 2019-07-15 00:00:00, 2019-07-15 00:00:00, 2019-07-16 00:00:00, 2019-07-16 00:00:00, 2019-07-17 00:00:00, 2019-07-18 00:00:00, 2019-07-18 00:00:00, 2019-07-19 00:00:00, 2019-07-19 00:00:00, 2019-07-19 00:00:00, 2019-07-19 00:00:00, 2019-07-19 00:00:00, 2019-07-20 00:00:00, 2019-07-21 00:00:00, 2019-07-22 00:00:00, 2019-07-22 00:00:00, 2019-07-23 00:00:00, 2019-07-23 00:00:00, 2019-07-23 00:00:00, 2019-07-23 00:00:00, 2019-07-25 00:00:00, 2019-07-25 00:00:00, 2019-07-25 00:00:00, 2019-07-26 00:00:00, 2019-07-27 00:00:00, 2019-07-27 00:00:00, 2019-07-27 00:00:00, 2019-07-29 00:00:00, 2019-07-29 00:00:00, 2019-07-30 00:00:00, 2019-07-30 00:00:00, 2019-07-30 00:00:00, 2019-07-31 00:00:00, 2019-08-01 00:00:00, 2019-08-01 00:00:00, 2019-08-01 00:00:00, 2019-08-02 00:00:00, 2019-08-03 00:00:00, 2019-08-03 00:00:00, 2019-08-03 00:00:00, 2019-08-05 00:00:00, 2019-08-05 00:00:00, 2019-08-05 00:00:00, 2019-08-05 00:00:00, 2019-08-05 00:00:00, 2019-08-05 00:00:00, 2019-08-05 00:00:00, 2019-08-06 00:00:00, 2019-08-06 00:00:00, 2019-08-07 00:00:00, 2019-08-08 00:00:00, 2019-08-10 00:00:00, 2019-08-10 00:00:00, 2019-08-12 00:00:00, 2019-08-13 00:00:00, 2019-08-14 00:00:00, 2019-08-14 00:00:00, 2019-08-19 00:00:00, 2019-08-19 00:00:00, 2019-08-20 00:00:00, 2019-08-20 00:00:00, 2019-08-20 00:00:00, 2019-08-20 00:00:00, 2019-08-22 00:00:00, 2019-08-23 00:00:00, 2019-08-23 00:00:00, 2019-08-23 00:00:00, 2019-08-23 00:00:00, 2019-08-24 00:00:00, 2019-08-24 00:00:00, 2019-08-24 00:00:00, 2019-08-25 00:00:00, 2019-08-28 00:00:00, 2019-08-28 00:00:00, 2019-08-28 00:00:00, ...]}"
            ]
          },
          "metadata": {
            "tags": []
          },
          "execution_count": 41
        }
      ]
    },
    {
      "cell_type": "code",
      "metadata": {
        "colab": {
          "base_uri": "https://localhost:8080/"
        },
        "id": "DFXL_NgGSnSt",
        "outputId": "12d404e6-3005-45c5-b3a0-2b2eb3c5b24f"
      },
      "source": [
        "# 함수를 넘겨줘도 상관 없다.\n",
        "# 모든 행에대해서 어떤 그룹인지 정해 줄 수 있으면 된다.\n",
        "def month_split(index):\n",
        "    return index.month\n",
        "\n",
        "df.groupby(month_split)['transaction'].max()"
      ],
      "id": "DFXL_NgGSnSt",
      "execution_count": null,
      "outputs": [
        {
          "output_type": "execute_result",
          "data": {
            "text/plain": [
              "1     245000\n",
              "2     190000\n",
              "3     243000\n",
              "4     250000\n",
              "5     235000\n",
              "6     220000\n",
              "7     345000\n",
              "8     207000\n",
              "9     249000\n",
              "10    245000\n",
              "11    345000\n",
              "12    255000\n",
              "Name: transaction, dtype: int64"
            ]
          },
          "metadata": {
            "tags": []
          },
          "execution_count": 42
        }
      ]
    },
    {
      "cell_type": "markdown",
      "metadata": {
        "id": "G6y6KzT5SnSt"
      },
      "source": [
        "### 2. apply & combining"
      ],
      "id": "G6y6KzT5SnSt"
    },
    {
      "cell_type": "code",
      "metadata": {
        "colab": {
          "base_uri": "https://localhost:8080/"
        },
        "id": "pMM9ogeoSnSu",
        "outputId": "46b6a1f8-406a-474c-dbdb-d9d9ba6e7042"
      },
      "source": [
        "target_cols = ['transaction', 'built']\n",
        "df.groupby('gu')[target_cols].min()"
      ],
      "id": "pMM9ogeoSnSu",
      "execution_count": null,
      "outputs": [
        {
          "output_type": "execute_result",
          "data": {
            "text/html": [
              "<div>\n",
              "<style scoped>\n",
              "    .dataframe tbody tr th:only-of-type {\n",
              "        vertical-align: middle;\n",
              "    }\n",
              "\n",
              "    .dataframe tbody tr th {\n",
              "        vertical-align: top;\n",
              "    }\n",
              "\n",
              "    .dataframe thead th {\n",
              "        text-align: right;\n",
              "    }\n",
              "</style>\n",
              "<table border=\"1\" class=\"dataframe\">\n",
              "  <thead>\n",
              "    <tr style=\"text-align: right;\">\n",
              "      <th></th>\n",
              "      <th>transaction</th>\n",
              "      <th>built</th>\n",
              "    </tr>\n",
              "    <tr>\n",
              "      <th>gu</th>\n",
              "      <th></th>\n",
              "      <th></th>\n",
              "    </tr>\n",
              "  </thead>\n",
              "  <tbody>\n",
              "    <tr>\n",
              "      <th>남구</th>\n",
              "      <td>5900</td>\n",
              "      <td>1977</td>\n",
              "    </tr>\n",
              "    <tr>\n",
              "      <th>달서구</th>\n",
              "      <td>4000</td>\n",
              "      <td>1978</td>\n",
              "    </tr>\n",
              "    <tr>\n",
              "      <th>달성군</th>\n",
              "      <td>1500</td>\n",
              "      <td>1984</td>\n",
              "    </tr>\n",
              "    <tr>\n",
              "      <th>동구</th>\n",
              "      <td>4700</td>\n",
              "      <td>1974</td>\n",
              "    </tr>\n",
              "    <tr>\n",
              "      <th>북구</th>\n",
              "      <td>4800</td>\n",
              "      <td>1978</td>\n",
              "    </tr>\n",
              "    <tr>\n",
              "      <th>서구</th>\n",
              "      <td>5220</td>\n",
              "      <td>1978</td>\n",
              "    </tr>\n",
              "    <tr>\n",
              "      <th>수성구</th>\n",
              "      <td>7300</td>\n",
              "      <td>1976</td>\n",
              "    </tr>\n",
              "    <tr>\n",
              "      <th>중구</th>\n",
              "      <td>5000</td>\n",
              "      <td>1973</td>\n",
              "    </tr>\n",
              "  </tbody>\n",
              "</table>\n",
              "</div>"
            ],
            "text/plain": [
              "     transaction  built\n",
              "gu                     \n",
              "남구          5900   1977\n",
              "달서구         4000   1978\n",
              "달성군         1500   1984\n",
              "동구          4700   1974\n",
              "북구          4800   1978\n",
              "서구          5220   1978\n",
              "수성구         7300   1976\n",
              "중구          5000   1973"
            ]
          },
          "metadata": {
            "tags": []
          },
          "execution_count": 43
        }
      ]
    },
    {
      "cell_type": "code",
      "metadata": {
        "colab": {
          "base_uri": "https://localhost:8080/"
        },
        "id": "eYBnADkqSnSu",
        "outputId": "897460f0-86b0-4dd5-99b5-28caaacb97c2"
      },
      "source": [
        "df.groupby('gu')['built'].apply(min)"
      ],
      "id": "eYBnADkqSnSu",
      "execution_count": null,
      "outputs": [
        {
          "output_type": "execute_result",
          "data": {
            "text/plain": [
              "gu\n",
              "남구     1977\n",
              "달서구    1978\n",
              "달성군    1984\n",
              "동구     1974\n",
              "북구     1978\n",
              "서구     1978\n",
              "수성구    1976\n",
              "중구     1973\n",
              "Name: built, dtype: int64"
            ]
          },
          "metadata": {
            "tags": []
          },
          "execution_count": 44
        }
      ]
    },
    {
      "cell_type": "code",
      "metadata": {
        "colab": {
          "base_uri": "https://localhost:8080/"
        },
        "id": "DGLBAcCJSnSu",
        "outputId": "bd3da124-101f-4755-b30c-28bd0de9e2cc"
      },
      "source": [
        "df.groupby('gu')[['transaction', 'month', 'year', 'area']].min()"
      ],
      "id": "DGLBAcCJSnSu",
      "execution_count": null,
      "outputs": [
        {
          "output_type": "execute_result",
          "data": {
            "text/html": [
              "<div>\n",
              "<style scoped>\n",
              "    .dataframe tbody tr th:only-of-type {\n",
              "        vertical-align: middle;\n",
              "    }\n",
              "\n",
              "    .dataframe tbody tr th {\n",
              "        vertical-align: top;\n",
              "    }\n",
              "\n",
              "    .dataframe thead th {\n",
              "        text-align: right;\n",
              "    }\n",
              "</style>\n",
              "<table border=\"1\" class=\"dataframe\">\n",
              "  <thead>\n",
              "    <tr style=\"text-align: right;\">\n",
              "      <th></th>\n",
              "      <th>transaction</th>\n",
              "      <th>month</th>\n",
              "      <th>year</th>\n",
              "      <th>area</th>\n",
              "    </tr>\n",
              "    <tr>\n",
              "      <th>gu</th>\n",
              "      <th></th>\n",
              "      <th></th>\n",
              "      <th></th>\n",
              "      <th></th>\n",
              "    </tr>\n",
              "  </thead>\n",
              "  <tbody>\n",
              "    <tr>\n",
              "      <th>남구</th>\n",
              "      <td>5900</td>\n",
              "      <td>1</td>\n",
              "      <td>2019</td>\n",
              "      <td>35.2750</td>\n",
              "    </tr>\n",
              "    <tr>\n",
              "      <th>달서구</th>\n",
              "      <td>4000</td>\n",
              "      <td>1</td>\n",
              "      <td>2019</td>\n",
              "      <td>30.6000</td>\n",
              "    </tr>\n",
              "    <tr>\n",
              "      <th>달성군</th>\n",
              "      <td>1500</td>\n",
              "      <td>1</td>\n",
              "      <td>2019</td>\n",
              "      <td>23.1000</td>\n",
              "    </tr>\n",
              "    <tr>\n",
              "      <th>동구</th>\n",
              "      <td>4700</td>\n",
              "      <td>1</td>\n",
              "      <td>2019</td>\n",
              "      <td>17.8000</td>\n",
              "    </tr>\n",
              "    <tr>\n",
              "      <th>북구</th>\n",
              "      <td>4800</td>\n",
              "      <td>1</td>\n",
              "      <td>2019</td>\n",
              "      <td>22.2388</td>\n",
              "    </tr>\n",
              "    <tr>\n",
              "      <th>서구</th>\n",
              "      <td>5220</td>\n",
              "      <td>1</td>\n",
              "      <td>2019</td>\n",
              "      <td>22.9500</td>\n",
              "    </tr>\n",
              "    <tr>\n",
              "      <th>수성구</th>\n",
              "      <td>7300</td>\n",
              "      <td>1</td>\n",
              "      <td>2019</td>\n",
              "      <td>11.8800</td>\n",
              "    </tr>\n",
              "    <tr>\n",
              "      <th>중구</th>\n",
              "      <td>5000</td>\n",
              "      <td>1</td>\n",
              "      <td>2019</td>\n",
              "      <td>12.6520</td>\n",
              "    </tr>\n",
              "  </tbody>\n",
              "</table>\n",
              "</div>"
            ],
            "text/plain": [
              "     transaction  month  year     area\n",
              "gu                                    \n",
              "남구          5900      1  2019  35.2750\n",
              "달서구         4000      1  2019  30.6000\n",
              "달성군         1500      1  2019  23.1000\n",
              "동구          4700      1  2019  17.8000\n",
              "북구          4800      1  2019  22.2388\n",
              "서구          5220      1  2019  22.9500\n",
              "수성구         7300      1  2019  11.8800\n",
              "중구          5000      1  2019  12.6520"
            ]
          },
          "metadata": {
            "tags": []
          },
          "execution_count": 45
        }
      ]
    },
    {
      "cell_type": "code",
      "metadata": {
        "colab": {
          "base_uri": "https://localhost:8080/"
        },
        "id": "qj_B3IkkSnSu",
        "outputId": "37200bd5-4a13-44e8-d30c-b14d79c11a2e"
      },
      "source": [
        "df.groupby('apt')['transaction'].agg(['min', 'max', 'median'])"
      ],
      "id": "qj_B3IkkSnSu",
      "execution_count": null,
      "outputs": [
        {
          "output_type": "execute_result",
          "data": {
            "text/html": [
              "<div>\n",
              "<style scoped>\n",
              "    .dataframe tbody tr th:only-of-type {\n",
              "        vertical-align: middle;\n",
              "    }\n",
              "\n",
              "    .dataframe tbody tr th {\n",
              "        vertical-align: top;\n",
              "    }\n",
              "\n",
              "    .dataframe thead th {\n",
              "        text-align: right;\n",
              "    }\n",
              "</style>\n",
              "<table border=\"1\" class=\"dataframe\">\n",
              "  <thead>\n",
              "    <tr style=\"text-align: right;\">\n",
              "      <th></th>\n",
              "      <th>min</th>\n",
              "      <th>max</th>\n",
              "      <th>median</th>\n",
              "    </tr>\n",
              "    <tr>\n",
              "      <th>apt</th>\n",
              "      <th></th>\n",
              "      <th></th>\n",
              "      <th></th>\n",
              "    </tr>\n",
              "  </thead>\n",
              "  <tbody>\n",
              "    <tr>\n",
              "      <th>(1197-20)</th>\n",
              "      <td>28000</td>\n",
              "      <td>33700</td>\n",
              "      <td>29500.0</td>\n",
              "    </tr>\n",
              "    <tr>\n",
              "      <th>(417-2)</th>\n",
              "      <td>22000</td>\n",
              "      <td>25800</td>\n",
              "      <td>24800.0</td>\n",
              "    </tr>\n",
              "    <tr>\n",
              "      <th>(420-0)</th>\n",
              "      <td>23500</td>\n",
              "      <td>23800</td>\n",
              "      <td>23650.0</td>\n",
              "    </tr>\n",
              "    <tr>\n",
              "      <th>(화원)영남</th>\n",
              "      <td>16800</td>\n",
              "      <td>29500</td>\n",
              "      <td>23900.0</td>\n",
              "    </tr>\n",
              "    <tr>\n",
              "      <th>(화원)청구청탑맨션</th>\n",
              "      <td>12000</td>\n",
              "      <td>24700</td>\n",
              "      <td>15300.0</td>\n",
              "    </tr>\n",
              "    <tr>\n",
              "      <th>...</th>\n",
              "      <td>...</td>\n",
              "      <td>...</td>\n",
              "      <td>...</td>\n",
              "    </tr>\n",
              "    <tr>\n",
              "      <th>희망교대성유니드</th>\n",
              "      <td>24500</td>\n",
              "      <td>58000</td>\n",
              "      <td>32100.0</td>\n",
              "    </tr>\n",
              "    <tr>\n",
              "      <th>힐데스하임아파트</th>\n",
              "      <td>19000</td>\n",
              "      <td>32950</td>\n",
              "      <td>24900.0</td>\n",
              "    </tr>\n",
              "    <tr>\n",
              "      <th>힐스테이트 범어</th>\n",
              "      <td>104100</td>\n",
              "      <td>200000</td>\n",
              "      <td>151000.0</td>\n",
              "    </tr>\n",
              "    <tr>\n",
              "      <th>힐스테이트황금동</th>\n",
              "      <td>49500</td>\n",
              "      <td>120000</td>\n",
              "      <td>82000.0</td>\n",
              "    </tr>\n",
              "    <tr>\n",
              "      <th>힐트리움</th>\n",
              "      <td>27000</td>\n",
              "      <td>28700</td>\n",
              "      <td>27300.0</td>\n",
              "    </tr>\n",
              "  </tbody>\n",
              "</table>\n",
              "<p>1692 rows × 3 columns</p>\n",
              "</div>"
            ],
            "text/plain": [
              "               min     max    median\n",
              "apt                                 \n",
              "(1197-20)    28000   33700   29500.0\n",
              "(417-2)      22000   25800   24800.0\n",
              "(420-0)      23500   23800   23650.0\n",
              "(화원)영남       16800   29500   23900.0\n",
              "(화원)청구청탑맨션   12000   24700   15300.0\n",
              "...            ...     ...       ...\n",
              "희망교대성유니드     24500   58000   32100.0\n",
              "힐데스하임아파트     19000   32950   24900.0\n",
              "힐스테이트 범어    104100  200000  151000.0\n",
              "힐스테이트황금동     49500  120000   82000.0\n",
              "힐트리움         27000   28700   27300.0\n",
              "\n",
              "[1692 rows x 3 columns]"
            ]
          },
          "metadata": {
            "tags": []
          },
          "execution_count": 46
        }
      ]
    },
    {
      "cell_type": "markdown",
      "metadata": {
        "id": "o9dx9VJfSnSv"
      },
      "source": [
        "### ex) 거래대금이 가장 변동성이 높은 '구'를 고르시요"
      ],
      "id": "o9dx9VJfSnSv"
    },
    {
      "cell_type": "markdown",
      "metadata": {
        "id": "_AYk_x5ZSnSv"
      },
      "source": [
        "- hint: sort_values"
      ],
      "id": "_AYk_x5ZSnSv"
    },
    {
      "cell_type": "code",
      "metadata": {
        "colab": {
          "base_uri": "https://localhost:8080/"
        },
        "id": "iDDOSbf9SnSv",
        "outputId": "4dcb4d98-1cec-480b-f5eb-50e49f1f4bf7"
      },
      "source": [
        "df.groupby('gu')['transaction'].std().sort_values(ascending=False)"
      ],
      "id": "iDDOSbf9SnSv",
      "execution_count": null,
      "outputs": [
        {
          "output_type": "execute_result",
          "data": {
            "text/plain": [
              "gu\n",
              "수성구    32713.633015\n",
              "달서구    15850.797591\n",
              "중구     15751.054449\n",
              "남구     13076.174494\n",
              "북구     12966.683614\n",
              "동구     11986.849957\n",
              "서구     11385.730106\n",
              "달성군    10975.464711\n",
              "Name: transaction, dtype: float64"
            ]
          },
          "metadata": {
            "tags": []
          },
          "execution_count": 47
        }
      ]
    },
    {
      "cell_type": "markdown",
      "metadata": {
        "id": "Injgn7euSnSv"
      },
      "source": [
        "### ex) 거래대금이 가장 변동성이 높은 아파트를 10개를 출력해보세요"
      ],
      "id": "Injgn7euSnSv"
    },
    {
      "cell_type": "code",
      "metadata": {
        "colab": {
          "base_uri": "https://localhost:8080/"
        },
        "id": "NOgpKeenSnSv",
        "outputId": "fa68fa5c-1c44-4c2c-d83e-5829d141a813"
      },
      "source": [
        "df.groupby('apt')['transaction'].std().nlargest(10) #nsmallest(10)"
      ],
      "id": "NOgpKeenSnSv",
      "execution_count": null,
      "outputs": [
        {
          "output_type": "execute_result",
          "data": {
            "text/plain": [
              "apt\n",
              "태왕아너스         42160.360147\n",
              "수성포레힐         41605.288125\n",
              "두산위브더제니스      38028.892459\n",
              "수성하이츠         37925.332116\n",
              "유림노르웨이숲       30616.494793\n",
              "현대하이페리온2단지    30471.805860\n",
              "경남타운          30112.092176\n",
              "범어롯데캐슬        29530.375040\n",
              "범어에스케이뷰       29463.156095\n",
              "을지맨션          27638.595359\n",
              "Name: transaction, dtype: float64"
            ]
          },
          "metadata": {
            "tags": []
          },
          "execution_count": 48
        }
      ]
    },
    {
      "cell_type": "code",
      "metadata": {
        "colab": {
          "base_uri": "https://localhost:8080/"
        },
        "id": "uOTK06XMSnSv",
        "outputId": "b3011932-43c0-42c5-fea7-52ba6eb57c3f"
      },
      "source": [
        "df.describe()"
      ],
      "id": "uOTK06XMSnSv",
      "execution_count": null,
      "outputs": [
        {
          "output_type": "execute_result",
          "data": {
            "text/html": [
              "<div>\n",
              "<style scoped>\n",
              "    .dataframe tbody tr th:only-of-type {\n",
              "        vertical-align: middle;\n",
              "    }\n",
              "\n",
              "    .dataframe tbody tr th {\n",
              "        vertical-align: top;\n",
              "    }\n",
              "\n",
              "    .dataframe thead th {\n",
              "        text-align: right;\n",
              "    }\n",
              "</style>\n",
              "<table border=\"1\" class=\"dataframe\">\n",
              "  <thead>\n",
              "    <tr style=\"text-align: right;\">\n",
              "      <th></th>\n",
              "      <th>area</th>\n",
              "      <th>transaction</th>\n",
              "      <th>floor</th>\n",
              "      <th>built</th>\n",
              "      <th>year</th>\n",
              "      <th>month</th>\n",
              "      <th>day</th>\n",
              "    </tr>\n",
              "  </thead>\n",
              "  <tbody>\n",
              "    <tr>\n",
              "      <th>count</th>\n",
              "      <td>74822.000000</td>\n",
              "      <td>74822.000000</td>\n",
              "      <td>74822.000000</td>\n",
              "      <td>74822.000000</td>\n",
              "      <td>74822.000000</td>\n",
              "      <td>74822.000000</td>\n",
              "      <td>74822.000000</td>\n",
              "    </tr>\n",
              "    <tr>\n",
              "      <th>mean</th>\n",
              "      <td>77.706626</td>\n",
              "      <td>31757.036567</td>\n",
              "      <td>9.607361</td>\n",
              "      <td>2002.178664</td>\n",
              "      <td>2019.881051</td>\n",
              "      <td>7.352797</td>\n",
              "      <td>15.781668</td>\n",
              "    </tr>\n",
              "    <tr>\n",
              "      <th>std</th>\n",
              "      <td>25.093547</td>\n",
              "      <td>20425.203404</td>\n",
              "      <td>6.472128</td>\n",
              "      <td>10.286096</td>\n",
              "      <td>0.592127</td>\n",
              "      <td>3.464989</td>\n",
              "      <td>8.630833</td>\n",
              "    </tr>\n",
              "    <tr>\n",
              "      <th>min</th>\n",
              "      <td>11.880000</td>\n",
              "      <td>1500.000000</td>\n",
              "      <td>-1.000000</td>\n",
              "      <td>1973.000000</td>\n",
              "      <td>2019.000000</td>\n",
              "      <td>1.000000</td>\n",
              "      <td>1.000000</td>\n",
              "    </tr>\n",
              "    <tr>\n",
              "      <th>25%</th>\n",
              "      <td>59.910000</td>\n",
              "      <td>18300.000000</td>\n",
              "      <td>4.000000</td>\n",
              "      <td>1995.000000</td>\n",
              "      <td>2020.000000</td>\n",
              "      <td>5.000000</td>\n",
              "      <td>8.000000</td>\n",
              "    </tr>\n",
              "    <tr>\n",
              "      <th>50%</th>\n",
              "      <td>83.491900</td>\n",
              "      <td>27400.000000</td>\n",
              "      <td>9.000000</td>\n",
              "      <td>2002.000000</td>\n",
              "      <td>2020.000000</td>\n",
              "      <td>8.000000</td>\n",
              "      <td>16.000000</td>\n",
              "    </tr>\n",
              "    <tr>\n",
              "      <th>75%</th>\n",
              "      <td>84.970000</td>\n",
              "      <td>39000.000000</td>\n",
              "      <td>14.000000</td>\n",
              "      <td>2011.000000</td>\n",
              "      <td>2020.000000</td>\n",
              "      <td>10.000000</td>\n",
              "      <td>23.000000</td>\n",
              "    </tr>\n",
              "    <tr>\n",
              "      <th>max</th>\n",
              "      <td>250.910000</td>\n",
              "      <td>345000.000000</td>\n",
              "      <td>53.000000</td>\n",
              "      <td>2021.000000</td>\n",
              "      <td>2021.000000</td>\n",
              "      <td>12.000000</td>\n",
              "      <td>31.000000</td>\n",
              "    </tr>\n",
              "  </tbody>\n",
              "</table>\n",
              "</div>"
            ],
            "text/plain": [
              "               area    transaction  ...         month           day\n",
              "count  74822.000000   74822.000000  ...  74822.000000  74822.000000\n",
              "mean      77.706626   31757.036567  ...      7.352797     15.781668\n",
              "std       25.093547   20425.203404  ...      3.464989      8.630833\n",
              "min       11.880000    1500.000000  ...      1.000000      1.000000\n",
              "25%       59.910000   18300.000000  ...      5.000000      8.000000\n",
              "50%       83.491900   27400.000000  ...      8.000000     16.000000\n",
              "75%       84.970000   39000.000000  ...     10.000000     23.000000\n",
              "max      250.910000  345000.000000  ...     12.000000     31.000000\n",
              "\n",
              "[8 rows x 7 columns]"
            ]
          },
          "metadata": {
            "tags": []
          },
          "execution_count": 49
        }
      ]
    },
    {
      "cell_type": "code",
      "metadata": {
        "id": "tTv2qaFUSnSw"
      },
      "source": [
        ""
      ],
      "id": "tTv2qaFUSnSw",
      "execution_count": null,
      "outputs": []
    },
    {
      "cell_type": "code",
      "metadata": {
        "colab": {
          "base_uri": "https://localhost:8080/"
        },
        "id": "CO4YP-c7SnSw",
        "outputId": "27b378bf-b17b-4c58-961d-9d925504b8e8"
      },
      "source": [
        "df.sample(5)"
      ],
      "id": "CO4YP-c7SnSw",
      "execution_count": null,
      "outputs": [
        {
          "output_type": "execute_result",
          "data": {
            "text/html": [
              "<div>\n",
              "<style scoped>\n",
              "    .dataframe tbody tr th:only-of-type {\n",
              "        vertical-align: middle;\n",
              "    }\n",
              "\n",
              "    .dataframe tbody tr th {\n",
              "        vertical-align: top;\n",
              "    }\n",
              "\n",
              "    .dataframe thead th {\n",
              "        text-align: right;\n",
              "    }\n",
              "</style>\n",
              "<table border=\"1\" class=\"dataframe\">\n",
              "  <thead>\n",
              "    <tr style=\"text-align: right;\">\n",
              "      <th></th>\n",
              "      <th>apt</th>\n",
              "      <th>area</th>\n",
              "      <th>transaction</th>\n",
              "      <th>floor</th>\n",
              "      <th>built</th>\n",
              "      <th>road</th>\n",
              "      <th>year</th>\n",
              "      <th>month</th>\n",
              "      <th>day</th>\n",
              "      <th>city</th>\n",
              "      <th>gu</th>\n",
              "      <th>dong</th>\n",
              "    </tr>\n",
              "    <tr>\n",
              "      <th>cdate</th>\n",
              "      <th></th>\n",
              "      <th></th>\n",
              "      <th></th>\n",
              "      <th></th>\n",
              "      <th></th>\n",
              "      <th></th>\n",
              "      <th></th>\n",
              "      <th></th>\n",
              "      <th></th>\n",
              "      <th></th>\n",
              "      <th></th>\n",
              "      <th></th>\n",
              "    </tr>\n",
              "  </thead>\n",
              "  <tbody>\n",
              "    <tr>\n",
              "      <th>2020-01-20</th>\n",
              "      <td>북죽곡엠코타운더솔레뉴</td>\n",
              "      <td>76.5713</td>\n",
              "      <td>27700</td>\n",
              "      <td>20</td>\n",
              "      <td>2016</td>\n",
              "      <td>세천로 160</td>\n",
              "      <td>2020</td>\n",
              "      <td>1</td>\n",
              "      <td>20</td>\n",
              "      <td>대구광역시</td>\n",
              "      <td>달성군</td>\n",
              "      <td>다사읍 세천리</td>\n",
              "    </tr>\n",
              "    <tr>\n",
              "      <th>2020-07-09</th>\n",
              "      <td>제림은탑맨션</td>\n",
              "      <td>84.9900</td>\n",
              "      <td>29000</td>\n",
              "      <td>1</td>\n",
              "      <td>1994</td>\n",
              "      <td>천을로 49</td>\n",
              "      <td>2020</td>\n",
              "      <td>7</td>\n",
              "      <td>9</td>\n",
              "      <td>대구광역시</td>\n",
              "      <td>수성구</td>\n",
              "      <td>시지동</td>\n",
              "    </tr>\n",
              "    <tr>\n",
              "      <th>2020-09-05</th>\n",
              "      <td>대구이시아폴리스더샵3차</td>\n",
              "      <td>84.8500</td>\n",
              "      <td>40500</td>\n",
              "      <td>17</td>\n",
              "      <td>2013</td>\n",
              "      <td>팔공로51길 10</td>\n",
              "      <td>2020</td>\n",
              "      <td>9</td>\n",
              "      <td>5</td>\n",
              "      <td>대구광역시</td>\n",
              "      <td>동구</td>\n",
              "      <td>봉무동</td>\n",
              "    </tr>\n",
              "    <tr>\n",
              "      <th>2019-12-10</th>\n",
              "      <td>코스모스한양</td>\n",
              "      <td>84.9450</td>\n",
              "      <td>21500</td>\n",
              "      <td>4</td>\n",
              "      <td>1993</td>\n",
              "      <td>구암로21길 6</td>\n",
              "      <td>2019</td>\n",
              "      <td>12</td>\n",
              "      <td>10</td>\n",
              "      <td>대구광역시</td>\n",
              "      <td>북구</td>\n",
              "      <td>읍내동</td>\n",
              "    </tr>\n",
              "    <tr>\n",
              "      <th>2020-02-12</th>\n",
              "      <td>칠곡이편한세상</td>\n",
              "      <td>84.7337</td>\n",
              "      <td>33300</td>\n",
              "      <td>4</td>\n",
              "      <td>2009</td>\n",
              "      <td>칠곡중앙대로 598</td>\n",
              "      <td>2020</td>\n",
              "      <td>2</td>\n",
              "      <td>12</td>\n",
              "      <td>대구광역시</td>\n",
              "      <td>북구</td>\n",
              "      <td>읍내동</td>\n",
              "    </tr>\n",
              "  </tbody>\n",
              "</table>\n",
              "</div>"
            ],
            "text/plain": [
              "                     apt     area  transaction  floor  ...  day   city   gu     dong\n",
              "cdate                                                  ...                          \n",
              "2020-01-20   북죽곡엠코타운더솔레뉴  76.5713        27700     20  ...   20  대구광역시  달성군  다사읍 세천리\n",
              "2020-07-09        제림은탑맨션  84.9900        29000      1  ...    9  대구광역시  수성구      시지동\n",
              "2020-09-05  대구이시아폴리스더샵3차  84.8500        40500     17  ...    5  대구광역시   동구      봉무동\n",
              "2019-12-10        코스모스한양  84.9450        21500      4  ...   10  대구광역시   북구      읍내동\n",
              "2020-02-12       칠곡이편한세상  84.7337        33300      4  ...   12  대구광역시   북구      읍내동\n",
              "\n",
              "[5 rows x 12 columns]"
            ]
          },
          "metadata": {
            "tags": []
          },
          "execution_count": 50
        }
      ]
    },
    {
      "cell_type": "code",
      "metadata": {
        "id": "aY8oCQL5SnSw"
      },
      "source": [
        ""
      ],
      "id": "aY8oCQL5SnSw",
      "execution_count": null,
      "outputs": []
    },
    {
      "cell_type": "code",
      "metadata": {
        "id": "zWKatGhoSjr2"
      },
      "source": [
        ""
      ],
      "id": "zWKatGhoSjr2",
      "execution_count": null,
      "outputs": []
    },
    {
      "cell_type": "markdown",
      "metadata": {
        "id": "Czk6jqhUGkgH"
      },
      "source": [
        "## Plot with Pandas"
      ],
      "id": "Czk6jqhUGkgH"
    },
    {
      "cell_type": "markdown",
      "metadata": {
        "id": "uDGoElp6PLIh"
      },
      "source": [
        "- pandas.DataFrame.plot\n",
        "- pandas.Series.plot"
      ],
      "id": "uDGoElp6PLIh"
    },
    {
      "cell_type": "code",
      "metadata": {
        "colab": {
          "base_uri": "https://localhost:8080/",
          "height": 297
        },
        "id": "kXCmFrc-GkgI",
        "outputId": "da30ccf3-991c-4dd0-cf10-7807c3b7d4af"
      },
      "source": [
        "df.groupby('floor').transaction.std().plot(style=\"k.\")"
      ],
      "id": "kXCmFrc-GkgI",
      "execution_count": null,
      "outputs": [
        {
          "output_type": "execute_result",
          "data": {
            "text/plain": [
              "<matplotlib.axes._subplots.AxesSubplot at 0x7fbf43eab9d0>"
            ]
          },
          "metadata": {
            "tags": []
          },
          "execution_count": 51
        },
        {
          "output_type": "display_data",
          "data": {
            "image/png": "[encoded data removed]",
            "text/plain": [
              "<Figure size 432x288 with 1 Axes>"
            ]
          },
          "metadata": {
            "tags": [],
            "needs_background": "light"
          }
        }
      ]
    },
    {
      "cell_type": "markdown",
      "metadata": {
        "id": "z-22Qds-GkgI"
      },
      "source": [
        "### ex) scatter plot 을 그려보자\n",
        "\n",
        "가로축(x)은 건물의 최고높이, 세로축(y)은 그 건물의 거래금액 중간값으로 해서, scatter plot 으로 그리시오"
      ],
      "id": "z-22Qds-GkgI"
    },
    {
      "cell_type": "markdown",
      "metadata": {
        "id": "D8Ne78F9GkgJ"
      },
      "source": [
        "- hint: \n",
        "```python\n",
        "        >>> pd.DataFrame.plot(x='...', y='...', kind='scatter')\n",
        "```"
      ],
      "id": "D8Ne78F9GkgJ"
    },
    {
      "cell_type": "code",
      "metadata": {
        "colab": {
          "base_uri": "https://localhost:8080/",
          "height": 141
        },
        "id": "Bgmqv-86GkgJ",
        "outputId": "2d9fd3ad-5510-4f4f-f6f6-23470e7f81d8"
      },
      "source": [
        "floor = df.groupby('apt').floor.max()\n",
        "howmuch = df.groupby('apt').transaction.median()\n",
        "relation_df = pd.concat([floor, howmuch], axis=1)\n",
        "relation_df.head(2)"
      ],
      "id": "Bgmqv-86GkgJ",
      "execution_count": null,
      "outputs": [
        {
          "output_type": "execute_result",
          "data": {
            "text/html": [
              "<div>\n",
              "<style scoped>\n",
              "    .dataframe tbody tr th:only-of-type {\n",
              "        vertical-align: middle;\n",
              "    }\n",
              "\n",
              "    .dataframe tbody tr th {\n",
              "        vertical-align: top;\n",
              "    }\n",
              "\n",
              "    .dataframe thead th {\n",
              "        text-align: right;\n",
              "    }\n",
              "</style>\n",
              "<table border=\"1\" class=\"dataframe\">\n",
              "  <thead>\n",
              "    <tr style=\"text-align: right;\">\n",
              "      <th></th>\n",
              "      <th>floor</th>\n",
              "      <th>transaction</th>\n",
              "    </tr>\n",
              "    <tr>\n",
              "      <th>apt</th>\n",
              "      <th></th>\n",
              "      <th></th>\n",
              "    </tr>\n",
              "  </thead>\n",
              "  <tbody>\n",
              "    <tr>\n",
              "      <th>(1197-20)</th>\n",
              "      <td>9</td>\n",
              "      <td>29500.0</td>\n",
              "    </tr>\n",
              "    <tr>\n",
              "      <th>(417-2)</th>\n",
              "      <td>9</td>\n",
              "      <td>24800.0</td>\n",
              "    </tr>\n",
              "  </tbody>\n",
              "</table>\n",
              "</div>"
            ],
            "text/plain": [
              "           floor  transaction\n",
              "apt                          \n",
              "(1197-20)      9      29500.0\n",
              "(417-2)        9      24800.0"
            ]
          },
          "metadata": {
            "tags": []
          },
          "execution_count": 52
        }
      ]
    },
    {
      "cell_type": "code",
      "metadata": {
        "colab": {
          "base_uri": "https://localhost:8080/",
          "height": 514
        },
        "id": "2hp1r_9EGkgK",
        "outputId": "74e87a01-5489-4e88-a548-914fc5ad9a39"
      },
      "source": [
        "relation_df.plot(x='floor', y='transaction', kind='scatter', figsize=(10, 8))"
      ],
      "id": "2hp1r_9EGkgK",
      "execution_count": null,
      "outputs": [
        {
          "output_type": "execute_result",
          "data": {
            "text/plain": [
              "<matplotlib.axes._subplots.AxesSubplot at 0x7fbf43caa650>"
            ]
          },
          "metadata": {
            "tags": []
          },
          "execution_count": 53
        },
        {
          "output_type": "display_data",
          "data": {
            "image/png": "[encoded data removed]",
            "text/plain": [
              "<Figure size 720x576 with 1 Axes>"
            ]
          },
          "metadata": {
            "tags": [],
            "needs_background": "light"
          }
        }
      ]
    },
    {
      "cell_type": "code",
      "metadata": {
        "colab": {
          "base_uri": "https://localhost:8080/",
          "height": 616
        },
        "id": "fuB7y_ptGkgK",
        "outputId": "8371d809-a9d5-4a8a-dfc1-e73066539602"
      },
      "source": [
        "# 위 그래프를 boxplot 으로 그리기\n",
        "relation_df.boxplot(by=\"floor\", rot=90, figsize=(10, 8))"
      ],
      "id": "fuB7y_ptGkgK",
      "execution_count": null,
      "outputs": [
        {
          "output_type": "stream",
          "text": [
            "/usr/local/lib/python3.7/dist-packages/numpy/core/_asarray.py:83: VisibleDeprecationWarning: Creating an ndarray from ragged nested sequences (which is a list-or-tuple of lists-or-tuples-or ndarrays with different lengths or shapes) is deprecated. If you meant to do this, you must specify 'dtype=object' when creating the ndarray\n",
            "  return array(a, dtype, copy=False, order=order)\n"
          ],
          "name": "stderr"
        },
        {
          "output_type": "execute_result",
          "data": {
            "text/plain": [
              "<matplotlib.axes._subplots.AxesSubplot at 0x7fbf43dd6510>"
            ]
          },
          "metadata": {
            "tags": []
          },
          "execution_count": 54
        },
        {
          "output_type": "display_data",
          "data": {
            "image/png": "[encoded data removed]",
            "text/plain": [
              "<Figure size 720x576 with 1 Axes>"
            ]
          },
          "metadata": {
            "tags": [],
            "needs_background": "light"
          }
        }
      ]
    },
    {
      "cell_type": "code",
      "metadata": {
        "colab": {
          "base_uri": "https://localhost:8080/",
          "height": 282
        },
        "id": "ajyojtV5GkgK",
        "outputId": "f76605b8-7abe-4282-c6ae-741cdb3af665"
      },
      "source": [
        "# Wrong! 이렇게 하면 안된다\n",
        "relation_df.plot.box(by='floor')"
      ],
      "id": "ajyojtV5GkgK",
      "execution_count": null,
      "outputs": [
        {
          "output_type": "execute_result",
          "data": {
            "text/plain": [
              "<matplotlib.axes._subplots.AxesSubplot at 0x7fbf43c32f90>"
            ]
          },
          "metadata": {
            "tags": []
          },
          "execution_count": 55
        },
        {
          "output_type": "display_data",
          "data": {
            "image/png": "[encoded data removed]",
            "text/plain": [
              "<Figure size 432x288 with 1 Axes>"
            ]
          },
          "metadata": {
            "tags": [],
            "needs_background": "light"
          }
        }
      ]
    },
    {
      "cell_type": "markdown",
      "metadata": {
        "id": "bZASvlrWOuHN"
      },
      "source": [
        "- 데이터 Scale 문제 처리(서로 다른 범주의 데이터를 비교할 때 필요한 방법)\n",
        "    - min, max 활용\n",
        "        - ex) x-x.min()/(x.max()-x.min())"
      ],
      "id": "bZASvlrWOuHN"
    },
    {
      "cell_type": "markdown",
      "metadata": {
        "id": "8aa34732-bf43-4f51-a525-3c1481585684"
      },
      "source": [
        "## 어제 질문 map! "
      ],
      "id": "8aa34732-bf43-4f51-a525-3c1481585684"
    },
    {
      "cell_type": "markdown",
      "metadata": {
        "id": "T4WDHol7U41n"
      },
      "source": [
        "### pd.Series.map 과 pd.Series.apply의 차이는?\n",
        "- 요약\n",
        "    - apply 에는 (호출할수있는) 함수가 들어와야하지만\n",
        "    - map는 어떻게 값을 변경해야되는지 알려줄수만 있으면 된다."
      ],
      "id": "T4WDHol7U41n"
    },
    {
      "cell_type": "code",
      "metadata": {
        "colab": {
          "base_uri": "https://localhost:8080/",
          "height": 160
        },
        "id": "8QJHrKbVpMQ3",
        "outputId": "d67b215d-470e-49c7-a629-32f40d81d501"
      },
      "source": [
        "file_path = \"/content/drive/MyDrive/data/아파트(매매)__실거래가_(20190701_20200531).csv\"\n",
        "\n",
        "raw_df = pd.read_csv(file_path, skiprows=15, encoding='euc-kr')\n",
        "raw_df.sample(2)"
      ],
      "id": "8QJHrKbVpMQ3",
      "execution_count": null,
      "outputs": [
        {
          "output_type": "execute_result",
          "data": {
            "text/html": [
              "<div>\n",
              "<style scoped>\n",
              "    .dataframe tbody tr th:only-of-type {\n",
              "        vertical-align: middle;\n",
              "    }\n",
              "\n",
              "    .dataframe tbody tr th {\n",
              "        vertical-align: top;\n",
              "    }\n",
              "\n",
              "    .dataframe thead th {\n",
              "        text-align: right;\n",
              "    }\n",
              "</style>\n",
              "<table border=\"1\" class=\"dataframe\">\n",
              "  <thead>\n",
              "    <tr style=\"text-align: right;\">\n",
              "      <th></th>\n",
              "      <th>시군구</th>\n",
              "      <th>번지</th>\n",
              "      <th>본번</th>\n",
              "      <th>부번</th>\n",
              "      <th>단지명</th>\n",
              "      <th>전용면적(㎡)</th>\n",
              "      <th>계약년월</th>\n",
              "      <th>계약일</th>\n",
              "      <th>거래금액(만원)</th>\n",
              "      <th>층</th>\n",
              "      <th>건축년도</th>\n",
              "      <th>도로명</th>\n",
              "      <th>해제사유발생일</th>\n",
              "    </tr>\n",
              "  </thead>\n",
              "  <tbody>\n",
              "    <tr>\n",
              "      <th>12847</th>\n",
              "      <td>대구광역시 달성군 유가읍 봉리</td>\n",
              "      <td>659</td>\n",
              "      <td>659</td>\n",
              "      <td>0</td>\n",
              "      <td>호반베르디움2차</td>\n",
              "      <td>98.8946</td>\n",
              "      <td>201908</td>\n",
              "      <td>30</td>\n",
              "      <td>34,200</td>\n",
              "      <td>17</td>\n",
              "      <td>2016</td>\n",
              "      <td>테크노대로5길 80</td>\n",
              "      <td>NaN</td>\n",
              "    </tr>\n",
              "    <tr>\n",
              "      <th>30488</th>\n",
              "      <td>대구광역시 수성구 지산동</td>\n",
              "      <td>1234-1</td>\n",
              "      <td>1234</td>\n",
              "      <td>1</td>\n",
              "      <td>지산2단지</td>\n",
              "      <td>59.5600</td>\n",
              "      <td>201908</td>\n",
              "      <td>27</td>\n",
              "      <td>16,400</td>\n",
              "      <td>15</td>\n",
              "      <td>1991</td>\n",
              "      <td>지산로 5</td>\n",
              "      <td>NaN</td>\n",
              "    </tr>\n",
              "  </tbody>\n",
              "</table>\n",
              "</div>"
            ],
            "text/plain": [
              "                    시군구      번지    본번  부번  ...   층  건축년도         도로명  해제사유발생일\n",
              "12847  대구광역시 달성군 유가읍 봉리     659   659   0  ...  17  2016  테크노대로5길 80      NaN\n",
              "30488     대구광역시 수성구 지산동  1234-1  1234   1  ...  15  1991       지산로 5      NaN\n",
              "\n",
              "[2 rows x 13 columns]"
            ]
          },
          "metadata": {
            "tags": []
          },
          "execution_count": 56
        }
      ]
    },
    {
      "cell_type": "markdown",
      "metadata": {
        "id": "A-3wxxCpVtXq"
      },
      "source": [
        "### map 의 활용"
      ],
      "id": "A-3wxxCpVtXq"
    },
    {
      "cell_type": "code",
      "metadata": {
        "colab": {
          "base_uri": "https://localhost:8080/"
        },
        "id": "6GRcSTawpaVz",
        "outputId": "95ee6d49-052a-450d-e7ed-e8427f6b26f1"
      },
      "source": [
        "raw_df['도로명'][:5]"
      ],
      "id": "6GRcSTawpaVz",
      "execution_count": null,
      "outputs": [
        {
          "output_type": "execute_result",
          "data": {
            "text/plain": [
              "0    양지남길 28\n",
              "1    대명로 117\n",
              "2    대명로 117\n",
              "3    대명로 117\n",
              "4    대명로 117\n",
              "Name: 도로명, dtype: object"
            ]
          },
          "metadata": {
            "tags": []
          },
          "execution_count": 57
        }
      ]
    },
    {
      "cell_type": "code",
      "metadata": {
        "colab": {
          "base_uri": "https://localhost:8080/"
        },
        "id": "hTMfB3gvpvcD",
        "outputId": "386ea99a-ae12-4397-931e-770fd0252e5a"
      },
      "source": [
        "change_map = {\n",
        "    \"양지남길 28\": \"양\",\n",
        "    \"대명로\"  : \"대\"\n",
        "}\n",
        "\n",
        "raw_df['도로명'][:5].map(change_map)"
      ],
      "id": "hTMfB3gvpvcD",
      "execution_count": null,
      "outputs": [
        {
          "output_type": "execute_result",
          "data": {
            "text/plain": [
              "0      양\n",
              "1    NaN\n",
              "2    NaN\n",
              "3    NaN\n",
              "4    NaN\n",
              "Name: 도로명, dtype: object"
            ]
          },
          "metadata": {
            "tags": []
          },
          "execution_count": 58
        }
      ]
    },
    {
      "cell_type": "code",
      "metadata": {
        "colab": {
          "base_uri": "https://localhost:8080/"
        },
        "id": "OTeOvDv8qKav",
        "outputId": "c7d1c3f3-20a2-41e9-b61e-35d2d28283d3"
      },
      "source": [
        "raw_df['도로명'][:5].map(\"-----> {}\".format)"
      ],
      "id": "OTeOvDv8qKav",
      "execution_count": null,
      "outputs": [
        {
          "output_type": "execute_result",
          "data": {
            "text/plain": [
              "0    -----> 양지남길 28\n",
              "1    -----> 대명로 117\n",
              "2    -----> 대명로 117\n",
              "3    -----> 대명로 117\n",
              "4    -----> 대명로 117\n",
              "Name: 도로명, dtype: object"
            ]
          },
          "metadata": {
            "tags": []
          },
          "execution_count": 59
        }
      ]
    },
    {
      "cell_type": "code",
      "metadata": {
        "colab": {
          "base_uri": "https://localhost:8080/"
        },
        "id": "4roN91I9qnHH",
        "outputId": "4504940f-84c8-4cd6-8bd7-520d7d778466"
      },
      "source": [
        "s = pd.Series([1, 2, 3, 4])\n",
        "s"
      ],
      "id": "4roN91I9qnHH",
      "execution_count": null,
      "outputs": [
        {
          "output_type": "execute_result",
          "data": {
            "text/plain": [
              "0    1\n",
              "1    2\n",
              "2    3\n",
              "3    4\n",
              "dtype: int64"
            ]
          },
          "metadata": {
            "tags": []
          },
          "execution_count": 60
        }
      ]
    },
    {
      "cell_type": "code",
      "metadata": {
        "colab": {
          "base_uri": "https://localhost:8080/"
        },
        "id": "RWxB8mT6puYd",
        "outputId": "1947ddc7-76e2-4228-965a-b364d065bcc1"
      },
      "source": [
        "dic = {1:5, 2:4}\n",
        "s.map(dic)"
      ],
      "id": "RWxB8mT6puYd",
      "execution_count": null,
      "outputs": [
        {
          "output_type": "execute_result",
          "data": {
            "text/plain": [
              "0    5.0\n",
              "1    4.0\n",
              "2    NaN\n",
              "3    NaN\n",
              "dtype: float64"
            ]
          },
          "metadata": {
            "tags": []
          },
          "execution_count": 61
        }
      ]
    },
    {
      "cell_type": "markdown",
      "metadata": {
        "id": "0QJuLLjPV8C_"
      },
      "source": [
        "#### apply vs map"
      ],
      "id": "0QJuLLjPV8C_"
    },
    {
      "cell_type": "markdown",
      "metadata": {
        "id": "rfzV6VCQWDmG"
      },
      "source": [
        "##### 'dic' 이 함수가 아니기 때문에 에러가난다"
      ],
      "id": "rfzV6VCQWDmG"
    },
    {
      "cell_type": "code",
      "metadata": {
        "colab": {
          "base_uri": "https://localhost:8080/",
          "height": 472
        },
        "id": "5Q353ZrIhUHp",
        "outputId": "6fd62099-cd38-4619-b8a4-25409334c5f7"
      },
      "source": [
        "s.apply(dic)"
      ],
      "id": "5Q353ZrIhUHp",
      "execution_count": null,
      "outputs": [
        {
          "output_type": "error",
          "ename": "TypeError",
          "evalue": "ignored",
          "traceback": [
            "\u001b[0;31m---------------------------------------------------------------------------\u001b[0m",
            "\u001b[0;31mTypeError\u001b[0m                                 Traceback (most recent call last)",
            "\u001b[0;32m/usr/local/lib/python3.7/dist-packages/pandas/core/series.py\u001b[0m in \u001b[0;36maggregate\u001b[0;34m(self, func, axis, *args, **kwargs)\u001b[0m\n\u001b[1;32m   4065\u001b[0m             \u001b[0;32mtry\u001b[0m\u001b[0;34m:\u001b[0m\u001b[0;34m\u001b[0m\u001b[0;34m\u001b[0m\u001b[0m\n\u001b[0;32m-> 4066\u001b[0;31m                 \u001b[0mresult\u001b[0m \u001b[0;34m=\u001b[0m \u001b[0mself\u001b[0m\u001b[0;34m.\u001b[0m\u001b[0mapply\u001b[0m\u001b[0;34m(\u001b[0m\u001b[0mfunc\u001b[0m\u001b[0;34m,\u001b[0m \u001b[0;34m*\u001b[0m\u001b[0margs\u001b[0m\u001b[0;34m,\u001b[0m \u001b[0;34m**\u001b[0m\u001b[0mkwargs\u001b[0m\u001b[0;34m)\u001b[0m\u001b[0;34m\u001b[0m\u001b[0;34m\u001b[0m\u001b[0m\n\u001b[0m\u001b[1;32m   4067\u001b[0m             \u001b[0;32mexcept\u001b[0m \u001b[0;34m(\u001b[0m\u001b[0mValueError\u001b[0m\u001b[0;34m,\u001b[0m \u001b[0mAttributeError\u001b[0m\u001b[0;34m,\u001b[0m \u001b[0mTypeError\u001b[0m\u001b[0;34m)\u001b[0m\u001b[0;34m:\u001b[0m\u001b[0;34m\u001b[0m\u001b[0;34m\u001b[0m\u001b[0m\n",
            "\u001b[0;32m/usr/local/lib/python3.7/dist-packages/pandas/core/series.py\u001b[0m in \u001b[0;36mapply\u001b[0;34m(self, func, convert_dtype, args, **kwds)\u001b[0m\n\u001b[1;32m   4212\u001b[0m                 \u001b[0mvalues\u001b[0m \u001b[0;34m=\u001b[0m \u001b[0mself\u001b[0m\u001b[0;34m.\u001b[0m\u001b[0mastype\u001b[0m\u001b[0;34m(\u001b[0m\u001b[0mobject\u001b[0m\u001b[0;34m)\u001b[0m\u001b[0;34m.\u001b[0m\u001b[0m_values\u001b[0m\u001b[0;34m\u001b[0m\u001b[0;34m\u001b[0m\u001b[0m\n\u001b[0;32m-> 4213\u001b[0;31m                 \u001b[0mmapped\u001b[0m \u001b[0;34m=\u001b[0m \u001b[0mlib\u001b[0m\u001b[0;34m.\u001b[0m\u001b[0mmap_infer\u001b[0m\u001b[0;34m(\u001b[0m\u001b[0mvalues\u001b[0m\u001b[0;34m,\u001b[0m \u001b[0mf\u001b[0m\u001b[0;34m,\u001b[0m \u001b[0mconvert\u001b[0m\u001b[0;34m=\u001b[0m\u001b[0mconvert_dtype\u001b[0m\u001b[0;34m)\u001b[0m\u001b[0;34m\u001b[0m\u001b[0;34m\u001b[0m\u001b[0m\n\u001b[0m\u001b[1;32m   4214\u001b[0m \u001b[0;34m\u001b[0m\u001b[0m\n",
            "\u001b[0;32mpandas/_libs/lib.pyx\u001b[0m in \u001b[0;36mpandas._libs.lib.map_infer\u001b[0;34m()\u001b[0m\n",
            "\u001b[0;31mTypeError\u001b[0m: 'int' object is not callable",
            "\nDuring handling of the above exception, another exception occurred:\n",
            "\u001b[0;31mTypeError\u001b[0m                                 Traceback (most recent call last)",
            "\u001b[0;32m<ipython-input-62-371c6a6e758a>\u001b[0m in \u001b[0;36m<module>\u001b[0;34m()\u001b[0m\n\u001b[0;32m----> 1\u001b[0;31m \u001b[0ms\u001b[0m\u001b[0;34m.\u001b[0m\u001b[0mapply\u001b[0m\u001b[0;34m(\u001b[0m\u001b[0mdic\u001b[0m\u001b[0;34m)\u001b[0m\u001b[0;34m\u001b[0m\u001b[0;34m\u001b[0m\u001b[0m\n\u001b[0m",
            "\u001b[0;32m/usr/local/lib/python3.7/dist-packages/pandas/core/series.py\u001b[0m in \u001b[0;36mapply\u001b[0;34m(self, func, convert_dtype, args, **kwds)\u001b[0m\n\u001b[1;32m   4186\u001b[0m         \u001b[0;31m# dispatch to agg\u001b[0m\u001b[0;34m\u001b[0m\u001b[0;34m\u001b[0m\u001b[0;34m\u001b[0m\u001b[0m\n\u001b[1;32m   4187\u001b[0m         \u001b[0;32mif\u001b[0m \u001b[0misinstance\u001b[0m\u001b[0;34m(\u001b[0m\u001b[0mfunc\u001b[0m\u001b[0;34m,\u001b[0m \u001b[0;34m(\u001b[0m\u001b[0mlist\u001b[0m\u001b[0;34m,\u001b[0m \u001b[0mdict\u001b[0m\u001b[0;34m)\u001b[0m\u001b[0;34m)\u001b[0m\u001b[0;34m:\u001b[0m\u001b[0;34m\u001b[0m\u001b[0;34m\u001b[0m\u001b[0m\n\u001b[0;32m-> 4188\u001b[0;31m             \u001b[0;32mreturn\u001b[0m \u001b[0mself\u001b[0m\u001b[0;34m.\u001b[0m\u001b[0maggregate\u001b[0m\u001b[0;34m(\u001b[0m\u001b[0mfunc\u001b[0m\u001b[0;34m,\u001b[0m \u001b[0;34m*\u001b[0m\u001b[0margs\u001b[0m\u001b[0;34m,\u001b[0m \u001b[0;34m**\u001b[0m\u001b[0mkwds\u001b[0m\u001b[0;34m)\u001b[0m\u001b[0;34m\u001b[0m\u001b[0;34m\u001b[0m\u001b[0m\n\u001b[0m\u001b[1;32m   4189\u001b[0m \u001b[0;34m\u001b[0m\u001b[0m\n\u001b[1;32m   4190\u001b[0m         \u001b[0;31m# if we are a string, try to dispatch\u001b[0m\u001b[0;34m\u001b[0m\u001b[0;34m\u001b[0m\u001b[0;34m\u001b[0m\u001b[0m\n",
            "\u001b[0;32m/usr/local/lib/python3.7/dist-packages/pandas/core/series.py\u001b[0m in \u001b[0;36maggregate\u001b[0;34m(self, func, axis, *args, **kwargs)\u001b[0m\n\u001b[1;32m   4047\u001b[0m             \u001b[0mfunc\u001b[0m \u001b[0;34m=\u001b[0m \u001b[0mdict\u001b[0m\u001b[0;34m(\u001b[0m\u001b[0mkwargs\u001b[0m\u001b[0;34m.\u001b[0m\u001b[0mitems\u001b[0m\u001b[0;34m(\u001b[0m\u001b[0;34m)\u001b[0m\u001b[0;34m)\u001b[0m\u001b[0;34m\u001b[0m\u001b[0;34m\u001b[0m\u001b[0m\n\u001b[1;32m   4048\u001b[0m \u001b[0;34m\u001b[0m\u001b[0m\n\u001b[0;32m-> 4049\u001b[0;31m         \u001b[0mresult\u001b[0m\u001b[0;34m,\u001b[0m \u001b[0mhow\u001b[0m \u001b[0;34m=\u001b[0m \u001b[0mself\u001b[0m\u001b[0;34m.\u001b[0m\u001b[0m_aggregate\u001b[0m\u001b[0;34m(\u001b[0m\u001b[0mfunc\u001b[0m\u001b[0;34m,\u001b[0m \u001b[0;34m*\u001b[0m\u001b[0margs\u001b[0m\u001b[0;34m,\u001b[0m \u001b[0;34m**\u001b[0m\u001b[0mkwargs\u001b[0m\u001b[0;34m)\u001b[0m\u001b[0;34m\u001b[0m\u001b[0;34m\u001b[0m\u001b[0m\n\u001b[0m\u001b[1;32m   4050\u001b[0m         \u001b[0;32mif\u001b[0m \u001b[0mresult\u001b[0m \u001b[0;32mis\u001b[0m \u001b[0;32mNone\u001b[0m\u001b[0;34m:\u001b[0m\u001b[0;34m\u001b[0m\u001b[0;34m\u001b[0m\u001b[0m\n\u001b[1;32m   4051\u001b[0m \u001b[0;34m\u001b[0m\u001b[0m\n",
            "\u001b[0;32m/usr/local/lib/python3.7/dist-packages/pandas/core/base.py\u001b[0m in \u001b[0;36m_aggregate\u001b[0;34m(self, arg, *args, **kwargs)\u001b[0m\n\u001b[1;32m    414\u001b[0m \u001b[0;34m\u001b[0m\u001b[0m\n\u001b[1;32m    415\u001b[0m                 \u001b[0;32mtry\u001b[0m\u001b[0;34m:\u001b[0m\u001b[0;34m\u001b[0m\u001b[0;34m\u001b[0m\u001b[0m\n\u001b[0;32m--> 416\u001b[0;31m                     \u001b[0mresult\u001b[0m \u001b[0;34m=\u001b[0m \u001b[0m_agg\u001b[0m\u001b[0;34m(\u001b[0m\u001b[0marg\u001b[0m\u001b[0;34m,\u001b[0m \u001b[0m_agg_1dim\u001b[0m\u001b[0;34m)\u001b[0m\u001b[0;34m\u001b[0m\u001b[0;34m\u001b[0m\u001b[0m\n\u001b[0m\u001b[1;32m    417\u001b[0m                 \u001b[0;32mexcept\u001b[0m \u001b[0mSpecificationError\u001b[0m\u001b[0;34m:\u001b[0m\u001b[0;34m\u001b[0m\u001b[0;34m\u001b[0m\u001b[0m\n\u001b[1;32m    418\u001b[0m \u001b[0;34m\u001b[0m\u001b[0m\n",
            "\u001b[0;32m/usr/local/lib/python3.7/dist-packages/pandas/core/base.py\u001b[0m in \u001b[0;36m_agg\u001b[0;34m(arg, func)\u001b[0m\n\u001b[1;32m    381\u001b[0m                 \u001b[0mresult\u001b[0m \u001b[0;34m=\u001b[0m \u001b[0;34m{\u001b[0m\u001b[0;34m}\u001b[0m\u001b[0;34m\u001b[0m\u001b[0;34m\u001b[0m\u001b[0m\n\u001b[1;32m    382\u001b[0m                 \u001b[0;32mfor\u001b[0m \u001b[0mfname\u001b[0m\u001b[0;34m,\u001b[0m \u001b[0magg_how\u001b[0m \u001b[0;32min\u001b[0m \u001b[0marg\u001b[0m\u001b[0;34m.\u001b[0m\u001b[0mitems\u001b[0m\u001b[0;34m(\u001b[0m\u001b[0;34m)\u001b[0m\u001b[0;34m:\u001b[0m\u001b[0;34m\u001b[0m\u001b[0;34m\u001b[0m\u001b[0m\n\u001b[0;32m--> 383\u001b[0;31m                     \u001b[0mresult\u001b[0m\u001b[0;34m[\u001b[0m\u001b[0mfname\u001b[0m\u001b[0;34m]\u001b[0m \u001b[0;34m=\u001b[0m \u001b[0mfunc\u001b[0m\u001b[0;34m(\u001b[0m\u001b[0mfname\u001b[0m\u001b[0;34m,\u001b[0m \u001b[0magg_how\u001b[0m\u001b[0;34m)\u001b[0m\u001b[0;34m\u001b[0m\u001b[0;34m\u001b[0m\u001b[0m\n\u001b[0m\u001b[1;32m    384\u001b[0m                 \u001b[0;32mreturn\u001b[0m \u001b[0mresult\u001b[0m\u001b[0;34m\u001b[0m\u001b[0;34m\u001b[0m\u001b[0m\n\u001b[1;32m    385\u001b[0m \u001b[0;34m\u001b[0m\u001b[0m\n",
            "\u001b[0;32m/usr/local/lib/python3.7/dist-packages/pandas/core/base.py\u001b[0m in \u001b[0;36m_agg_1dim\u001b[0;34m(name, how, subset)\u001b[0m\n\u001b[1;32m    365\u001b[0m                         \u001b[0;34m\"nested dictionary is ambiguous in aggregation\"\u001b[0m\u001b[0;34m\u001b[0m\u001b[0;34m\u001b[0m\u001b[0m\n\u001b[1;32m    366\u001b[0m                     )\n\u001b[0;32m--> 367\u001b[0;31m                 \u001b[0;32mreturn\u001b[0m \u001b[0mcolg\u001b[0m\u001b[0;34m.\u001b[0m\u001b[0maggregate\u001b[0m\u001b[0;34m(\u001b[0m\u001b[0mhow\u001b[0m\u001b[0;34m)\u001b[0m\u001b[0;34m\u001b[0m\u001b[0;34m\u001b[0m\u001b[0m\n\u001b[0m\u001b[1;32m    368\u001b[0m \u001b[0;34m\u001b[0m\u001b[0m\n\u001b[1;32m    369\u001b[0m             \u001b[0;32mdef\u001b[0m \u001b[0m_agg_2dim\u001b[0m\u001b[0;34m(\u001b[0m\u001b[0mhow\u001b[0m\u001b[0;34m)\u001b[0m\u001b[0;34m:\u001b[0m\u001b[0;34m\u001b[0m\u001b[0;34m\u001b[0m\u001b[0m\n",
            "\u001b[0;32m/usr/local/lib/python3.7/dist-packages/pandas/core/series.py\u001b[0m in \u001b[0;36maggregate\u001b[0;34m(self, func, axis, *args, **kwargs)\u001b[0m\n\u001b[1;32m   4066\u001b[0m                 \u001b[0mresult\u001b[0m \u001b[0;34m=\u001b[0m \u001b[0mself\u001b[0m\u001b[0;34m.\u001b[0m\u001b[0mapply\u001b[0m\u001b[0;34m(\u001b[0m\u001b[0mfunc\u001b[0m\u001b[0;34m,\u001b[0m \u001b[0;34m*\u001b[0m\u001b[0margs\u001b[0m\u001b[0;34m,\u001b[0m \u001b[0;34m**\u001b[0m\u001b[0mkwargs\u001b[0m\u001b[0;34m)\u001b[0m\u001b[0;34m\u001b[0m\u001b[0;34m\u001b[0m\u001b[0m\n\u001b[1;32m   4067\u001b[0m             \u001b[0;32mexcept\u001b[0m \u001b[0;34m(\u001b[0m\u001b[0mValueError\u001b[0m\u001b[0;34m,\u001b[0m \u001b[0mAttributeError\u001b[0m\u001b[0;34m,\u001b[0m \u001b[0mTypeError\u001b[0m\u001b[0;34m)\u001b[0m\u001b[0;34m:\u001b[0m\u001b[0;34m\u001b[0m\u001b[0;34m\u001b[0m\u001b[0m\n\u001b[0;32m-> 4068\u001b[0;31m                 \u001b[0mresult\u001b[0m \u001b[0;34m=\u001b[0m \u001b[0mfunc\u001b[0m\u001b[0;34m(\u001b[0m\u001b[0mself\u001b[0m\u001b[0;34m,\u001b[0m \u001b[0;34m*\u001b[0m\u001b[0margs\u001b[0m\u001b[0;34m,\u001b[0m \u001b[0;34m**\u001b[0m\u001b[0mkwargs\u001b[0m\u001b[0;34m)\u001b[0m\u001b[0;34m\u001b[0m\u001b[0;34m\u001b[0m\u001b[0m\n\u001b[0m\u001b[1;32m   4069\u001b[0m \u001b[0;34m\u001b[0m\u001b[0m\n\u001b[1;32m   4070\u001b[0m         \u001b[0;32mreturn\u001b[0m \u001b[0mresult\u001b[0m\u001b[0;34m\u001b[0m\u001b[0;34m\u001b[0m\u001b[0m\n",
            "\u001b[0;31mTypeError\u001b[0m: 'int' object is not callable"
          ]
        }
      ]
    },
    {
      "cell_type": "markdown",
      "metadata": {
        "id": "86ixp3XfWXBP"
      },
      "source": [
        "##### `map`은 되는데 `apply`는 안되는 경우"
      ],
      "id": "86ixp3XfWXBP"
    },
    {
      "cell_type": "code",
      "metadata": {
        "id": "RFIokUS2WMcz"
      },
      "source": [
        "s.apply(s)"
      ],
      "id": "RFIokUS2WMcz",
      "execution_count": null,
      "outputs": []
    },
    {
      "cell_type": "markdown",
      "metadata": {
        "id": "Jqk2bHo-W3w7"
      },
      "source": [
        "- 's' 는 index Series 라서 label-based 접근이 가능하다. 따라서 함수는 아니지만 'index'를 주면 'value'를 줄 수 있기 때문에 `map` 사용이 가능하다"
      ],
      "id": "Jqk2bHo-W3w7"
    },
    {
      "cell_type": "code",
      "metadata": {
        "id": "RlBjH6nvq62j"
      },
      "source": [
        "s.map(s)"
      ],
      "id": "RlBjH6nvq62j",
      "execution_count": null,
      "outputs": []
    },
    {
      "cell_type": "code",
      "metadata": {
        "id": "TbD4j2JLq6kz"
      },
      "source": [
        "for i in s.index:\n",
        "    print(s[i])"
      ],
      "id": "TbD4j2JLq6kz",
      "execution_count": null,
      "outputs": []
    },
    {
      "cell_type": "markdown",
      "metadata": {
        "id": "9lIZ7fzhXg0W"
      },
      "source": [
        "##### `apply`는 되는데 `map`은 안되는 경우"
      ],
      "id": "9lIZ7fzhXg0W"
    },
    {
      "cell_type": "markdown",
      "metadata": {
        "id": "gXJ3GqBDYAmP"
      },
      "source": [
        "함수에 인자값을 줄수 있다."
      ],
      "id": "gXJ3GqBDYAmP"
    },
    {
      "cell_type": "code",
      "metadata": {
        "id": "K2U14FNkq6Rm"
      },
      "source": [
        "def my_cal(x, a):\n",
        "    return x + a\n",
        "\n",
        "\n",
        "s.apply(my_cal, a=2)\n"
      ],
      "id": "K2U14FNkq6Rm",
      "execution_count": null,
      "outputs": []
    },
    {
      "cell_type": "markdown",
      "metadata": {
        "id": "cd31e737-e7be-41ff-acd4-960f7ab37827"
      },
      "source": [
        "# Quiz"
      ],
      "id": "cd31e737-e7be-41ff-acd4-960f7ab37827"
    },
    {
      "cell_type": "markdown",
      "metadata": {
        "id": "11f7dfa4-a02c-4818-b932-a95913b65f11"
      },
      "source": [
        "## 1. 가장 거래가 많이 일어난 아파트는?"
      ],
      "id": "11f7dfa4-a02c-4818-b932-a95913b65f11"
    },
    {
      "cell_type": "code",
      "metadata": {
        "id": "Sowm6UgKrw6V"
      },
      "source": [
        "df.groupby('apt').transaction.count().nlargest()"
      ],
      "id": "Sowm6UgKrw6V",
      "execution_count": null,
      "outputs": []
    },
    {
      "cell_type": "code",
      "metadata": {
        "id": "ekYb66_osD2d"
      },
      "source": [
        "df.groupby('apt').transaction.count().sort_values(ascending=False)[:5]"
      ],
      "id": "ekYb66_osD2d",
      "execution_count": null,
      "outputs": []
    },
    {
      "cell_type": "code",
      "metadata": {
        "id": "58d40ff6-1a68-48df-8cb9-f26b703be04d"
      },
      "source": [
        ""
      ],
      "id": "58d40ff6-1a68-48df-8cb9-f26b703be04d",
      "execution_count": null,
      "outputs": []
    },
    {
      "cell_type": "markdown",
      "metadata": {
        "id": "518ef56f-dc28-47cd-8e80-c2a1d6317097"
      },
      "source": [
        "## 2. 가장 거래금액이 컸던 아파트는?"
      ],
      "id": "518ef56f-dc28-47cd-8e80-c2a1d6317097"
    },
    {
      "cell_type": "code",
      "metadata": {
        "id": "f7b9d7b3-e1f7-4430-942f-faabf63c9185"
      },
      "source": [
        "df.groupby('apt').transaction.max().nlargest(5)"
      ],
      "id": "f7b9d7b3-e1f7-4430-942f-faabf63c9185",
      "execution_count": null,
      "outputs": []
    },
    {
      "cell_type": "markdown",
      "metadata": {
        "id": "8d09af20-134d-49f7-8fe6-74636d964ddc"
      },
      "source": [
        "## 3. 각자 살고있는 구에서 가장 비싼 아파트는 어디인가?"
      ],
      "id": "8d09af20-134d-49f7-8fe6-74636d964ddc"
    },
    {
      "cell_type": "code",
      "metadata": {
        "id": "-VKBxuN-s2Ae"
      },
      "source": [
        "gu_condition = df.gu == '북구'\n",
        "\n",
        "df.loc[gu_condition].groupby('apt').transaction.max().nlargest(5)"
      ],
      "id": "-VKBxuN-s2Ae",
      "execution_count": null,
      "outputs": []
    },
    {
      "cell_type": "code",
      "metadata": {
        "id": "uV3Nj7Nktho3"
      },
      "source": [
        "df.gu.nunique() # len(df.gu.unique())"
      ],
      "id": "uV3Nj7Nktho3",
      "execution_count": null,
      "outputs": []
    },
    {
      "cell_type": "code",
      "metadata": {
        "id": "NZvzXsdjsvYz"
      },
      "source": [
        "for gu_name in df.gu.unique():\n",
        "    gu_condition = df.gu == gu_name\n",
        "    apt_name = df.loc[gu_condition].groupby('apt').transaction.max().nlargest(1)\n",
        "    print(f\"{gu_name}>>> 아파트이름:{apt_name.index[0]} 가격:{apt_name.array[0]:,} 만원\")"
      ],
      "id": "NZvzXsdjsvYz",
      "execution_count": null,
      "outputs": []
    },
    {
      "cell_type": "code",
      "metadata": {
        "id": "4314beb5-027a-4e1c-ad3c-9eb30b1c58fc"
      },
      "source": [
        ""
      ],
      "id": "4314beb5-027a-4e1c-ad3c-9eb30b1c58fc",
      "execution_count": null,
      "outputs": []
    },
    {
      "cell_type": "markdown",
      "metadata": {
        "id": "d18dd192-68bf-4b9a-83be-24f9e8c30137"
      },
      "source": [
        "## 4. 2020년 이후의 거래에서, 평당 가격이 가장 비싼 아파트는 어디인가?\n"
      ],
      "id": "d18dd192-68bf-4b9a-83be-24f9e8c30137"
    },
    {
      "cell_type": "code",
      "metadata": {
        "id": "-xHt50AxyrX2"
      },
      "source": [
        "new_df = df.assign(ta = df['transaction']/df['area'])\n",
        "(new_df[\"2020\":].reset_index()\n",
        "                 .groupby(['apt'])\n",
        "                 .ta.max()\n",
        "                 .sort_values(ascending=False))"
      ],
      "id": "-xHt50AxyrX2",
      "execution_count": null,
      "outputs": []
    },
    {
      "cell_type": "code",
      "metadata": {
        "id": "V-dLiAruzL34"
      },
      "source": [
        "new_df[\"2020\":].sort_values(by='ta', ascending=False)[['ta', 'apt']]"
      ],
      "id": "V-dLiAruzL34",
      "execution_count": null,
      "outputs": []
    },
    {
      "cell_type": "markdown",
      "metadata": {
        "id": "e3b164db-d3ff-4044-9e61-4f26c86bdad4"
      },
      "source": [
        "## 5. 2020년 이후의 거래에서, 평당 가격의 최대 최소 차이가 가장 많이 나는 아파트 5개를 알아보자"
      ],
      "id": "e3b164db-d3ff-4044-9e61-4f26c86bdad4"
    },
    {
      "cell_type": "code",
      "metadata": {
        "id": "XmSzA2Tuzd0i"
      },
      "source": [
        "after_df = new_df.loc[\"2020\":]\n",
        "after_df.groupby('apt').ta.agg(lambda x: x.max()-x.min()).nlargest(5)"
      ],
      "id": "XmSzA2Tuzd0i",
      "execution_count": null,
      "outputs": []
    },
    {
      "cell_type": "markdown",
      "metadata": {
        "id": "-7Lgd1rehViI"
      },
      "source": [
        "## 6. 추가) x 축에는 '월' y 축에는 거래횟수 를 Bar 차트로 그려보자"
      ],
      "id": "-7Lgd1rehViI"
    },
    {
      "cell_type": "markdown",
      "metadata": {
        "id": "QeDgRlROhVHz"
      },
      "source": [
        "-  hint: \n",
        "```python\n",
        ">>> pd.Series.plot.bar()\n",
        "```"
      ],
      "id": "QeDgRlROhVHz"
    },
    {
      "cell_type": "code",
      "metadata": {
        "id": "cHAVZ95sbkwV",
        "colab": {
          "base_uri": "https://localhost:8080/",
          "height": 286
        },
        "outputId": "1dd0bcea-3db8-4935-dce6-abbf07d17f29"
      },
      "source": [
        "df.index.month.value_counts().sort_index().plot.bar()"
      ],
      "id": "cHAVZ95sbkwV",
      "execution_count": null,
      "outputs": [
        {
          "output_type": "execute_result",
          "data": {
            "text/plain": [
              "<matplotlib.axes._subplots.AxesSubplot at 0x7fbf43c703d0>"
            ]
          },
          "metadata": {
            "tags": []
          },
          "execution_count": 63
        },
        {
          "output_type": "display_data",
          "data": {
            "image/png": "[encoded data removed]",
            "text/plain": [
              "<Figure size 432x288 with 1 Axes>"
            ]
          },
          "metadata": {
            "tags": [],
            "needs_background": "light"
          }
        }
      ]
    },
    {
      "cell_type": "code",
      "metadata": {
        "colab": {
          "base_uri": "https://localhost:8080/",
          "height": 331
        },
        "id": "UOd0OgMPdTJO",
        "outputId": "90103b70-59d2-4350-b3f1-7a1222f917f4"
      },
      "source": [
        "df.index.day_name().value_counts().sort_index().plot.bar()"
      ],
      "id": "UOd0OgMPdTJO",
      "execution_count": null,
      "outputs": [
        {
          "output_type": "execute_result",
          "data": {
            "text/plain": [
              "<matplotlib.axes._subplots.AxesSubplot at 0x7fbf42628550>"
            ]
          },
          "metadata": {
            "tags": []
          },
          "execution_count": 64
        },
        {
          "output_type": "display_data",
          "data": {
            "image/png": "[encoded data removed]",
            "text/plain": [
              "<Figure size 432x288 with 1 Axes>"
            ]
          },
          "metadata": {
            "tags": [],
            "needs_background": "light"
          }
        }
      ]
    },
    {
      "cell_type": "markdown",
      "metadata": {
        "id": "No1klRBdmPKb"
      },
      "source": [
        "## 7. 추가) x  축에는 건축년도,  y 축에는 각 건축년도의 건물들의 매매금액 중간값 를 Bar 차트로 그려보자"
      ],
      "id": "No1klRBdmPKb"
    },
    {
      "cell_type": "code",
      "metadata": {
        "id": "oQHI9IkJeLOA"
      },
      "source": [
        "import matplotlib.pyplot as plt"
      ],
      "id": "oQHI9IkJeLOA",
      "execution_count": null,
      "outputs": []
    },
    {
      "cell_type": "code",
      "metadata": {
        "id": "1Z2ATvKZeOxe"
      },
      "source": [
        "plt.style.use(\"ggplot\")\n",
        "plt.style.use(\"fivethirtyeight\")"
      ],
      "id": "1Z2ATvKZeOxe",
      "execution_count": null,
      "outputs": []
    },
    {
      "cell_type": "code",
      "metadata": {
        "id": "20c80191-895a-459d-a105-67fff265d23c",
        "colab": {
          "base_uri": "https://localhost:8080/",
          "height": 342
        },
        "outputId": "76550a61-5010-4fc3-ce56-b7839b396f3b"
      },
      "source": [
        "df.groupby('built').transaction.agg(['count']).plot.bar(rot=\"90\")"
      ],
      "id": "20c80191-895a-459d-a105-67fff265d23c",
      "execution_count": null,
      "outputs": [
        {
          "output_type": "execute_result",
          "data": {
            "text/plain": [
              "<matplotlib.axes._subplots.AxesSubplot at 0x7fbf3d449d50>"
            ]
          },
          "metadata": {
            "tags": []
          },
          "execution_count": 71
        },
        {
          "output_type": "display_data",
          "data": {
            "image/png": "[encoded data removed]",
            "text/plain": [
              "<Figure size 432x288 with 1 Axes>"
            ]
          },
          "metadata": {
            "tags": []
          }
        }
      ]
    },
    {
      "cell_type": "code",
      "metadata": {
        "id": "8NhJrRDLd2Ie"
      },
      "source": [
        ""
      ],
      "id": "8NhJrRDLd2Ie",
      "execution_count": null,
      "outputs": []
    }
  ]
}