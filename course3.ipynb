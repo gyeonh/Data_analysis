{
  "nbformat": 4,
  "nbformat_minor": 5,
  "metadata": {
    "kernelspec": {
      "display_name": "Python 3",
      "language": "python",
      "name": "python3"
    },
    "language_info": {
      "codemirror_mode": {
        "name": "ipython",
        "version": 3
      },
      "file_extension": ".py",
      "mimetype": "text/x-python",
      "name": "python",
      "nbconvert_exporter": "python",
      "pygments_lexer": "ipython3",
      "version": "3.7.10"
    },
    "colab": {
      "name": "course3",
      "provenance": [],
      "collapsed_sections": []
    }
  },
  "cells": [
    {
      "cell_type": "code",
      "metadata": {
        "id": "635d0dd1-9b03-4c5c-8442-e4c0afde4c06"
      },
      "source": [
        "import pandas as pd"
      ],
      "id": "635d0dd1-9b03-4c5c-8442-e4c0afde4c06",
      "execution_count": null,
      "outputs": []
    },
    {
      "cell_type": "code",
      "metadata": {
        "colab": {
          "base_uri": "https://localhost:8080/"
        },
        "id": "1jfQRWINgTux",
        "outputId": "6ae9dda7-a19d-45d5-890a-17d6abcb3a0e"
      },
      "source": [
        "from google.colab import drive\n",
        "drive.mount('/content/drive')"
      ],
      "id": "1jfQRWINgTux",
      "execution_count": null,
      "outputs": [
        {
          "output_type": "stream",
          "text": [
            "Drive already mounted at /content/drive; to attempt to forcibly remount, call drive.mount(\"/content/drive\", force_remount=True).\n"
          ],
          "name": "stdout"
        }
      ]
    },
    {
      "cell_type": "code",
      "metadata": {
        "id": "MrZsiprKhlF5"
      },
      "source": [
        "df1=pd.read_csv(\"/content/drive/MyDrive/data/apt_trade_part1.csv\",index_col=0, parse_dates=True) #parse_dates=True 시간으로 불러오기\n",
        "df2=pd.read_csv(\"/content/drive/MyDrive/data/apt_trade_part2.csv\",index_col=0, parse_dates=True)"
      ],
      "id": "MrZsiprKhlF5",
      "execution_count": null,
      "outputs": []
    },
    {
      "cell_type": "code",
      "metadata": {
        "colab": {
          "base_uri": "https://localhost:8080/"
        },
        "id": "_dkiQLpMlKIP",
        "outputId": "513c9bcd-0746-4805-989e-7d888ab16dfa"
      },
      "source": [
        "df1.index"
      ],
      "id": "_dkiQLpMlKIP",
      "execution_count": null,
      "outputs": [
        {
          "output_type": "execute_result",
          "data": {
            "text/plain": [
              "DatetimeIndex(['2020-05-14', '2019-07-03', '2019-07-05', '2019-08-23',\n",
              "               '2019-09-20', '2019-10-29', '2019-11-08', '2019-11-18',\n",
              "               '2019-12-18', '2020-02-06',\n",
              "               ...\n",
              "               '2019-11-11', '2020-01-02', '2020-01-31', '2020-02-04',\n",
              "               '2020-02-11', '2020-04-24', '2020-05-04', '2019-09-22',\n",
              "               '2019-11-19', '2019-12-20'],\n",
              "              dtype='datetime64[ns]', name='cdate', length=32299, freq=None)"
            ]
          },
          "metadata": {
            "tags": []
          },
          "execution_count": 4
        }
      ]
    },
    {
      "cell_type": "code",
      "metadata": {
        "colab": {
          "base_uri": "https://localhost:8080/"
        },
        "id": "Oc6h-IimiPAm",
        "outputId": "9fba2887-7257-464d-a392-d5b475e14f16"
      },
      "source": [
        "df1.shape[0]+df2.shape[0]"
      ],
      "id": "Oc6h-IimiPAm",
      "execution_count": null,
      "outputs": [
        {
          "output_type": "execute_result",
          "data": {
            "text/plain": [
              "74822"
            ]
          },
          "metadata": {
            "tags": []
          },
          "execution_count": 5
        }
      ]
    },
    {
      "cell_type": "markdown",
      "metadata": {
        "id": "60e19b1a-ab97-4c53-8c9e-f9002be98333"
      },
      "source": [
        "## 데이터 프레임 합치기"
      ],
      "id": "60e19b1a-ab97-4c53-8c9e-f9002be98333"
    },
    {
      "cell_type": "markdown",
      "metadata": {
        "id": "9c53598b-0049-4038-897e-72b96c5259dd"
      },
      "source": [
        "- ```python\n",
        "  pd.concat([df1, df2...], axis=...)\n",
        "  ```"
      ],
      "id": "9c53598b-0049-4038-897e-72b96c5259dd"
    },
    {
      "cell_type": "code",
      "metadata": {
        "id": "HuhpByo2gg8z"
      },
      "source": [
        "# concat의 역할 : 행 길이가 다른 데이터 두개를 합칠 때 axis(index or columns)로 접근"
      ],
      "id": "HuhpByo2gg8z",
      "execution_count": null,
      "outputs": []
    },
    {
      "cell_type": "code",
      "metadata": {
        "id": "46c77308-c0c3-42b9-91c4-aef85b2a39b0",
        "colab": {
          "base_uri": "https://localhost:8080/"
        },
        "outputId": "525a6018-1cbc-45d8-b200-4fc45f984c6e"
      },
      "source": [
        "df1.shape[0] + df2.shape[0] # column 개수 합"
      ],
      "id": "46c77308-c0c3-42b9-91c4-aef85b2a39b0",
      "execution_count": null,
      "outputs": [
        {
          "output_type": "execute_result",
          "data": {
            "text/plain": [
              "74822"
            ]
          },
          "metadata": {
            "tags": []
          },
          "execution_count": 7
        }
      ]
    },
    {
      "cell_type": "code",
      "metadata": {
        "id": "4252f9e4-aa7c-447d-b23c-4586d93cc54a"
      },
      "source": [
        "df = pd.concat([df1, df2], axis=\"index\")"
      ],
      "id": "4252f9e4-aa7c-447d-b23c-4586d93cc54a",
      "execution_count": null,
      "outputs": []
    },
    {
      "cell_type": "markdown",
      "metadata": {
        "id": "abd477a0-d52d-4f1f-bdcc-0d88c9c4c927"
      },
      "source": [
        "\n",
        "- 인덱스 정렬하기\n",
        "    - ```python\n",
        "df.sort_index()\n",
        "```"
      ],
      "id": "abd477a0-d52d-4f1f-bdcc-0d88c9c4c927"
    },
    {
      "cell_type": "code",
      "metadata": {
        "id": "70e5c3a8-e6e8-46bf-8342-68061446622b"
      },
      "source": [
        "df = df.sort_index()"
      ],
      "id": "70e5c3a8-e6e8-46bf-8342-68061446622b",
      "execution_count": null,
      "outputs": []
    },
    {
      "cell_type": "code",
      "metadata": {
        "id": "03cad3df-9f98-432e-ab76-7ca155bf005d",
        "colab": {
          "base_uri": "https://localhost:8080/",
          "height": 232
        },
        "outputId": "4451c0d5-e61b-4256-f05e-f28cc36f477a"
      },
      "source": [
        "df.head()"
      ],
      "id": "03cad3df-9f98-432e-ab76-7ca155bf005d",
      "execution_count": null,
      "outputs": [
        {
          "output_type": "execute_result",
          "data": {
            "text/html": [
              "<div>\n",
              "<style scoped>\n",
              "    .dataframe tbody tr th:only-of-type {\n",
              "        vertical-align: middle;\n",
              "    }\n",
              "\n",
              "    .dataframe tbody tr th {\n",
              "        vertical-align: top;\n",
              "    }\n",
              "\n",
              "    .dataframe thead th {\n",
              "        text-align: right;\n",
              "    }\n",
              "</style>\n",
              "<table border=\"1\" class=\"dataframe\">\n",
              "  <thead>\n",
              "    <tr style=\"text-align: right;\">\n",
              "      <th></th>\n",
              "      <th>apt</th>\n",
              "      <th>area</th>\n",
              "      <th>transaction</th>\n",
              "      <th>floor</th>\n",
              "      <th>built</th>\n",
              "      <th>road</th>\n",
              "      <th>year</th>\n",
              "      <th>month</th>\n",
              "      <th>day</th>\n",
              "      <th>city</th>\n",
              "      <th>gu</th>\n",
              "      <th>dong</th>\n",
              "    </tr>\n",
              "    <tr>\n",
              "      <th>cdate</th>\n",
              "      <th></th>\n",
              "      <th></th>\n",
              "      <th></th>\n",
              "      <th></th>\n",
              "      <th></th>\n",
              "      <th></th>\n",
              "      <th></th>\n",
              "      <th></th>\n",
              "      <th></th>\n",
              "      <th></th>\n",
              "      <th></th>\n",
              "      <th></th>\n",
              "    </tr>\n",
              "  </thead>\n",
              "  <tbody>\n",
              "    <tr>\n",
              "      <th>2019-07-01</th>\n",
              "      <td>제일풍경채더퍼스트</td>\n",
              "      <td>84.1347</td>\n",
              "      <td>27100</td>\n",
              "      <td>11</td>\n",
              "      <td>2016</td>\n",
              "      <td>49</td>\n",
              "      <td>2019</td>\n",
              "      <td>7</td>\n",
              "      <td>1</td>\n",
              "      <td>대구광역시</td>\n",
              "      <td>달성군</td>\n",
              "      <td>현풍읍 중리</td>\n",
              "    </tr>\n",
              "    <tr>\n",
              "      <th>2019-07-01</th>\n",
              "      <td>사월화성파크드림(1단지)</td>\n",
              "      <td>84.9999</td>\n",
              "      <td>37400</td>\n",
              "      <td>9</td>\n",
              "      <td>2006</td>\n",
              "      <td>달구벌대로 3304</td>\n",
              "      <td>2019</td>\n",
              "      <td>7</td>\n",
              "      <td>1</td>\n",
              "      <td>대구광역시</td>\n",
              "      <td>수성구</td>\n",
              "      <td>신매동</td>\n",
              "    </tr>\n",
              "    <tr>\n",
              "      <th>2019-07-01</th>\n",
              "      <td>대구노원한신더휴</td>\n",
              "      <td>59.9500</td>\n",
              "      <td>30650</td>\n",
              "      <td>25</td>\n",
              "      <td>2017</td>\n",
              "      <td>노원로10길 40</td>\n",
              "      <td>2019</td>\n",
              "      <td>7</td>\n",
              "      <td>1</td>\n",
              "      <td>대구광역시</td>\n",
              "      <td>북구</td>\n",
              "      <td>노원동3가</td>\n",
              "    </tr>\n",
              "    <tr>\n",
              "      <th>2019-07-01</th>\n",
              "      <td>한빛마을(성서주공3차)</td>\n",
              "      <td>59.9900</td>\n",
              "      <td>15100</td>\n",
              "      <td>19</td>\n",
              "      <td>1998</td>\n",
              "      <td>선원남로 99</td>\n",
              "      <td>2019</td>\n",
              "      <td>7</td>\n",
              "      <td>1</td>\n",
              "      <td>대구광역시</td>\n",
              "      <td>달서구</td>\n",
              "      <td>이곡동</td>\n",
              "    </tr>\n",
              "    <tr>\n",
              "      <th>2019-07-01</th>\n",
              "      <td>시영장미3</td>\n",
              "      <td>49.8000</td>\n",
              "      <td>9800</td>\n",
              "      <td>10</td>\n",
              "      <td>1993</td>\n",
              "      <td>상화로 370</td>\n",
              "      <td>2019</td>\n",
              "      <td>7</td>\n",
              "      <td>1</td>\n",
              "      <td>대구광역시</td>\n",
              "      <td>달서구</td>\n",
              "      <td>상인동</td>\n",
              "    </tr>\n",
              "  </tbody>\n",
              "</table>\n",
              "</div>"
            ],
            "text/plain": [
              "                      apt     area  transaction  floor  ...  day   city   gu    dong\n",
              "cdate                                                   ...                         \n",
              "2019-07-01      제일풍경채더퍼스트  84.1347        27100     11  ...    1  대구광역시  달성군  현풍읍 중리\n",
              "2019-07-01  사월화성파크드림(1단지)  84.9999        37400      9  ...    1  대구광역시  수성구     신매동\n",
              "2019-07-01       대구노원한신더휴  59.9500        30650     25  ...    1  대구광역시   북구   노원동3가\n",
              "2019-07-01   한빛마을(성서주공3차)  59.9900        15100     19  ...    1  대구광역시  달서구     이곡동\n",
              "2019-07-01          시영장미3  49.8000         9800     10  ...    1  대구광역시  달서구     상인동\n",
              "\n",
              "[5 rows x 12 columns]"
            ]
          },
          "metadata": {
            "tags": []
          },
          "execution_count": 10
        }
      ]
    },
    {
      "cell_type": "code",
      "metadata": {
        "id": "59898897-3cb5-457f-baa4-a2391429acf9",
        "colab": {
          "base_uri": "https://localhost:8080/"
        },
        "outputId": "1b5df97d-9706-4a8d-cd5e-9719a42f2499"
      },
      "source": [
        "df.dtypes"
      ],
      "id": "59898897-3cb5-457f-baa4-a2391429acf9",
      "execution_count": null,
      "outputs": [
        {
          "output_type": "execute_result",
          "data": {
            "text/plain": [
              "apt             object\n",
              "area           float64\n",
              "transaction      int64\n",
              "floor            int64\n",
              "built            int64\n",
              "road            object\n",
              "year             int64\n",
              "month            int64\n",
              "day              int64\n",
              "city            object\n",
              "gu              object\n",
              "dong            object\n",
              "dtype: object"
            ]
          },
          "metadata": {
            "tags": []
          },
          "execution_count": 11
        }
      ]
    },
    {
      "cell_type": "markdown",
      "metadata": {
        "id": "eaf5c495-bf7f-4010-8aa7-28b165f1549d"
      },
      "source": [
        "- timeserie index 의 좋은점"
      ],
      "id": "eaf5c495-bf7f-4010-8aa7-28b165f1549d"
    },
    {
      "cell_type": "code",
      "metadata": {
        "id": "0e01819f-1ddb-4f14-aabb-97249e8cc6f5",
        "colab": {
          "base_uri": "https://localhost:8080/",
          "height": 445
        },
        "outputId": "8d9cc0f0-0095-4c6b-87df-0d22086429ef"
      },
      "source": [
        "df.loc[\"2020\":] # \"2020\" -> \"2020-1\" -> \"2020-2\""
      ],
      "id": "0e01819f-1ddb-4f14-aabb-97249e8cc6f5",
      "execution_count": null,
      "outputs": [
        {
          "output_type": "execute_result",
          "data": {
            "text/html": [
              "<div>\n",
              "<style scoped>\n",
              "    .dataframe tbody tr th:only-of-type {\n",
              "        vertical-align: middle;\n",
              "    }\n",
              "\n",
              "    .dataframe tbody tr th {\n",
              "        vertical-align: top;\n",
              "    }\n",
              "\n",
              "    .dataframe thead th {\n",
              "        text-align: right;\n",
              "    }\n",
              "</style>\n",
              "<table border=\"1\" class=\"dataframe\">\n",
              "  <thead>\n",
              "    <tr style=\"text-align: right;\">\n",
              "      <th></th>\n",
              "      <th>apt</th>\n",
              "      <th>area</th>\n",
              "      <th>transaction</th>\n",
              "      <th>floor</th>\n",
              "      <th>built</th>\n",
              "      <th>road</th>\n",
              "      <th>year</th>\n",
              "      <th>month</th>\n",
              "      <th>day</th>\n",
              "      <th>city</th>\n",
              "      <th>gu</th>\n",
              "      <th>dong</th>\n",
              "    </tr>\n",
              "    <tr>\n",
              "      <th>cdate</th>\n",
              "      <th></th>\n",
              "      <th></th>\n",
              "      <th></th>\n",
              "      <th></th>\n",
              "      <th></th>\n",
              "      <th></th>\n",
              "      <th></th>\n",
              "      <th></th>\n",
              "      <th></th>\n",
              "      <th></th>\n",
              "      <th></th>\n",
              "      <th></th>\n",
              "    </tr>\n",
              "  </thead>\n",
              "  <tbody>\n",
              "    <tr>\n",
              "      <th>2020-01-01</th>\n",
              "      <td>밀레니엄</td>\n",
              "      <td>106.8300</td>\n",
              "      <td>40000</td>\n",
              "      <td>5</td>\n",
              "      <td>2001</td>\n",
              "      <td>신암북로7길 59</td>\n",
              "      <td>2020</td>\n",
              "      <td>1</td>\n",
              "      <td>1</td>\n",
              "      <td>대구광역시</td>\n",
              "      <td>동구</td>\n",
              "      <td>신암동</td>\n",
              "    </tr>\n",
              "    <tr>\n",
              "      <th>2020-01-01</th>\n",
              "      <td>청구타운</td>\n",
              "      <td>84.9250</td>\n",
              "      <td>28900</td>\n",
              "      <td>17</td>\n",
              "      <td>1995</td>\n",
              "      <td>진천로 41</td>\n",
              "      <td>2020</td>\n",
              "      <td>1</td>\n",
              "      <td>1</td>\n",
              "      <td>대구광역시</td>\n",
              "      <td>달서구</td>\n",
              "      <td>진천동</td>\n",
              "    </tr>\n",
              "    <tr>\n",
              "      <th>2020-01-01</th>\n",
              "      <td>수성풀비체</td>\n",
              "      <td>84.7456</td>\n",
              "      <td>32100</td>\n",
              "      <td>4</td>\n",
              "      <td>2007</td>\n",
              "      <td>화랑로32길 91</td>\n",
              "      <td>2020</td>\n",
              "      <td>1</td>\n",
              "      <td>1</td>\n",
              "      <td>대구광역시</td>\n",
              "      <td>수성구</td>\n",
              "      <td>만촌동</td>\n",
              "    </tr>\n",
              "    <tr>\n",
              "      <th>2020-01-01</th>\n",
              "      <td>시지3태왕하이츠</td>\n",
              "      <td>85.0000</td>\n",
              "      <td>33000</td>\n",
              "      <td>6</td>\n",
              "      <td>2001</td>\n",
              "      <td>욱수천로 77</td>\n",
              "      <td>2020</td>\n",
              "      <td>1</td>\n",
              "      <td>1</td>\n",
              "      <td>대구광역시</td>\n",
              "      <td>수성구</td>\n",
              "      <td>신매동</td>\n",
              "    </tr>\n",
              "    <tr>\n",
              "      <th>2020-01-01</th>\n",
              "      <td>대실역동화아이위시</td>\n",
              "      <td>84.7680</td>\n",
              "      <td>35000</td>\n",
              "      <td>7</td>\n",
              "      <td>2008</td>\n",
              "      <td>대실역북로 55</td>\n",
              "      <td>2020</td>\n",
              "      <td>1</td>\n",
              "      <td>1</td>\n",
              "      <td>대구광역시</td>\n",
              "      <td>달성군</td>\n",
              "      <td>다사읍 매곡리</td>\n",
              "    </tr>\n",
              "    <tr>\n",
              "      <th>...</th>\n",
              "      <td>...</td>\n",
              "      <td>...</td>\n",
              "      <td>...</td>\n",
              "      <td>...</td>\n",
              "      <td>...</td>\n",
              "      <td>...</td>\n",
              "      <td>...</td>\n",
              "      <td>...</td>\n",
              "      <td>...</td>\n",
              "      <td>...</td>\n",
              "      <td>...</td>\n",
              "      <td>...</td>\n",
              "    </tr>\n",
              "    <tr>\n",
              "      <th>2021-05-31</th>\n",
              "      <td>아름다운나날3</td>\n",
              "      <td>84.6139</td>\n",
              "      <td>31900</td>\n",
              "      <td>15</td>\n",
              "      <td>2003</td>\n",
              "      <td>동호로 132</td>\n",
              "      <td>2021</td>\n",
              "      <td>5</td>\n",
              "      <td>31</td>\n",
              "      <td>대구광역시</td>\n",
              "      <td>동구</td>\n",
              "      <td>신서동</td>\n",
              "    </tr>\n",
              "    <tr>\n",
              "      <th>2021-05-31</th>\n",
              "      <td>화성그랜드파크</td>\n",
              "      <td>110.4038</td>\n",
              "      <td>48000</td>\n",
              "      <td>3</td>\n",
              "      <td>2003</td>\n",
              "      <td>구암로65길 9</td>\n",
              "      <td>2021</td>\n",
              "      <td>5</td>\n",
              "      <td>31</td>\n",
              "      <td>대구광역시</td>\n",
              "      <td>북구</td>\n",
              "      <td>구암동</td>\n",
              "    </tr>\n",
              "    <tr>\n",
              "      <th>2021-05-31</th>\n",
              "      <td>내당시영</td>\n",
              "      <td>55.3400</td>\n",
              "      <td>34150</td>\n",
              "      <td>3</td>\n",
              "      <td>1979</td>\n",
              "      <td>서대구로8길 15</td>\n",
              "      <td>2021</td>\n",
              "      <td>5</td>\n",
              "      <td>31</td>\n",
              "      <td>대구광역시</td>\n",
              "      <td>서구</td>\n",
              "      <td>내당동</td>\n",
              "    </tr>\n",
              "    <tr>\n",
              "      <th>2021-05-31</th>\n",
              "      <td>롯데캐슬오페라</td>\n",
              "      <td>84.9100</td>\n",
              "      <td>48800</td>\n",
              "      <td>15</td>\n",
              "      <td>2005</td>\n",
              "      <td>침산남로 160</td>\n",
              "      <td>2021</td>\n",
              "      <td>5</td>\n",
              "      <td>31</td>\n",
              "      <td>대구광역시</td>\n",
              "      <td>북구</td>\n",
              "      <td>침산동</td>\n",
              "    </tr>\n",
              "    <tr>\n",
              "      <th>2021-05-31</th>\n",
              "      <td>칠곡미래타운</td>\n",
              "      <td>84.9900</td>\n",
              "      <td>26000</td>\n",
              "      <td>9</td>\n",
              "      <td>1995</td>\n",
              "      <td>팔거천동로 52</td>\n",
              "      <td>2021</td>\n",
              "      <td>5</td>\n",
              "      <td>31</td>\n",
              "      <td>대구광역시</td>\n",
              "      <td>북구</td>\n",
              "      <td>구암동</td>\n",
              "    </tr>\n",
              "  </tbody>\n",
              "</table>\n",
              "<p>56726 rows × 12 columns</p>\n",
              "</div>"
            ],
            "text/plain": [
              "                  apt      area  transaction  floor  ...  day   city   gu     dong\n",
              "cdate                                                ...                          \n",
              "2020-01-01       밀레니엄  106.8300        40000      5  ...    1  대구광역시   동구      신암동\n",
              "2020-01-01       청구타운   84.9250        28900     17  ...    1  대구광역시  달서구      진천동\n",
              "2020-01-01      수성풀비체   84.7456        32100      4  ...    1  대구광역시  수성구      만촌동\n",
              "2020-01-01   시지3태왕하이츠   85.0000        33000      6  ...    1  대구광역시  수성구      신매동\n",
              "2020-01-01  대실역동화아이위시   84.7680        35000      7  ...    1  대구광역시  달성군  다사읍 매곡리\n",
              "...               ...       ...          ...    ...  ...  ...    ...  ...      ...\n",
              "2021-05-31    아름다운나날3   84.6139        31900     15  ...   31  대구광역시   동구      신서동\n",
              "2021-05-31    화성그랜드파크  110.4038        48000      3  ...   31  대구광역시   북구      구암동\n",
              "2021-05-31       내당시영   55.3400        34150      3  ...   31  대구광역시   서구      내당동\n",
              "2021-05-31    롯데캐슬오페라   84.9100        48800     15  ...   31  대구광역시   북구      침산동\n",
              "2021-05-31     칠곡미래타운   84.9900        26000      9  ...   31  대구광역시   북구      구암동\n",
              "\n",
              "[56726 rows x 12 columns]"
            ]
          },
          "metadata": {
            "tags": []
          },
          "execution_count": 12
        }
      ]
    },
    {
      "cell_type": "code",
      "metadata": {
        "id": "cb0bdf0c-e72d-4f4b-bdbc-13845ea0e298"
      },
      "source": [
        ""
      ],
      "id": "cb0bdf0c-e72d-4f4b-bdbc-13845ea0e298",
      "execution_count": null,
      "outputs": []
    },
    {
      "cell_type": "code",
      "metadata": {
        "id": "221d7df1-2db4-4f46-94e2-273deb2d562a"
      },
      "source": [
        ""
      ],
      "id": "221d7df1-2db4-4f46-94e2-273deb2d562a",
      "execution_count": null,
      "outputs": []
    },
    {
      "cell_type": "markdown",
      "metadata": {
        "id": "1bda024f-3ba6-471d-a98b-b3ca1e1d661e"
      },
      "source": [
        "## Group by: split-apply-combine"
      ],
      "id": "1bda024f-3ba6-471d-a98b-b3ca1e1d661e"
    },
    {
      "cell_type": "markdown",
      "metadata": {
        "id": "454cf2a7-770c-42b2-b798-8f64fd8070ea"
      },
      "source": [
        "By “[group by](https://pandas.pydata.org/docs/user_guide/groupby.html)” we are referring to a process involving one or more of the following steps:\n",
        "\n",
        "- **Splitting** the data into groups based on some criteria.\n",
        "- **Applying** a function to each group independently.\n",
        "- **Combining** the results into a data structure."
      ],
      "id": "454cf2a7-770c-42b2-b798-8f64fd8070ea"
    },
    {
      "cell_type": "markdown",
      "metadata": {
        "id": "338e7ec6-42f6-4ba5-b6b9-cbfab200ff28"
      },
      "source": [
        "- 동구의 거래대금의 중간값을 구해보자"
      ],
      "id": "338e7ec6-42f6-4ba5-b6b9-cbfab200ff28"
    },
    {
      "cell_type": "code",
      "metadata": {
        "id": "e9c0eee3-6fdd-4667-b9c2-2743b56d1078",
        "colab": {
          "base_uri": "https://localhost:8080/"
        },
        "outputId": "92418bf5-1a91-4558-fd5f-8637c4375510"
      },
      "source": [
        "gu_condition = df.gu == \"동구\"\n",
        "df.loc[gu_condition]['transaction'].median() # mean() : 평균값"
      ],
      "id": "e9c0eee3-6fdd-4667-b9c2-2743b56d1078",
      "execution_count": null,
      "outputs": [
        {
          "output_type": "execute_result",
          "data": {
            "text/plain": [
              "26500.0"
            ]
          },
          "metadata": {
            "tags": []
          },
          "execution_count": 13
        }
      ]
    },
    {
      "cell_type": "markdown",
      "metadata": {
        "id": "6a05c82d-1e69-4c8a-89a2-1a7bab2869ea"
      },
      "source": [
        "### ex)\n",
        "- 자신이 살고 있는 구의 거래 금액에 대한 중간값을 알아보자"
      ],
      "id": "6a05c82d-1e69-4c8a-89a2-1a7bab2869ea"
    },
    {
      "cell_type": "code",
      "metadata": {
        "id": "983c92e3-1fcb-4ab7-8786-6cd8f0eae811",
        "colab": {
          "base_uri": "https://localhost:8080/"
        },
        "outputId": "20e4695e-038d-48f2-8a74-876db6a11f15"
      },
      "source": [
        "gu_cond= df.gu==\"달서구\"\n",
        "df.loc[gu_cond]['transaction'].median()"
      ],
      "id": "983c92e3-1fcb-4ab7-8786-6cd8f0eae811",
      "execution_count": null,
      "outputs": [
        {
          "output_type": "execute_result",
          "data": {
            "text/plain": [
              "28000.0"
            ]
          },
          "metadata": {
            "tags": []
          },
          "execution_count": 14
        }
      ]
    },
    {
      "cell_type": "markdown",
      "metadata": {
        "id": "af1178c2-6243-428a-9415-3e5fdac30515"
      },
      "source": [
        "- `groupby` method 를 통해서 각 구의 거래 금액의 중간값을 알아보자"
      ],
      "id": "af1178c2-6243-428a-9415-3e5fdac30515"
    },
    {
      "cell_type": "code",
      "metadata": {
        "id": "0a98cd7b-b926-42a5-9504-3f57e98b32fc",
        "colab": {
          "base_uri": "https://localhost:8080/"
        },
        "outputId": "062c160b-14aa-475a-e82b-08c099e0b418"
      },
      "source": [
        "df.groupby('gu')['transaction'].median()"
      ],
      "id": "0a98cd7b-b926-42a5-9504-3f57e98b32fc",
      "execution_count": null,
      "outputs": [
        {
          "output_type": "execute_result",
          "data": {
            "text/plain": [
              "gu\n",
              "남구     29500\n",
              "달서구    28000\n",
              "달성군    22800\n",
              "동구     26500\n",
              "북구     22700\n",
              "서구     26500\n",
              "수성구    39300\n",
              "중구     47000\n",
              "Name: transaction, dtype: int64"
            ]
          },
          "metadata": {
            "tags": []
          },
          "execution_count": 15
        }
      ]
    },
    {
      "cell_type": "markdown",
      "metadata": {
        "id": "a5387a06-aa47-4d7b-bbbc-7f5c2d29e87b"
      },
      "source": [
        "- groupby 의 이해"
      ],
      "id": "a5387a06-aa47-4d7b-bbbc-7f5c2d29e87b"
    },
    {
      "cell_type": "code",
      "metadata": {
        "colab": {
          "base_uri": "https://localhost:8080/"
        },
        "id": "5wgSTzYIkOPe",
        "outputId": "0f03343c-16b7-40e4-9ebd-013b4bad7324"
      },
      "source": [
        "df.groupby('gu')['transaction']"
      ],
      "id": "5wgSTzYIkOPe",
      "execution_count": null,
      "outputs": [
        {
          "output_type": "execute_result",
          "data": {
            "text/plain": [
              "<pandas.core.groupby.generic.SeriesGroupBy object at 0x7f4aaa673b50>"
            ]
          },
          "metadata": {
            "tags": []
          },
          "execution_count": 16
        }
      ]
    },
    {
      "cell_type": "code",
      "metadata": {
        "id": "6fdb6edf-986c-42c6-a649-589ca26646cb",
        "colab": {
          "base_uri": "https://localhost:8080/"
        },
        "outputId": "641acbf0-7ab9-4476-9a8a-80b4f28613f7"
      },
      "source": [
        "for a, b, in df.groupby('gu')['transaction']: # a : 구이름, b : transacion값\n",
        "    print(a, b.shape)"
      ],
      "id": "6fdb6edf-986c-42c6-a649-589ca26646cb",
      "execution_count": null,
      "outputs": [
        {
          "output_type": "stream",
          "text": [
            "남구 (2021,)\n",
            "달서구 (19754,)\n",
            "달성군 (10837,)\n",
            "동구 (10045,)\n",
            "북구 (14768,)\n",
            "서구 (2263,)\n",
            "수성구 (12973,)\n",
            "중구 (2161,)\n"
          ],
          "name": "stdout"
        }
      ]
    },
    {
      "cell_type": "markdown",
      "metadata": {
        "id": "2f7669ad-152b-49dc-bd14-5ad2268d5038"
      },
      "source": [
        "### 1. splitting"
      ],
      "id": "2f7669ad-152b-49dc-bd14-5ad2268d5038"
    },
    {
      "cell_type": "code",
      "metadata": {
        "id": "02fb5bd0-7785-4348-b4e8-7c24b889231c",
        "colab": {
          "base_uri": "https://localhost:8080/"
        },
        "outputId": "b515cb05-29f6-4d76-ee08-4aac11766bf6"
      },
      "source": [
        "df.groupby('gu')"
      ],
      "id": "02fb5bd0-7785-4348-b4e8-7c24b889231c",
      "execution_count": null,
      "outputs": [
        {
          "output_type": "execute_result",
          "data": {
            "text/plain": [
              "<pandas.core.groupby.generic.DataFrameGroupBy object at 0x7f4aaa669910>"
            ]
          },
          "metadata": {
            "tags": []
          },
          "execution_count": 18
        }
      ]
    },
    {
      "cell_type": "code",
      "metadata": {
        "scrolled": true,
        "tags": [],
        "id": "dfa77510-2251-40bb-ac71-465b4ea1c7df",
        "colab": {
          "base_uri": "https://localhost:8080/"
        },
        "outputId": "5d1d6be0-ae3a-4945-b4b9-f40672c785ff"
      },
      "source": [
        "df.groupby('gu').groups # 인덱스 값 모두 불러오기"
      ],
      "id": "dfa77510-2251-40bb-ac71-465b4ea1c7df",
      "execution_count": null,
      "outputs": [
        {
          "output_type": "execute_result",
          "data": {
            "text/plain": [
              "{'남구': [2019-07-01 00:00:00, 2019-07-01 00:00:00, 2019-07-01 00:00:00, 2019-07-01 00:00:00, 2019-07-01 00:00:00, 2019-07-01 00:00:00, 2019-07-02 00:00:00, 2019-07-03 00:00:00, 2019-07-03 00:00:00, 2019-07-03 00:00:00, 2019-07-04 00:00:00, 2019-07-04 00:00:00, 2019-07-05 00:00:00, 2019-07-06 00:00:00, 2019-07-06 00:00:00, 2019-07-06 00:00:00, 2019-07-08 00:00:00, 2019-07-08 00:00:00, 2019-07-08 00:00:00, 2019-07-09 00:00:00, 2019-07-09 00:00:00, 2019-07-10 00:00:00, 2019-07-10 00:00:00, 2019-07-11 00:00:00, 2019-07-12 00:00:00, 2019-07-12 00:00:00, 2019-07-12 00:00:00, 2019-07-12 00:00:00, 2019-07-13 00:00:00, 2019-07-14 00:00:00, 2019-07-14 00:00:00, 2019-07-15 00:00:00, 2019-07-15 00:00:00, 2019-07-15 00:00:00, 2019-07-15 00:00:00, 2019-07-15 00:00:00, 2019-07-15 00:00:00, 2019-07-15 00:00:00, 2019-07-15 00:00:00, 2019-07-16 00:00:00, 2019-07-16 00:00:00, 2019-07-16 00:00:00, 2019-07-16 00:00:00, 2019-07-16 00:00:00, 2019-07-17 00:00:00, 2019-07-17 00:00:00, 2019-07-17 00:00:00, 2019-07-17 00:00:00, 2019-07-17 00:00:00, 2019-07-18 00:00:00, 2019-07-18 00:00:00, 2019-07-19 00:00:00, 2019-07-21 00:00:00, 2019-07-21 00:00:00, 2019-07-22 00:00:00, 2019-07-23 00:00:00, 2019-07-23 00:00:00, 2019-07-23 00:00:00, 2019-07-24 00:00:00, 2019-07-24 00:00:00, 2019-07-24 00:00:00, 2019-07-24 00:00:00, 2019-07-25 00:00:00, 2019-07-25 00:00:00, 2019-07-25 00:00:00, 2019-07-25 00:00:00, 2019-07-26 00:00:00, 2019-07-26 00:00:00, 2019-07-27 00:00:00, 2019-07-27 00:00:00, 2019-07-27 00:00:00, 2019-07-27 00:00:00, 2019-07-27 00:00:00, 2019-07-29 00:00:00, 2019-07-29 00:00:00, 2019-07-29 00:00:00, 2019-07-29 00:00:00, 2019-07-30 00:00:00, 2019-07-30 00:00:00, 2019-07-30 00:00:00, 2019-07-30 00:00:00, 2019-07-31 00:00:00, 2019-08-01 00:00:00, 2019-08-01 00:00:00, 2019-08-02 00:00:00, 2019-08-02 00:00:00, 2019-08-03 00:00:00, 2019-08-04 00:00:00, 2019-08-05 00:00:00, 2019-08-05 00:00:00, 2019-08-05 00:00:00, 2019-08-05 00:00:00, 2019-08-05 00:00:00, 2019-08-05 00:00:00, 2019-08-05 00:00:00, 2019-08-06 00:00:00, 2019-08-07 00:00:00, 2019-08-07 00:00:00, 2019-08-07 00:00:00, 2019-08-08 00:00:00, ...], '달서구': [2019-07-01 00:00:00, 2019-07-01 00:00:00, 2019-07-01 00:00:00, 2019-07-01 00:00:00, 2019-07-01 00:00:00, 2019-07-01 00:00:00, 2019-07-01 00:00:00, 2019-07-01 00:00:00, 2019-07-01 00:00:00, 2019-07-01 00:00:00, 2019-07-01 00:00:00, 2019-07-01 00:00:00, 2019-07-01 00:00:00, 2019-07-01 00:00:00, 2019-07-01 00:00:00, 2019-07-01 00:00:00, 2019-07-01 00:00:00, 2019-07-01 00:00:00, 2019-07-01 00:00:00, 2019-07-01 00:00:00, 2019-07-01 00:00:00, 2019-07-01 00:00:00, 2019-07-01 00:00:00, 2019-07-01 00:00:00, 2019-07-01 00:00:00, 2019-07-01 00:00:00, 2019-07-01 00:00:00, 2019-07-01 00:00:00, 2019-07-01 00:00:00, 2019-07-01 00:00:00, 2019-07-01 00:00:00, 2019-07-01 00:00:00, 2019-07-01 00:00:00, 2019-07-01 00:00:00, 2019-07-01 00:00:00, 2019-07-02 00:00:00, 2019-07-02 00:00:00, 2019-07-02 00:00:00, 2019-07-02 00:00:00, 2019-07-02 00:00:00, 2019-07-02 00:00:00, 2019-07-02 00:00:00, 2019-07-02 00:00:00, 2019-07-02 00:00:00, 2019-07-02 00:00:00, 2019-07-02 00:00:00, 2019-07-02 00:00:00, 2019-07-02 00:00:00, 2019-07-02 00:00:00, 2019-07-02 00:00:00, 2019-07-02 00:00:00, 2019-07-02 00:00:00, 2019-07-02 00:00:00, 2019-07-02 00:00:00, 2019-07-02 00:00:00, 2019-07-02 00:00:00, 2019-07-02 00:00:00, 2019-07-02 00:00:00, 2019-07-02 00:00:00, 2019-07-03 00:00:00, 2019-07-03 00:00:00, 2019-07-03 00:00:00, 2019-07-03 00:00:00, 2019-07-03 00:00:00, 2019-07-03 00:00:00, 2019-07-03 00:00:00, 2019-07-03 00:00:00, 2019-07-03 00:00:00, 2019-07-03 00:00:00, 2019-07-03 00:00:00, 2019-07-03 00:00:00, 2019-07-03 00:00:00, 2019-07-03 00:00:00, 2019-07-03 00:00:00, 2019-07-03 00:00:00, 2019-07-03 00:00:00, 2019-07-04 00:00:00, 2019-07-04 00:00:00, 2019-07-04 00:00:00, 2019-07-04 00:00:00, 2019-07-04 00:00:00, 2019-07-04 00:00:00, 2019-07-04 00:00:00, 2019-07-04 00:00:00, 2019-07-04 00:00:00, 2019-07-04 00:00:00, 2019-07-04 00:00:00, 2019-07-04 00:00:00, 2019-07-04 00:00:00, 2019-07-04 00:00:00, 2019-07-04 00:00:00, 2019-07-04 00:00:00, 2019-07-04 00:00:00, 2019-07-04 00:00:00, 2019-07-04 00:00:00, 2019-07-05 00:00:00, 2019-07-05 00:00:00, 2019-07-05 00:00:00, 2019-07-05 00:00:00, 2019-07-05 00:00:00, ...], '달성군': [2019-07-01 00:00:00, 2019-07-01 00:00:00, 2019-07-01 00:00:00, 2019-07-01 00:00:00, 2019-07-01 00:00:00, 2019-07-01 00:00:00, 2019-07-01 00:00:00, 2019-07-01 00:00:00, 2019-07-01 00:00:00, 2019-07-01 00:00:00, 2019-07-01 00:00:00, 2019-07-01 00:00:00, 2019-07-01 00:00:00, 2019-07-01 00:00:00, 2019-07-01 00:00:00, 2019-07-01 00:00:00, 2019-07-01 00:00:00, 2019-07-01 00:00:00, 2019-07-01 00:00:00, 2019-07-01 00:00:00, 2019-07-01 00:00:00, 2019-07-01 00:00:00, 2019-07-01 00:00:00, 2019-07-01 00:00:00, 2019-07-01 00:00:00, 2019-07-01 00:00:00, 2019-07-01 00:00:00, 2019-07-01 00:00:00, 2019-07-01 00:00:00, 2019-07-01 00:00:00, 2019-07-01 00:00:00, 2019-07-01 00:00:00, 2019-07-01 00:00:00, 2019-07-01 00:00:00, 2019-07-01 00:00:00, 2019-07-01 00:00:00, 2019-07-01 00:00:00, 2019-07-01 00:00:00, 2019-07-01 00:00:00, 2019-07-02 00:00:00, 2019-07-02 00:00:00, 2019-07-02 00:00:00, 2019-07-02 00:00:00, 2019-07-02 00:00:00, 2019-07-02 00:00:00, 2019-07-02 00:00:00, 2019-07-02 00:00:00, 2019-07-02 00:00:00, 2019-07-02 00:00:00, 2019-07-02 00:00:00, 2019-07-02 00:00:00, 2019-07-02 00:00:00, 2019-07-02 00:00:00, 2019-07-02 00:00:00, 2019-07-02 00:00:00, 2019-07-02 00:00:00, 2019-07-02 00:00:00, 2019-07-02 00:00:00, 2019-07-02 00:00:00, 2019-07-02 00:00:00, 2019-07-02 00:00:00, 2019-07-02 00:00:00, 2019-07-02 00:00:00, 2019-07-02 00:00:00, 2019-07-02 00:00:00, 2019-07-02 00:00:00, 2019-07-02 00:00:00, 2019-07-02 00:00:00, 2019-07-02 00:00:00, 2019-07-02 00:00:00, 2019-07-02 00:00:00, 2019-07-02 00:00:00, 2019-07-02 00:00:00, 2019-07-02 00:00:00, 2019-07-02 00:00:00, 2019-07-02 00:00:00, 2019-07-02 00:00:00, 2019-07-02 00:00:00, 2019-07-02 00:00:00, 2019-07-03 00:00:00, 2019-07-03 00:00:00, 2019-07-03 00:00:00, 2019-07-03 00:00:00, 2019-07-03 00:00:00, 2019-07-03 00:00:00, 2019-07-03 00:00:00, 2019-07-03 00:00:00, 2019-07-03 00:00:00, 2019-07-03 00:00:00, 2019-07-03 00:00:00, 2019-07-03 00:00:00, 2019-07-03 00:00:00, 2019-07-03 00:00:00, 2019-07-03 00:00:00, 2019-07-03 00:00:00, 2019-07-03 00:00:00, 2019-07-03 00:00:00, 2019-07-03 00:00:00, 2019-07-03 00:00:00, 2019-07-03 00:00:00, ...], '동구': [2019-07-01 00:00:00, 2019-07-01 00:00:00, 2019-07-01 00:00:00, 2019-07-01 00:00:00, 2019-07-01 00:00:00, 2019-07-01 00:00:00, 2019-07-01 00:00:00, 2019-07-01 00:00:00, 2019-07-01 00:00:00, 2019-07-01 00:00:00, 2019-07-01 00:00:00, 2019-07-01 00:00:00, 2019-07-01 00:00:00, 2019-07-01 00:00:00, 2019-07-01 00:00:00, 2019-07-01 00:00:00, 2019-07-02 00:00:00, 2019-07-02 00:00:00, 2019-07-02 00:00:00, 2019-07-02 00:00:00, 2019-07-02 00:00:00, 2019-07-02 00:00:00, 2019-07-02 00:00:00, 2019-07-02 00:00:00, 2019-07-02 00:00:00, 2019-07-02 00:00:00, 2019-07-02 00:00:00, 2019-07-02 00:00:00, 2019-07-02 00:00:00, 2019-07-02 00:00:00, 2019-07-02 00:00:00, 2019-07-02 00:00:00, 2019-07-02 00:00:00, 2019-07-03 00:00:00, 2019-07-03 00:00:00, 2019-07-03 00:00:00, 2019-07-04 00:00:00, 2019-07-04 00:00:00, 2019-07-04 00:00:00, 2019-07-04 00:00:00, 2019-07-04 00:00:00, 2019-07-04 00:00:00, 2019-07-04 00:00:00, 2019-07-04 00:00:00, 2019-07-04 00:00:00, 2019-07-04 00:00:00, 2019-07-04 00:00:00, 2019-07-05 00:00:00, 2019-07-05 00:00:00, 2019-07-05 00:00:00, 2019-07-05 00:00:00, 2019-07-05 00:00:00, 2019-07-05 00:00:00, 2019-07-05 00:00:00, 2019-07-05 00:00:00, 2019-07-05 00:00:00, 2019-07-05 00:00:00, 2019-07-05 00:00:00, 2019-07-05 00:00:00, 2019-07-05 00:00:00, 2019-07-06 00:00:00, 2019-07-06 00:00:00, 2019-07-06 00:00:00, 2019-07-06 00:00:00, 2019-07-06 00:00:00, 2019-07-06 00:00:00, 2019-07-06 00:00:00, 2019-07-06 00:00:00, 2019-07-06 00:00:00, 2019-07-06 00:00:00, 2019-07-06 00:00:00, 2019-07-06 00:00:00, 2019-07-06 00:00:00, 2019-07-06 00:00:00, 2019-07-07 00:00:00, 2019-07-07 00:00:00, 2019-07-07 00:00:00, 2019-07-07 00:00:00, 2019-07-07 00:00:00, 2019-07-07 00:00:00, 2019-07-07 00:00:00, 2019-07-07 00:00:00, 2019-07-07 00:00:00, 2019-07-07 00:00:00, 2019-07-07 00:00:00, 2019-07-07 00:00:00, 2019-07-08 00:00:00, 2019-07-08 00:00:00, 2019-07-08 00:00:00, 2019-07-08 00:00:00, 2019-07-08 00:00:00, 2019-07-08 00:00:00, 2019-07-08 00:00:00, 2019-07-08 00:00:00, 2019-07-08 00:00:00, 2019-07-08 00:00:00, 2019-07-09 00:00:00, 2019-07-09 00:00:00, 2019-07-09 00:00:00, 2019-07-09 00:00:00, ...], '북구': [2019-07-01 00:00:00, 2019-07-01 00:00:00, 2019-07-01 00:00:00, 2019-07-01 00:00:00, 2019-07-01 00:00:00, 2019-07-01 00:00:00, 2019-07-01 00:00:00, 2019-07-01 00:00:00, 2019-07-01 00:00:00, 2019-07-01 00:00:00, 2019-07-01 00:00:00, 2019-07-01 00:00:00, 2019-07-01 00:00:00, 2019-07-01 00:00:00, 2019-07-01 00:00:00, 2019-07-01 00:00:00, 2019-07-01 00:00:00, 2019-07-01 00:00:00, 2019-07-02 00:00:00, 2019-07-02 00:00:00, 2019-07-02 00:00:00, 2019-07-02 00:00:00, 2019-07-02 00:00:00, 2019-07-02 00:00:00, 2019-07-02 00:00:00, 2019-07-02 00:00:00, 2019-07-02 00:00:00, 2019-07-02 00:00:00, 2019-07-02 00:00:00, 2019-07-02 00:00:00, 2019-07-02 00:00:00, 2019-07-02 00:00:00, 2019-07-03 00:00:00, 2019-07-03 00:00:00, 2019-07-03 00:00:00, 2019-07-03 00:00:00, 2019-07-03 00:00:00, 2019-07-03 00:00:00, 2019-07-03 00:00:00, 2019-07-03 00:00:00, 2019-07-03 00:00:00, 2019-07-03 00:00:00, 2019-07-03 00:00:00, 2019-07-03 00:00:00, 2019-07-03 00:00:00, 2019-07-03 00:00:00, 2019-07-03 00:00:00, 2019-07-03 00:00:00, 2019-07-03 00:00:00, 2019-07-04 00:00:00, 2019-07-04 00:00:00, 2019-07-04 00:00:00, 2019-07-04 00:00:00, 2019-07-04 00:00:00, 2019-07-04 00:00:00, 2019-07-04 00:00:00, 2019-07-04 00:00:00, 2019-07-04 00:00:00, 2019-07-04 00:00:00, 2019-07-04 00:00:00, 2019-07-04 00:00:00, 2019-07-04 00:00:00, 2019-07-04 00:00:00, 2019-07-04 00:00:00, 2019-07-04 00:00:00, 2019-07-05 00:00:00, 2019-07-05 00:00:00, 2019-07-05 00:00:00, 2019-07-05 00:00:00, 2019-07-05 00:00:00, 2019-07-05 00:00:00, 2019-07-05 00:00:00, 2019-07-05 00:00:00, 2019-07-05 00:00:00, 2019-07-05 00:00:00, 2019-07-05 00:00:00, 2019-07-05 00:00:00, 2019-07-05 00:00:00, 2019-07-05 00:00:00, 2019-07-05 00:00:00, 2019-07-05 00:00:00, 2019-07-05 00:00:00, 2019-07-05 00:00:00, 2019-07-05 00:00:00, 2019-07-05 00:00:00, 2019-07-05 00:00:00, 2019-07-05 00:00:00, 2019-07-05 00:00:00, 2019-07-05 00:00:00, 2019-07-06 00:00:00, 2019-07-06 00:00:00, 2019-07-06 00:00:00, 2019-07-06 00:00:00, 2019-07-06 00:00:00, 2019-07-06 00:00:00, 2019-07-06 00:00:00, 2019-07-06 00:00:00, 2019-07-06 00:00:00, 2019-07-06 00:00:00, 2019-07-06 00:00:00, ...], '서구': [2019-07-01 00:00:00, 2019-07-01 00:00:00, 2019-07-01 00:00:00, 2019-07-01 00:00:00, 2019-07-01 00:00:00, 2019-07-02 00:00:00, 2019-07-02 00:00:00, 2019-07-02 00:00:00, 2019-07-02 00:00:00, 2019-07-02 00:00:00, 2019-07-02 00:00:00, 2019-07-03 00:00:00, 2019-07-03 00:00:00, 2019-07-03 00:00:00, 2019-07-03 00:00:00, 2019-07-03 00:00:00, 2019-07-03 00:00:00, 2019-07-04 00:00:00, 2019-07-05 00:00:00, 2019-07-05 00:00:00, 2019-07-05 00:00:00, 2019-07-05 00:00:00, 2019-07-05 00:00:00, 2019-07-06 00:00:00, 2019-07-07 00:00:00, 2019-07-07 00:00:00, 2019-07-07 00:00:00, 2019-07-07 00:00:00, 2019-07-08 00:00:00, 2019-07-08 00:00:00, 2019-07-08 00:00:00, 2019-07-08 00:00:00, 2019-07-09 00:00:00, 2019-07-09 00:00:00, 2019-07-09 00:00:00, 2019-07-09 00:00:00, 2019-07-09 00:00:00, 2019-07-09 00:00:00, 2019-07-09 00:00:00, 2019-07-10 00:00:00, 2019-07-10 00:00:00, 2019-07-10 00:00:00, 2019-07-10 00:00:00, 2019-07-11 00:00:00, 2019-07-12 00:00:00, 2019-07-12 00:00:00, 2019-07-13 00:00:00, 2019-07-13 00:00:00, 2019-07-13 00:00:00, 2019-07-13 00:00:00, 2019-07-14 00:00:00, 2019-07-15 00:00:00, 2019-07-15 00:00:00, 2019-07-15 00:00:00, 2019-07-15 00:00:00, 2019-07-15 00:00:00, 2019-07-15 00:00:00, 2019-07-16 00:00:00, 2019-07-16 00:00:00, 2019-07-16 00:00:00, 2019-07-16 00:00:00, 2019-07-16 00:00:00, 2019-07-17 00:00:00, 2019-07-17 00:00:00, 2019-07-17 00:00:00, 2019-07-17 00:00:00, 2019-07-17 00:00:00, 2019-07-18 00:00:00, 2019-07-18 00:00:00, 2019-07-18 00:00:00, 2019-07-18 00:00:00, 2019-07-18 00:00:00, 2019-07-19 00:00:00, 2019-07-20 00:00:00, 2019-07-21 00:00:00, 2019-07-22 00:00:00, 2019-07-22 00:00:00, 2019-07-22 00:00:00, 2019-07-23 00:00:00, 2019-07-23 00:00:00, 2019-07-23 00:00:00, 2019-07-23 00:00:00, 2019-07-24 00:00:00, 2019-07-25 00:00:00, 2019-07-25 00:00:00, 2019-07-25 00:00:00, 2019-07-26 00:00:00, 2019-07-26 00:00:00, 2019-07-27 00:00:00, 2019-07-27 00:00:00, 2019-07-27 00:00:00, 2019-07-28 00:00:00, 2019-07-29 00:00:00, 2019-07-29 00:00:00, 2019-07-29 00:00:00, 2019-07-29 00:00:00, 2019-07-30 00:00:00, 2019-07-30 00:00:00, 2019-07-30 00:00:00, 2019-07-31 00:00:00, ...], '수성구': [2019-07-01 00:00:00, 2019-07-01 00:00:00, 2019-07-01 00:00:00, 2019-07-01 00:00:00, 2019-07-01 00:00:00, 2019-07-01 00:00:00, 2019-07-01 00:00:00, 2019-07-01 00:00:00, 2019-07-01 00:00:00, 2019-07-01 00:00:00, 2019-07-01 00:00:00, 2019-07-01 00:00:00, 2019-07-01 00:00:00, 2019-07-02 00:00:00, 2019-07-02 00:00:00, 2019-07-02 00:00:00, 2019-07-02 00:00:00, 2019-07-02 00:00:00, 2019-07-02 00:00:00, 2019-07-02 00:00:00, 2019-07-02 00:00:00, 2019-07-02 00:00:00, 2019-07-02 00:00:00, 2019-07-02 00:00:00, 2019-07-02 00:00:00, 2019-07-02 00:00:00, 2019-07-02 00:00:00, 2019-07-03 00:00:00, 2019-07-03 00:00:00, 2019-07-03 00:00:00, 2019-07-03 00:00:00, 2019-07-03 00:00:00, 2019-07-03 00:00:00, 2019-07-03 00:00:00, 2019-07-03 00:00:00, 2019-07-04 00:00:00, 2019-07-04 00:00:00, 2019-07-04 00:00:00, 2019-07-04 00:00:00, 2019-07-04 00:00:00, 2019-07-04 00:00:00, 2019-07-04 00:00:00, 2019-07-05 00:00:00, 2019-07-05 00:00:00, 2019-07-05 00:00:00, 2019-07-05 00:00:00, 2019-07-05 00:00:00, 2019-07-05 00:00:00, 2019-07-05 00:00:00, 2019-07-05 00:00:00, 2019-07-05 00:00:00, 2019-07-05 00:00:00, 2019-07-05 00:00:00, 2019-07-05 00:00:00, 2019-07-05 00:00:00, 2019-07-06 00:00:00, 2019-07-06 00:00:00, 2019-07-06 00:00:00, 2019-07-06 00:00:00, 2019-07-06 00:00:00, 2019-07-06 00:00:00, 2019-07-06 00:00:00, 2019-07-06 00:00:00, 2019-07-06 00:00:00, 2019-07-06 00:00:00, 2019-07-06 00:00:00, 2019-07-06 00:00:00, 2019-07-06 00:00:00, 2019-07-06 00:00:00, 2019-07-06 00:00:00, 2019-07-06 00:00:00, 2019-07-06 00:00:00, 2019-07-07 00:00:00, 2019-07-07 00:00:00, 2019-07-07 00:00:00, 2019-07-08 00:00:00, 2019-07-08 00:00:00, 2019-07-08 00:00:00, 2019-07-08 00:00:00, 2019-07-08 00:00:00, 2019-07-08 00:00:00, 2019-07-08 00:00:00, 2019-07-08 00:00:00, 2019-07-08 00:00:00, 2019-07-08 00:00:00, 2019-07-08 00:00:00, 2019-07-08 00:00:00, 2019-07-08 00:00:00, 2019-07-08 00:00:00, 2019-07-08 00:00:00, 2019-07-08 00:00:00, 2019-07-09 00:00:00, 2019-07-09 00:00:00, 2019-07-09 00:00:00, 2019-07-09 00:00:00, 2019-07-09 00:00:00, 2019-07-09 00:00:00, 2019-07-09 00:00:00, 2019-07-09 00:00:00, 2019-07-09 00:00:00, ...], '중구': [2019-07-01 00:00:00, 2019-07-01 00:00:00, 2019-07-01 00:00:00, 2019-07-01 00:00:00, 2019-07-02 00:00:00, 2019-07-02 00:00:00, 2019-07-03 00:00:00, 2019-07-03 00:00:00, 2019-07-04 00:00:00, 2019-07-05 00:00:00, 2019-07-05 00:00:00, 2019-07-05 00:00:00, 2019-07-05 00:00:00, 2019-07-06 00:00:00, 2019-07-06 00:00:00, 2019-07-06 00:00:00, 2019-07-07 00:00:00, 2019-07-08 00:00:00, 2019-07-08 00:00:00, 2019-07-09 00:00:00, 2019-07-09 00:00:00, 2019-07-12 00:00:00, 2019-07-13 00:00:00, 2019-07-13 00:00:00, 2019-07-14 00:00:00, 2019-07-15 00:00:00, 2019-07-15 00:00:00, 2019-07-16 00:00:00, 2019-07-16 00:00:00, 2019-07-17 00:00:00, 2019-07-18 00:00:00, 2019-07-18 00:00:00, 2019-07-19 00:00:00, 2019-07-19 00:00:00, 2019-07-19 00:00:00, 2019-07-19 00:00:00, 2019-07-19 00:00:00, 2019-07-20 00:00:00, 2019-07-21 00:00:00, 2019-07-22 00:00:00, 2019-07-22 00:00:00, 2019-07-23 00:00:00, 2019-07-23 00:00:00, 2019-07-23 00:00:00, 2019-07-23 00:00:00, 2019-07-25 00:00:00, 2019-07-25 00:00:00, 2019-07-25 00:00:00, 2019-07-26 00:00:00, 2019-07-27 00:00:00, 2019-07-27 00:00:00, 2019-07-27 00:00:00, 2019-07-29 00:00:00, 2019-07-29 00:00:00, 2019-07-30 00:00:00, 2019-07-30 00:00:00, 2019-07-30 00:00:00, 2019-07-31 00:00:00, 2019-08-01 00:00:00, 2019-08-01 00:00:00, 2019-08-01 00:00:00, 2019-08-02 00:00:00, 2019-08-03 00:00:00, 2019-08-03 00:00:00, 2019-08-03 00:00:00, 2019-08-05 00:00:00, 2019-08-05 00:00:00, 2019-08-05 00:00:00, 2019-08-05 00:00:00, 2019-08-05 00:00:00, 2019-08-05 00:00:00, 2019-08-05 00:00:00, 2019-08-06 00:00:00, 2019-08-06 00:00:00, 2019-08-07 00:00:00, 2019-08-08 00:00:00, 2019-08-10 00:00:00, 2019-08-10 00:00:00, 2019-08-12 00:00:00, 2019-08-13 00:00:00, 2019-08-14 00:00:00, 2019-08-14 00:00:00, 2019-08-19 00:00:00, 2019-08-19 00:00:00, 2019-08-20 00:00:00, 2019-08-20 00:00:00, 2019-08-20 00:00:00, 2019-08-20 00:00:00, 2019-08-22 00:00:00, 2019-08-23 00:00:00, 2019-08-23 00:00:00, 2019-08-23 00:00:00, 2019-08-23 00:00:00, 2019-08-24 00:00:00, 2019-08-24 00:00:00, 2019-08-24 00:00:00, 2019-08-25 00:00:00, 2019-08-28 00:00:00, 2019-08-28 00:00:00, 2019-08-28 00:00:00, ...]}"
            ]
          },
          "metadata": {
            "tags": []
          },
          "execution_count": 19
        }
      ]
    },
    {
      "cell_type": "code",
      "metadata": {
        "id": "ed946011-b389-4349-8b4a-840df9abc283",
        "colab": {
          "base_uri": "https://localhost:8080/"
        },
        "outputId": "d16551da-21fd-4107-b7e3-b7c4e1745b23"
      },
      "source": [
        "def month_split(index): \n",
        "    return index.month # parse_date=True 한게 여기서 쓰임\n",
        "\n",
        "df.groupby(month_split)['transaction'].max()"
      ],
      "id": "ed946011-b389-4349-8b4a-840df9abc283",
      "execution_count": null,
      "outputs": [
        {
          "output_type": "execute_result",
          "data": {
            "text/plain": [
              "1     245000\n",
              "2     190000\n",
              "3     243000\n",
              "4     250000\n",
              "5     235000\n",
              "6     220000\n",
              "7     345000\n",
              "8     207000\n",
              "9     249000\n",
              "10    245000\n",
              "11    345000\n",
              "12    255000\n",
              "Name: transaction, dtype: int64"
            ]
          },
          "metadata": {
            "tags": []
          },
          "execution_count": 20
        }
      ]
    },
    {
      "cell_type": "markdown",
      "metadata": {
        "id": "a8f46031-4f0b-40dc-aa76-4ed368e44481"
      },
      "source": [
        "### 2. apply & combining"
      ],
      "id": "a8f46031-4f0b-40dc-aa76-4ed368e44481"
    },
    {
      "cell_type": "code",
      "metadata": {
        "id": "d3a46b28-3b49-430d-9432-5d858b426a74",
        "colab": {
          "base_uri": "https://localhost:8080/",
          "height": 324
        },
        "outputId": "4bcd7202-e697-464c-af97-c06f68a74c9d"
      },
      "source": [
        "target_cols = ['transaction', 'built']\n",
        "df.groupby('gu')[target_cols].min() # 이렇게 하면 5900만원인 건물에 대한 건축년도를 불러올 가능성 있음 확인 과정 필요"
      ],
      "id": "d3a46b28-3b49-430d-9432-5d858b426a74",
      "execution_count": null,
      "outputs": [
        {
          "output_type": "execute_result",
          "data": {
            "text/html": [
              "<div>\n",
              "<style scoped>\n",
              "    .dataframe tbody tr th:only-of-type {\n",
              "        vertical-align: middle;\n",
              "    }\n",
              "\n",
              "    .dataframe tbody tr th {\n",
              "        vertical-align: top;\n",
              "    }\n",
              "\n",
              "    .dataframe thead th {\n",
              "        text-align: right;\n",
              "    }\n",
              "</style>\n",
              "<table border=\"1\" class=\"dataframe\">\n",
              "  <thead>\n",
              "    <tr style=\"text-align: right;\">\n",
              "      <th></th>\n",
              "      <th>transaction</th>\n",
              "      <th>built</th>\n",
              "    </tr>\n",
              "    <tr>\n",
              "      <th>gu</th>\n",
              "      <th></th>\n",
              "      <th></th>\n",
              "    </tr>\n",
              "  </thead>\n",
              "  <tbody>\n",
              "    <tr>\n",
              "      <th>남구</th>\n",
              "      <td>5900</td>\n",
              "      <td>1977</td>\n",
              "    </tr>\n",
              "    <tr>\n",
              "      <th>달서구</th>\n",
              "      <td>4000</td>\n",
              "      <td>1978</td>\n",
              "    </tr>\n",
              "    <tr>\n",
              "      <th>달성군</th>\n",
              "      <td>1500</td>\n",
              "      <td>1984</td>\n",
              "    </tr>\n",
              "    <tr>\n",
              "      <th>동구</th>\n",
              "      <td>4700</td>\n",
              "      <td>1974</td>\n",
              "    </tr>\n",
              "    <tr>\n",
              "      <th>북구</th>\n",
              "      <td>4800</td>\n",
              "      <td>1978</td>\n",
              "    </tr>\n",
              "    <tr>\n",
              "      <th>서구</th>\n",
              "      <td>5220</td>\n",
              "      <td>1978</td>\n",
              "    </tr>\n",
              "    <tr>\n",
              "      <th>수성구</th>\n",
              "      <td>7300</td>\n",
              "      <td>1976</td>\n",
              "    </tr>\n",
              "    <tr>\n",
              "      <th>중구</th>\n",
              "      <td>5000</td>\n",
              "      <td>1973</td>\n",
              "    </tr>\n",
              "  </tbody>\n",
              "</table>\n",
              "</div>"
            ],
            "text/plain": [
              "     transaction  built\n",
              "gu                     \n",
              "남구          5900   1977\n",
              "달서구         4000   1978\n",
              "달성군         1500   1984\n",
              "동구          4700   1974\n",
              "북구          4800   1978\n",
              "서구          5220   1978\n",
              "수성구         7300   1976\n",
              "중구          5000   1973"
            ]
          },
          "metadata": {
            "tags": []
          },
          "execution_count": 21
        }
      ]
    },
    {
      "cell_type": "code",
      "metadata": {
        "id": "3MYnMDfkmuEo"
      },
      "source": [
        "#df.groupby('gu')['built'].min() "
      ],
      "id": "3MYnMDfkmuEo",
      "execution_count": null,
      "outputs": []
    },
    {
      "cell_type": "code",
      "metadata": {
        "colab": {
          "base_uri": "https://localhost:8080/",
          "height": 324
        },
        "id": "Q2wRpmb-oVGJ",
        "outputId": "acb4838c-db13-430e-b66a-54b767b4f54c"
      },
      "source": [
        "df.groupby('gu')[['transaction','month','year','area']].min()"
      ],
      "id": "Q2wRpmb-oVGJ",
      "execution_count": null,
      "outputs": [
        {
          "output_type": "execute_result",
          "data": {
            "text/html": [
              "<div>\n",
              "<style scoped>\n",
              "    .dataframe tbody tr th:only-of-type {\n",
              "        vertical-align: middle;\n",
              "    }\n",
              "\n",
              "    .dataframe tbody tr th {\n",
              "        vertical-align: top;\n",
              "    }\n",
              "\n",
              "    .dataframe thead th {\n",
              "        text-align: right;\n",
              "    }\n",
              "</style>\n",
              "<table border=\"1\" class=\"dataframe\">\n",
              "  <thead>\n",
              "    <tr style=\"text-align: right;\">\n",
              "      <th></th>\n",
              "      <th>transaction</th>\n",
              "      <th>month</th>\n",
              "      <th>year</th>\n",
              "      <th>area</th>\n",
              "    </tr>\n",
              "    <tr>\n",
              "      <th>gu</th>\n",
              "      <th></th>\n",
              "      <th></th>\n",
              "      <th></th>\n",
              "      <th></th>\n",
              "    </tr>\n",
              "  </thead>\n",
              "  <tbody>\n",
              "    <tr>\n",
              "      <th>남구</th>\n",
              "      <td>5900</td>\n",
              "      <td>1</td>\n",
              "      <td>2019</td>\n",
              "      <td>35.2750</td>\n",
              "    </tr>\n",
              "    <tr>\n",
              "      <th>달서구</th>\n",
              "      <td>4000</td>\n",
              "      <td>1</td>\n",
              "      <td>2019</td>\n",
              "      <td>30.6000</td>\n",
              "    </tr>\n",
              "    <tr>\n",
              "      <th>달성군</th>\n",
              "      <td>1500</td>\n",
              "      <td>1</td>\n",
              "      <td>2019</td>\n",
              "      <td>23.1000</td>\n",
              "    </tr>\n",
              "    <tr>\n",
              "      <th>동구</th>\n",
              "      <td>4700</td>\n",
              "      <td>1</td>\n",
              "      <td>2019</td>\n",
              "      <td>17.8000</td>\n",
              "    </tr>\n",
              "    <tr>\n",
              "      <th>북구</th>\n",
              "      <td>4800</td>\n",
              "      <td>1</td>\n",
              "      <td>2019</td>\n",
              "      <td>22.2388</td>\n",
              "    </tr>\n",
              "    <tr>\n",
              "      <th>서구</th>\n",
              "      <td>5220</td>\n",
              "      <td>1</td>\n",
              "      <td>2019</td>\n",
              "      <td>22.9500</td>\n",
              "    </tr>\n",
              "    <tr>\n",
              "      <th>수성구</th>\n",
              "      <td>7300</td>\n",
              "      <td>1</td>\n",
              "      <td>2019</td>\n",
              "      <td>11.8800</td>\n",
              "    </tr>\n",
              "    <tr>\n",
              "      <th>중구</th>\n",
              "      <td>5000</td>\n",
              "      <td>1</td>\n",
              "      <td>2019</td>\n",
              "      <td>12.6520</td>\n",
              "    </tr>\n",
              "  </tbody>\n",
              "</table>\n",
              "</div>"
            ],
            "text/plain": [
              "     transaction  month  year     area\n",
              "gu                                    \n",
              "남구          5900      1  2019  35.2750\n",
              "달서구         4000      1  2019  30.6000\n",
              "달성군         1500      1  2019  23.1000\n",
              "동구          4700      1  2019  17.8000\n",
              "북구          4800      1  2019  22.2388\n",
              "서구          5220      1  2019  22.9500\n",
              "수성구         7300      1  2019  11.8800\n",
              "중구          5000      1  2019  12.6520"
            ]
          },
          "metadata": {
            "tags": []
          },
          "execution_count": 23
        }
      ]
    },
    {
      "cell_type": "code",
      "metadata": {
        "id": "32313f4e-2b58-4c2a-8df1-1b1231ae03b1",
        "colab": {
          "base_uri": "https://localhost:8080/",
          "height": 445
        },
        "outputId": "71d25421-7a93-469d-f568-1254e8ebbed8"
      },
      "source": [
        "df.groupby('apt')['transaction'].agg(['min', 'max', 'median'])"
      ],
      "id": "32313f4e-2b58-4c2a-8df1-1b1231ae03b1",
      "execution_count": null,
      "outputs": [
        {
          "output_type": "execute_result",
          "data": {
            "text/html": [
              "<div>\n",
              "<style scoped>\n",
              "    .dataframe tbody tr th:only-of-type {\n",
              "        vertical-align: middle;\n",
              "    }\n",
              "\n",
              "    .dataframe tbody tr th {\n",
              "        vertical-align: top;\n",
              "    }\n",
              "\n",
              "    .dataframe thead th {\n",
              "        text-align: right;\n",
              "    }\n",
              "</style>\n",
              "<table border=\"1\" class=\"dataframe\">\n",
              "  <thead>\n",
              "    <tr style=\"text-align: right;\">\n",
              "      <th></th>\n",
              "      <th>min</th>\n",
              "      <th>max</th>\n",
              "      <th>median</th>\n",
              "    </tr>\n",
              "    <tr>\n",
              "      <th>apt</th>\n",
              "      <th></th>\n",
              "      <th></th>\n",
              "      <th></th>\n",
              "    </tr>\n",
              "  </thead>\n",
              "  <tbody>\n",
              "    <tr>\n",
              "      <th>(1197-20)</th>\n",
              "      <td>28000</td>\n",
              "      <td>33700</td>\n",
              "      <td>29500.0</td>\n",
              "    </tr>\n",
              "    <tr>\n",
              "      <th>(417-2)</th>\n",
              "      <td>22000</td>\n",
              "      <td>25800</td>\n",
              "      <td>24800.0</td>\n",
              "    </tr>\n",
              "    <tr>\n",
              "      <th>(420-0)</th>\n",
              "      <td>23500</td>\n",
              "      <td>23800</td>\n",
              "      <td>23650.0</td>\n",
              "    </tr>\n",
              "    <tr>\n",
              "      <th>(화원)영남</th>\n",
              "      <td>16800</td>\n",
              "      <td>29500</td>\n",
              "      <td>23900.0</td>\n",
              "    </tr>\n",
              "    <tr>\n",
              "      <th>(화원)청구청탑맨션</th>\n",
              "      <td>12000</td>\n",
              "      <td>24700</td>\n",
              "      <td>15300.0</td>\n",
              "    </tr>\n",
              "    <tr>\n",
              "      <th>...</th>\n",
              "      <td>...</td>\n",
              "      <td>...</td>\n",
              "      <td>...</td>\n",
              "    </tr>\n",
              "    <tr>\n",
              "      <th>희망교대성유니드</th>\n",
              "      <td>24500</td>\n",
              "      <td>58000</td>\n",
              "      <td>32100.0</td>\n",
              "    </tr>\n",
              "    <tr>\n",
              "      <th>힐데스하임아파트</th>\n",
              "      <td>19000</td>\n",
              "      <td>32950</td>\n",
              "      <td>24900.0</td>\n",
              "    </tr>\n",
              "    <tr>\n",
              "      <th>힐스테이트 범어</th>\n",
              "      <td>104100</td>\n",
              "      <td>200000</td>\n",
              "      <td>151000.0</td>\n",
              "    </tr>\n",
              "    <tr>\n",
              "      <th>힐스테이트황금동</th>\n",
              "      <td>49500</td>\n",
              "      <td>120000</td>\n",
              "      <td>82000.0</td>\n",
              "    </tr>\n",
              "    <tr>\n",
              "      <th>힐트리움</th>\n",
              "      <td>27000</td>\n",
              "      <td>28700</td>\n",
              "      <td>27300.0</td>\n",
              "    </tr>\n",
              "  </tbody>\n",
              "</table>\n",
              "<p>1692 rows × 3 columns</p>\n",
              "</div>"
            ],
            "text/plain": [
              "               min     max    median\n",
              "apt                                 \n",
              "(1197-20)    28000   33700   29500.0\n",
              "(417-2)      22000   25800   24800.0\n",
              "(420-0)      23500   23800   23650.0\n",
              "(화원)영남       16800   29500   23900.0\n",
              "(화원)청구청탑맨션   12000   24700   15300.0\n",
              "...            ...     ...       ...\n",
              "희망교대성유니드     24500   58000   32100.0\n",
              "힐데스하임아파트     19000   32950   24900.0\n",
              "힐스테이트 범어    104100  200000  151000.0\n",
              "힐스테이트황금동     49500  120000   82000.0\n",
              "힐트리움         27000   28700   27300.0\n",
              "\n",
              "[1692 rows x 3 columns]"
            ]
          },
          "metadata": {
            "tags": []
          },
          "execution_count": 24
        }
      ]
    },
    {
      "cell_type": "markdown",
      "metadata": {
        "id": "cefec999-6f0c-4a97-a903-fa0281eedc1e"
      },
      "source": [
        "### ex)\n",
        "거래대금이 가장 변동성이 높은 구를 고르시요 hint : sort_values"
      ],
      "id": "cefec999-6f0c-4a97-a903-fa0281eedc1e"
    },
    {
      "cell_type": "code",
      "metadata": {
        "id": "HOf88CtctcaH"
      },
      "source": [
        "pd.Series.std?"
      ],
      "id": "HOf88CtctcaH",
      "execution_count": null,
      "outputs": []
    },
    {
      "cell_type": "code",
      "metadata": {
        "id": "LPO3jQXXuC9g"
      },
      "source": [
        "df.transaction.std??"
      ],
      "id": "LPO3jQXXuC9g",
      "execution_count": null,
      "outputs": []
    },
    {
      "cell_type": "code",
      "metadata": {
        "colab": {
          "base_uri": "https://localhost:8080/"
        },
        "id": "ZMFrUh4HuOb6",
        "outputId": "7a1e2804-2bfe-4f3a-bda9-06dfb8364da9"
      },
      "source": [
        "df['transaction'].std??"
      ],
      "id": "ZMFrUh4HuOb6",
      "execution_count": null,
      "outputs": [
        {
          "output_type": "stream",
          "text": [
            "Object `std` not found.\n"
          ],
          "name": "stdout"
        }
      ]
    },
    {
      "cell_type": "code",
      "metadata": {
        "colab": {
          "base_uri": "https://localhost:8080/"
        },
        "id": "u9tiACKRrZm3",
        "outputId": "c0547ca9-f8b0-4f4c-d951-87b3beaa1e5b"
      },
      "source": [
        "for a, b, in df.groupby('gu')['transaction']: # a : 구이름, b : transacion값\n",
        "    print(a, b.shape, type(b))"
      ],
      "id": "u9tiACKRrZm3",
      "execution_count": null,
      "outputs": [
        {
          "output_type": "stream",
          "text": [
            "남구 (2021,) <class 'pandas.core.series.Series'>\n",
            "달서구 (19754,) <class 'pandas.core.series.Series'>\n",
            "달성군 (10837,) <class 'pandas.core.series.Series'>\n",
            "동구 (10045,) <class 'pandas.core.series.Series'>\n",
            "북구 (14768,) <class 'pandas.core.series.Series'>\n",
            "서구 (2263,) <class 'pandas.core.series.Series'>\n",
            "수성구 (12973,) <class 'pandas.core.series.Series'>\n",
            "중구 (2161,) <class 'pandas.core.series.Series'>\n"
          ],
          "name": "stdout"
        }
      ]
    },
    {
      "cell_type": "code",
      "metadata": {
        "id": "c4ce993f-5061-4c4d-9794-61054e802eb5",
        "colab": {
          "base_uri": "https://localhost:8080/"
        },
        "outputId": "6750cf8e-e0ce-41e8-ba9f-1bc14024682e"
      },
      "source": [
        "df.groupby('gu')['transaction'].std().sort_values(ascending=False) # 변동성 : 표준편차 std() 사용 / ascending=True : 오름차순"
      ],
      "id": "c4ce993f-5061-4c4d-9794-61054e802eb5",
      "execution_count": null,
      "outputs": [
        {
          "output_type": "execute_result",
          "data": {
            "text/plain": [
              "gu\n",
              "수성구    32713.633015\n",
              "달서구    15850.797591\n",
              "중구     15751.054449\n",
              "남구     13076.174494\n",
              "북구     12966.683614\n",
              "동구     11986.849957\n",
              "서구     11385.730106\n",
              "달성군    10975.464711\n",
              "Name: transaction, dtype: float64"
            ]
          },
          "metadata": {
            "tags": []
          },
          "execution_count": 29
        }
      ]
    },
    {
      "cell_type": "markdown",
      "metadata": {
        "id": "d153a257-c225-49f1-a5ec-42b4b24869ba"
      },
      "source": [
        "거래대금이 가장 변동성이 높은 아파트를 10개를 출력해보세요\n"
      ],
      "id": "d153a257-c225-49f1-a5ec-42b4b24869ba"
    },
    {
      "cell_type": "code",
      "metadata": {
        "id": "f80a7df4-3534-4318-8491-26575c859bfc",
        "colab": {
          "base_uri": "https://localhost:8080/"
        },
        "outputId": "f9735de6-3a0c-4334-f50b-ee07d187b807"
      },
      "source": [
        "#df.groupby('apt')['transaction'].std().sort_values(ascending=False).head(10)\n",
        "df.groupby('apt')['transaction'].std().nlargest(10) # nsmallest 도 있음 -> 이런 메소드를 쓰면 효율성 훨씬 좋다"
      ],
      "id": "f80a7df4-3534-4318-8491-26575c859bfc",
      "execution_count": null,
      "outputs": [
        {
          "output_type": "execute_result",
          "data": {
            "text/plain": [
              "apt\n",
              "태왕아너스         42160.360147\n",
              "수성포레힐         41605.288125\n",
              "두산위브더제니스      38028.892459\n",
              "수성하이츠         37925.332116\n",
              "유림노르웨이숲       30616.494793\n",
              "현대하이페리온2단지    30471.805860\n",
              "경남타운          30112.092176\n",
              "범어롯데캐슬        29530.375040\n",
              "범어에스케이뷰       29463.156095\n",
              "을지맨션          27638.595359\n",
              "Name: transaction, dtype: float64"
            ]
          },
          "metadata": {
            "tags": []
          },
          "execution_count": 30
        }
      ]
    },
    {
      "cell_type": "markdown",
      "metadata": {
        "id": "8bfcdaa7-331c-4402-93f4-fc9beadfdc5f"
      },
      "source": [
        "### plot"
      ],
      "id": "8bfcdaa7-331c-4402-93f4-fc9beadfdc5f"
    },
    {
      "cell_type": "code",
      "metadata": {
        "id": "2e91bbec-b6ab-43de-be6e-94c3256fe97f",
        "colab": {
          "base_uri": "https://localhost:8080/",
          "height": 297
        },
        "outputId": "e01ddfd8-f733-42e6-eb76-dd4551277c0b"
      },
      "source": [
        "df.groupby('floor').transaction.std().plot(style=\"k.\") # pandas에서 바로 연결 \"k.\" : 검은색 점\n",
        "# 원래는 import matplotlib.pyplot as plt 주로 사용"
      ],
      "id": "2e91bbec-b6ab-43de-be6e-94c3256fe97f",
      "execution_count": null,
      "outputs": [
        {
          "output_type": "execute_result",
          "data": {
            "text/plain": [
              "<matplotlib.axes._subplots.AxesSubplot at 0x7f4aaa50ea50>"
            ]
          },
          "metadata": {
            "tags": []
          },
          "execution_count": 31
        },
        {
          "output_type": "display_data",
          "data": {
            "image/png": "[encoded data removed]",
            "text/plain": [
              "<Figure size 432x288 with 1 Axes>"
            ]
          },
          "metadata": {
            "tags": [],
            "needs_background": "light"
          }
        }
      ]
    },
    {
      "cell_type": "markdown",
      "metadata": {
        "id": "2ef4a283-d651-4e4e-8381-8654bd94d270"
      },
      "source": [
        "### ex)\n",
        "\n",
        "가로축(x)은 건물의 최고높이, 세로축(y)은 그 건물의 거래금액 중간값으로 해서, scatter plot 으로 그리시오"
      ],
      "id": "2ef4a283-d651-4e4e-8381-8654bd94d270"
    },
    {
      "cell_type": "markdown",
      "metadata": {
        "id": "f7dc2b99-0a6f-4985-b90e-bfec9ef63249"
      },
      "source": [
        "- hint: \n",
        "```python\n",
        "        >>> pd.DataFrame.plot(x='...', y='...', kind='scatter')\n",
        "```"
      ],
      "id": "f7dc2b99-0a6f-4985-b90e-bfec9ef63249"
    },
    {
      "cell_type": "code",
      "metadata": {
        "id": "dXsFeDOqviGJ",
        "colab": {
          "base_uri": "https://localhost:8080/",
          "height": 141
        },
        "outputId": "7be98fa9-d9e6-400c-82c1-779ede8c00d4"
      },
      "source": [
        "f=df.groupby('apt').floor.max()\n",
        "t = df.groupby('apt').transaction.median()\n",
        "tmp_df = pd.concat([f,t], axis=1)\n",
        "tmp_df.head(2)"
      ],
      "id": "dXsFeDOqviGJ",
      "execution_count": null,
      "outputs": [
        {
          "output_type": "execute_result",
          "data": {
            "text/html": [
              "<div>\n",
              "<style scoped>\n",
              "    .dataframe tbody tr th:only-of-type {\n",
              "        vertical-align: middle;\n",
              "    }\n",
              "\n",
              "    .dataframe tbody tr th {\n",
              "        vertical-align: top;\n",
              "    }\n",
              "\n",
              "    .dataframe thead th {\n",
              "        text-align: right;\n",
              "    }\n",
              "</style>\n",
              "<table border=\"1\" class=\"dataframe\">\n",
              "  <thead>\n",
              "    <tr style=\"text-align: right;\">\n",
              "      <th></th>\n",
              "      <th>floor</th>\n",
              "      <th>transaction</th>\n",
              "    </tr>\n",
              "    <tr>\n",
              "      <th>apt</th>\n",
              "      <th></th>\n",
              "      <th></th>\n",
              "    </tr>\n",
              "  </thead>\n",
              "  <tbody>\n",
              "    <tr>\n",
              "      <th>(1197-20)</th>\n",
              "      <td>9</td>\n",
              "      <td>29500.0</td>\n",
              "    </tr>\n",
              "    <tr>\n",
              "      <th>(417-2)</th>\n",
              "      <td>9</td>\n",
              "      <td>24800.0</td>\n",
              "    </tr>\n",
              "  </tbody>\n",
              "</table>\n",
              "</div>"
            ],
            "text/plain": [
              "           floor  transaction\n",
              "apt                          \n",
              "(1197-20)      9      29500.0\n",
              "(417-2)        9      24800.0"
            ]
          },
          "metadata": {
            "tags": []
          },
          "execution_count": 59
        }
      ]
    },
    {
      "cell_type": "code",
      "metadata": {
        "id": "1eIjMpzx2eP8"
      },
      "source": [
        "# x - x.min()/(x.max()-x.min())       # 같은 범위로 줄여서 할 수 있다."
      ],
      "id": "1eIjMpzx2eP8",
      "execution_count": 1,
      "outputs": []
    },
    {
      "cell_type": "code",
      "metadata": {
        "colab": {
          "base_uri": "https://localhost:8080/",
          "height": 734
        },
        "id": "oVUKqfs02r-F",
        "outputId": "bfd0fcc9-2cb8-449d-8aa0-60f71ed0b6a2"
      },
      "source": [
        "tmp_df.boxplot(by=\"floor\", rot=90, figsize=(15,10))"
      ],
      "id": "oVUKqfs02r-F",
      "execution_count": null,
      "outputs": [
        {
          "output_type": "stream",
          "text": [
            "/usr/local/lib/python3.7/dist-packages/numpy/core/_asarray.py:83: VisibleDeprecationWarning: Creating an ndarray from ragged nested sequences (which is a list-or-tuple of lists-or-tuples-or ndarrays with different lengths or shapes) is deprecated. If you meant to do this, you must specify 'dtype=object' when creating the ndarray\n",
            "  return array(a, dtype, copy=False, order=order)\n"
          ],
          "name": "stderr"
        },
        {
          "output_type": "execute_result",
          "data": {
            "text/plain": [
              "<matplotlib.axes._subplots.AxesSubplot at 0x7f4aa4b9c390>"
            ]
          },
          "metadata": {
            "tags": []
          },
          "execution_count": 64
        },
        {
          "output_type": "display_data",
          "data": {
            "image/png": "[encoded data removed]",
            "text/plain": [
              "<Figure size 1080x720 with 1 Axes>"
            ]
          },
          "metadata": {
            "tags": [],
            "needs_background": "light"
          }
        }
      ]
    },
    {
      "cell_type": "code",
      "metadata": {
        "colab": {
          "base_uri": "https://localhost:8080/",
          "height": 623
        },
        "id": "o2x27it-1dSi",
        "outputId": "d19e6cf5-9225-4431-d55d-ab7401789dd2"
      },
      "source": [
        "tmp_df.plot(x='floor',y='transaction', kind='scatter', figsize=(15,10))"
      ],
      "id": "o2x27it-1dSi",
      "execution_count": null,
      "outputs": [
        {
          "output_type": "execute_result",
          "data": {
            "text/plain": [
              "<matplotlib.axes._subplots.AxesSubplot at 0x7f4aa513f650>"
            ]
          },
          "metadata": {
            "tags": []
          },
          "execution_count": 65
        },
        {
          "output_type": "display_data",
          "data": {
            "image/png": "[encoded data removed]",
            "text/plain": [
              "<Figure size 1080x720 with 1 Axes>"
            ]
          },
          "metadata": {
            "tags": [],
            "needs_background": "light"
          }
        }
      ]
    },
    {
      "cell_type": "markdown",
      "metadata": {
        "id": "cd31e737-e7be-41ff-acd4-960f7ab37827"
      },
      "source": [
        "# Quiz"
      ],
      "id": "cd31e737-e7be-41ff-acd4-960f7ab37827"
    },
    {
      "cell_type": "markdown",
      "metadata": {
        "id": "11f7dfa4-a02c-4818-b932-a95913b65f11"
      },
      "source": [
        "- 가장 거래가 많이 일어난 아파트는?"
      ],
      "id": "11f7dfa4-a02c-4818-b932-a95913b65f11"
    },
    {
      "cell_type": "code",
      "metadata": {
        "id": "58d40ff6-1a68-48df-8cb9-f26b703be04d",
        "colab": {
          "base_uri": "https://localhost:8080/"
        },
        "outputId": "5fa9b750-f220-455c-a2af-88a9856ac21b"
      },
      "source": [
        "df.groupby('apt').transaction.count().nlargest()"
      ],
      "id": "58d40ff6-1a68-48df-8cb9-f26b703be04d",
      "execution_count": null,
      "outputs": [
        {
          "output_type": "execute_result",
          "data": {
            "text/plain": [
              "apt\n",
              "대구테크노폴리스남해오네뜨1차    792\n",
              "대구월배2차 아이파크        478\n",
              "청구타운               359\n",
              "월성주공4단지            333\n",
              "태왕메트로시티            332\n",
              "Name: transaction, dtype: int64"
            ]
          },
          "metadata": {
            "tags": []
          },
          "execution_count": 33
        }
      ]
    },
    {
      "cell_type": "code",
      "metadata": {
        "colab": {
          "base_uri": "https://localhost:8080/"
        },
        "id": "uRj8noCdsJjI",
        "outputId": "87b400e6-5995-4141-a99d-febe332c8fd1"
      },
      "source": [
        "df.groupby('apt').transaction.count().sort_values(ascending=False)[:5]"
      ],
      "id": "uRj8noCdsJjI",
      "execution_count": null,
      "outputs": [
        {
          "output_type": "execute_result",
          "data": {
            "text/plain": [
              "apt\n",
              "대구테크노폴리스남해오네뜨1차    792\n",
              "대구월배2차 아이파크        478\n",
              "청구타운               359\n",
              "월성주공4단지            333\n",
              "태왕메트로시티            332\n",
              "Name: transaction, dtype: int64"
            ]
          },
          "metadata": {
            "tags": []
          },
          "execution_count": 34
        }
      ]
    },
    {
      "cell_type": "markdown",
      "metadata": {
        "id": "518ef56f-dc28-47cd-8e80-c2a1d6317097"
      },
      "source": [
        "- 가장 거래금액이 컸던 아파트는?"
      ],
      "id": "518ef56f-dc28-47cd-8e80-c2a1d6317097"
    },
    {
      "cell_type": "code",
      "metadata": {
        "id": "f7b9d7b3-e1f7-4430-942f-faabf63c9185",
        "colab": {
          "base_uri": "https://localhost:8080/"
        },
        "outputId": "33efc22a-1868-4a2e-d7e5-07e4fadaf72c"
      },
      "source": [
        "df.groupby('apt').transaction.max().nlargest(5)"
      ],
      "id": "f7b9d7b3-e1f7-4430-942f-faabf63c9185",
      "execution_count": null,
      "outputs": [
        {
          "output_type": "execute_result",
          "data": {
            "text/plain": [
              "apt\n",
              "두산위브더제니스    345000\n",
              "태왕아너스       243000\n",
              "힐스테이트 범어    200000\n",
              "범어에스케이뷰     198000\n",
              "범어동일하이빌     197000\n",
              "Name: transaction, dtype: int64"
            ]
          },
          "metadata": {
            "tags": []
          },
          "execution_count": 35
        }
      ]
    },
    {
      "cell_type": "markdown",
      "metadata": {
        "id": "8d09af20-134d-49f7-8fe6-74636d964ddc"
      },
      "source": [
        "- 각자 살고있는 구에서 가장 비싼 아파트는 어디인가?"
      ],
      "id": "8d09af20-134d-49f7-8fe6-74636d964ddc"
    },
    {
      "cell_type": "code",
      "metadata": {
        "id": "4314beb5-027a-4e1c-ad3c-9eb30b1c58fc",
        "colab": {
          "base_uri": "https://localhost:8080/"
        },
        "outputId": "5469721c-d038-499d-89a4-0bfba840924b"
      },
      "source": [
        "gu_condition = df.gu == '북구'\n",
        "\n",
        "df.loc[gu_condition].groupby('apt').transaction.max().nlargest()"
      ],
      "id": "4314beb5-027a-4e1c-ad3c-9eb30b1c58fc",
      "execution_count": null,
      "outputs": [
        {
          "output_type": "execute_result",
          "data": {
            "text/plain": [
              "apt\n",
              "침산1차푸르지오(2-5)       108000\n",
              "코오롱하늘채2단지           104000\n",
              "오페라 삼정 그린코아 더베스트     97000\n",
              "침산1차푸르지오(2-2)        93000\n",
              "매천화성파크드림             79500\n",
              "Name: transaction, dtype: int64"
            ]
          },
          "metadata": {
            "tags": []
          },
          "execution_count": 40
        }
      ]
    },
    {
      "cell_type": "code",
      "metadata": {
        "colab": {
          "base_uri": "https://localhost:8080/"
        },
        "id": "1Ue2lQSyufin",
        "outputId": "2c49b68c-cb5d-4089-9c79-56d56e5f76b0"
      },
      "source": [
        "df.gu.nunique()     # len(df.gu.unique())"
      ],
      "id": "1Ue2lQSyufin",
      "execution_count": null,
      "outputs": [
        {
          "output_type": "execute_result",
          "data": {
            "text/plain": [
              "8"
            ]
          },
          "metadata": {
            "tags": []
          },
          "execution_count": 37
        }
      ]
    },
    {
      "cell_type": "code",
      "metadata": {
        "colab": {
          "base_uri": "https://localhost:8080/"
        },
        "id": "crRyiJ0EumeP",
        "outputId": "0e795444-7248-4ac6-d32a-553d1a6b9f4f"
      },
      "source": [
        "apt_name = df.loc[gu_condition].groupby('apt').transaction.max().nlargest(1)\n",
        "apt_name.index[0], apt_name.values"
      ],
      "id": "crRyiJ0EumeP",
      "execution_count": null,
      "outputs": [
        {
          "output_type": "execute_result",
          "data": {
            "text/plain": [
              "('아리랑빌라트', array([100000]))"
            ]
          },
          "metadata": {
            "tags": []
          },
          "execution_count": 44
        }
      ]
    },
    {
      "cell_type": "code",
      "metadata": {
        "colab": {
          "base_uri": "https://localhost:8080/"
        },
        "id": "n6MyZ7gxt_Cp",
        "outputId": "9068c509-a680-432c-d7d9-00e126da34f9"
      },
      "source": [
        "for gu_name in df.gu.unique():\n",
        "    gu_condition = df.gu == gu_name\n",
        "    apt_name = df.loc[gu_condition].groupby('apt').transaction.max().nlargest(1)\n",
        "    print(f\"{gu_name}>>> 아파트이름: {apt_name.index[0]}, 가격: {apt_name.array[0]:,}만원\")"
      ],
      "id": "n6MyZ7gxt_Cp",
      "execution_count": null,
      "outputs": [
        {
          "output_type": "stream",
          "text": [
            "달성군>>> 아파트이름: 죽곡푸르지오2단지, 가격: 79,000만원\n",
            "수성구>>> 아파트이름: 두산위브더제니스, 가격: 345,000만원\n",
            "북구>>> 아파트이름: 침산1차푸르지오(2-5), 가격: 108,000만원\n",
            "달서구>>> 아파트이름: 월드마크웨스트엔드, 가격: 152,000만원\n",
            "서구>>> 아파트이름: 광장타운1차, 가격: 93,000만원\n",
            "동구>>> 아파트이름: 현대하이페리온2단지, 가격: 185,000만원\n",
            "중구>>> 아파트이름: 센트로팰리스, 가격: 119,800만원\n",
            "남구>>> 아파트이름: 아리랑빌라트, 가격: 100,000만원\n"
          ],
          "name": "stdout"
        }
      ]
    },
    {
      "cell_type": "markdown",
      "metadata": {
        "id": "d18dd192-68bf-4b9a-83be-24f9e8c30137"
      },
      "source": [
        "- 2020년 이후의 거래에서, 평당 가격이 가장 비싼 아파트는 어디인가?\n"
      ],
      "id": "d18dd192-68bf-4b9a-83be-24f9e8c30137"
    },
    {
      "cell_type": "code",
      "metadata": {
        "id": "7d051269-d6af-4d40-8cf9-c5aba9061e77",
        "colab": {
          "base_uri": "https://localhost:8080/",
          "height": 445
        },
        "outputId": "2432cc83-272b-4c01-fe78-a7ed749bd94c"
      },
      "source": [
        "new_df = df.assign(ta= df['transaction']/df['area'])\n",
        "\n",
        "new_df.sort_values(by='ta')"
      ],
      "id": "7d051269-d6af-4d40-8cf9-c5aba9061e77",
      "execution_count": null,
      "outputs": [
        {
          "output_type": "execute_result",
          "data": {
            "text/html": [
              "<div>\n",
              "<style scoped>\n",
              "    .dataframe tbody tr th:only-of-type {\n",
              "        vertical-align: middle;\n",
              "    }\n",
              "\n",
              "    .dataframe tbody tr th {\n",
              "        vertical-align: top;\n",
              "    }\n",
              "\n",
              "    .dataframe thead th {\n",
              "        text-align: right;\n",
              "    }\n",
              "</style>\n",
              "<table border=\"1\" class=\"dataframe\">\n",
              "  <thead>\n",
              "    <tr style=\"text-align: right;\">\n",
              "      <th></th>\n",
              "      <th>apt</th>\n",
              "      <th>area</th>\n",
              "      <th>transaction</th>\n",
              "      <th>floor</th>\n",
              "      <th>built</th>\n",
              "      <th>road</th>\n",
              "      <th>year</th>\n",
              "      <th>month</th>\n",
              "      <th>day</th>\n",
              "      <th>city</th>\n",
              "      <th>gu</th>\n",
              "      <th>dong</th>\n",
              "      <th>ta</th>\n",
              "    </tr>\n",
              "    <tr>\n",
              "      <th>cdate</th>\n",
              "      <th></th>\n",
              "      <th></th>\n",
              "      <th></th>\n",
              "      <th></th>\n",
              "      <th></th>\n",
              "      <th></th>\n",
              "      <th></th>\n",
              "      <th></th>\n",
              "      <th></th>\n",
              "      <th></th>\n",
              "      <th></th>\n",
              "      <th></th>\n",
              "      <th></th>\n",
              "    </tr>\n",
              "  </thead>\n",
              "  <tbody>\n",
              "    <tr>\n",
              "      <th>2020-07-28</th>\n",
              "      <td>논공삼주</td>\n",
              "      <td>43.8300</td>\n",
              "      <td>1500</td>\n",
              "      <td>5</td>\n",
              "      <td>1990</td>\n",
              "      <td>논공로7길 55</td>\n",
              "      <td>2020</td>\n",
              "      <td>7</td>\n",
              "      <td>28</td>\n",
              "      <td>대구광역시</td>\n",
              "      <td>달성군</td>\n",
              "      <td>논공읍 남리</td>\n",
              "      <td>34.223135</td>\n",
              "    </tr>\n",
              "    <tr>\n",
              "      <th>2020-07-06</th>\n",
              "      <td>평광현대</td>\n",
              "      <td>35.7900</td>\n",
              "      <td>1500</td>\n",
              "      <td>5</td>\n",
              "      <td>1989</td>\n",
              "      <td>논공로21길 15</td>\n",
              "      <td>2020</td>\n",
              "      <td>7</td>\n",
              "      <td>6</td>\n",
              "      <td>대구광역시</td>\n",
              "      <td>달성군</td>\n",
              "      <td>논공읍 북리</td>\n",
              "      <td>41.911148</td>\n",
              "    </tr>\n",
              "    <tr>\n",
              "      <th>2019-10-28</th>\n",
              "      <td>평광현대</td>\n",
              "      <td>35.7900</td>\n",
              "      <td>1500</td>\n",
              "      <td>5</td>\n",
              "      <td>1989</td>\n",
              "      <td>논공로21길 15</td>\n",
              "      <td>2019</td>\n",
              "      <td>10</td>\n",
              "      <td>28</td>\n",
              "      <td>대구광역시</td>\n",
              "      <td>달성군</td>\n",
              "      <td>논공읍 북리</td>\n",
              "      <td>41.911148</td>\n",
              "    </tr>\n",
              "    <tr>\n",
              "      <th>2020-12-30</th>\n",
              "      <td>논공삼주</td>\n",
              "      <td>43.8300</td>\n",
              "      <td>2000</td>\n",
              "      <td>5</td>\n",
              "      <td>1990</td>\n",
              "      <td>논공로7길 55</td>\n",
              "      <td>2020</td>\n",
              "      <td>12</td>\n",
              "      <td>30</td>\n",
              "      <td>대구광역시</td>\n",
              "      <td>달성군</td>\n",
              "      <td>논공읍 남리</td>\n",
              "      <td>45.630846</td>\n",
              "    </tr>\n",
              "    <tr>\n",
              "      <th>2020-12-04</th>\n",
              "      <td>경일(1,2,3동)</td>\n",
              "      <td>50.0550</td>\n",
              "      <td>2500</td>\n",
              "      <td>5</td>\n",
              "      <td>1987</td>\n",
              "      <td>논공로9길 39</td>\n",
              "      <td>2020</td>\n",
              "      <td>12</td>\n",
              "      <td>4</td>\n",
              "      <td>대구광역시</td>\n",
              "      <td>달성군</td>\n",
              "      <td>논공읍 남리</td>\n",
              "      <td>49.945060</td>\n",
              "    </tr>\n",
              "    <tr>\n",
              "      <th>...</th>\n",
              "      <td>...</td>\n",
              "      <td>...</td>\n",
              "      <td>...</td>\n",
              "      <td>...</td>\n",
              "      <td>...</td>\n",
              "      <td>...</td>\n",
              "      <td>...</td>\n",
              "      <td>...</td>\n",
              "      <td>...</td>\n",
              "      <td>...</td>\n",
              "      <td>...</td>\n",
              "      <td>...</td>\n",
              "      <td>...</td>\n",
              "    </tr>\n",
              "    <tr>\n",
              "      <th>2020-10-15</th>\n",
              "      <td>만촌삼정그린코아에듀파크</td>\n",
              "      <td>75.9909</td>\n",
              "      <td>139000</td>\n",
              "      <td>12</td>\n",
              "      <td>2019</td>\n",
              "      <td>교학로 65</td>\n",
              "      <td>2020</td>\n",
              "      <td>10</td>\n",
              "      <td>15</td>\n",
              "      <td>대구광역시</td>\n",
              "      <td>수성구</td>\n",
              "      <td>만촌동</td>\n",
              "      <td>1829.166387</td>\n",
              "    </tr>\n",
              "    <tr>\n",
              "      <th>2021-05-13</th>\n",
              "      <td>힐스테이트 범어</td>\n",
              "      <td>84.9218</td>\n",
              "      <td>160000</td>\n",
              "      <td>17</td>\n",
              "      <td>2020</td>\n",
              "      <td>범어로18길 22</td>\n",
              "      <td>2021</td>\n",
              "      <td>5</td>\n",
              "      <td>13</td>\n",
              "      <td>대구광역시</td>\n",
              "      <td>수성구</td>\n",
              "      <td>범어동</td>\n",
              "      <td>1884.086301</td>\n",
              "    </tr>\n",
              "    <tr>\n",
              "      <th>2021-05-22</th>\n",
              "      <td>힐스테이트 범어</td>\n",
              "      <td>84.9218</td>\n",
              "      <td>160000</td>\n",
              "      <td>9</td>\n",
              "      <td>2020</td>\n",
              "      <td>범어로18길 22</td>\n",
              "      <td>2021</td>\n",
              "      <td>5</td>\n",
              "      <td>22</td>\n",
              "      <td>대구광역시</td>\n",
              "      <td>수성구</td>\n",
              "      <td>범어동</td>\n",
              "      <td>1884.086301</td>\n",
              "    </tr>\n",
              "    <tr>\n",
              "      <th>2021-03-13</th>\n",
              "      <td>힐스테이트 범어</td>\n",
              "      <td>84.9218</td>\n",
              "      <td>170000</td>\n",
              "      <td>16</td>\n",
              "      <td>2020</td>\n",
              "      <td>범어로18길 22</td>\n",
              "      <td>2021</td>\n",
              "      <td>3</td>\n",
              "      <td>13</td>\n",
              "      <td>대구광역시</td>\n",
              "      <td>수성구</td>\n",
              "      <td>범어동</td>\n",
              "      <td>2001.841694</td>\n",
              "    </tr>\n",
              "    <tr>\n",
              "      <th>2021-01-15</th>\n",
              "      <td>경남타운</td>\n",
              "      <td>84.5500</td>\n",
              "      <td>177500</td>\n",
              "      <td>8</td>\n",
              "      <td>1982</td>\n",
              "      <td>범어로 27</td>\n",
              "      <td>2021</td>\n",
              "      <td>1</td>\n",
              "      <td>15</td>\n",
              "      <td>대구광역시</td>\n",
              "      <td>수성구</td>\n",
              "      <td>범어동</td>\n",
              "      <td>2099.349497</td>\n",
              "    </tr>\n",
              "  </tbody>\n",
              "</table>\n",
              "<p>74822 rows × 13 columns</p>\n",
              "</div>"
            ],
            "text/plain": [
              "                     apt     area  transaction  ...   gu    dong           ta\n",
              "cdate                                           ...                          \n",
              "2020-07-28          논공삼주  43.8300         1500  ...  달성군  논공읍 남리    34.223135\n",
              "2020-07-06          평광현대  35.7900         1500  ...  달성군  논공읍 북리    41.911148\n",
              "2019-10-28          평광현대  35.7900         1500  ...  달성군  논공읍 북리    41.911148\n",
              "2020-12-30          논공삼주  43.8300         2000  ...  달성군  논공읍 남리    45.630846\n",
              "2020-12-04    경일(1,2,3동)  50.0550         2500  ...  달성군  논공읍 남리    49.945060\n",
              "...                  ...      ...          ...  ...  ...     ...          ...\n",
              "2020-10-15  만촌삼정그린코아에듀파크  75.9909       139000  ...  수성구     만촌동  1829.166387\n",
              "2021-05-13      힐스테이트 범어  84.9218       160000  ...  수성구     범어동  1884.086301\n",
              "2021-05-22      힐스테이트 범어  84.9218       160000  ...  수성구     범어동  1884.086301\n",
              "2021-03-13      힐스테이트 범어  84.9218       170000  ...  수성구     범어동  2001.841694\n",
              "2021-01-15          경남타운  84.5500       177500  ...  수성구     범어동  2099.349497\n",
              "\n",
              "[74822 rows x 13 columns]"
            ]
          },
          "metadata": {
            "tags": []
          },
          "execution_count": 56
        }
      ]
    },
    {
      "cell_type": "markdown",
      "metadata": {
        "id": "e3b164db-d3ff-4044-9e61-4f26c86bdad4"
      },
      "source": [
        "- 2020년 이후의 거래에서, 평당 가격의 최대 최소 차이가 가장 많이 나는 아파트 5개를 알아보자"
      ],
      "id": "e3b164db-d3ff-4044-9e61-4f26c86bdad4"
    },
    {
      "cell_type": "code",
      "metadata": {
        "id": "20c80191-895a-459d-a105-67fff265d23c",
        "colab": {
          "base_uri": "https://localhost:8080/"
        },
        "outputId": "a1b3af60-056b-4424-ac24-99e079c64fd0"
      },
      "source": [
        "after_df = new_df.loc[\"2020\":]\n",
        "after_df.groupby('apt').ta.agg(lambda x: x.max()-x.min()).nlargest(5)"
      ],
      "id": "20c80191-895a-459d-a105-67fff265d23c",
      "execution_count": null,
      "outputs": [
        {
          "output_type": "execute_result",
          "data": {
            "text/plain": [
              "apt\n",
              "경남타운      1100.516964\n",
              "광명         997.931738\n",
              "동진         900.938821\n",
              "우방청솔맨션     850.850851\n",
              "청구타운       844.082435\n",
              "Name: ta, dtype: float64"
            ]
          },
          "metadata": {
            "tags": []
          },
          "execution_count": 57
        }
      ]
    },
    {
      "cell_type": "markdown",
      "metadata": {
        "id": "5qQ20_h6SlHM"
      },
      "source": [
        "# Aggregation"
      ],
      "id": "5qQ20_h6SlHM"
    },
    {
      "cell_type": "code",
      "metadata": {
        "id": "rDQ6HTRHSmZT"
      },
      "source": [
        "import numpy as np"
      ],
      "id": "rDQ6HTRHSmZT",
      "execution_count": null,
      "outputs": []
    },
    {
      "cell_type": "code",
      "metadata": {
        "id": "2xoR28M8T-0g"
      },
      "source": [
        "df.dtypes"
      ],
      "id": "2xoR28M8T-0g",
      "execution_count": null,
      "outputs": []
    },
    {
      "cell_type": "code",
      "metadata": {
        "id": "EOhlCNpySokB"
      },
      "source": [
        "number_df = df.select_dtypes(include=[\"number\"])        # 숫자형태의 데이터만 골라오겠다는 의미\n",
        "number_df.sample(2)"
      ],
      "id": "EOhlCNpySokB",
      "execution_count": null,
      "outputs": []
    },
    {
      "cell_type": "code",
      "metadata": {
        "id": "zCYzXa38TN0p"
      },
      "source": [
        "number_df.area.agg(sum)"
      ],
      "id": "zCYzXa38TN0p",
      "execution_count": null,
      "outputs": []
    },
    {
      "cell_type": "code",
      "metadata": {
        "id": "z4U2sWJOTP6x"
      },
      "source": [
        "sum([1,2,3,4])"
      ],
      "id": "z4U2sWJOTP6x",
      "execution_count": null,
      "outputs": []
    },
    {
      "cell_type": "code",
      "metadata": {
        "id": "MYSHNQqCTRbB"
      },
      "source": [
        "number_df.area.agg(lambda x: x.sum())"
      ],
      "id": "MYSHNQqCTRbB",
      "execution_count": null,
      "outputs": []
    },
    {
      "cell_type": "code",
      "metadata": {
        "id": "UjmWdxoxTYQS"
      },
      "source": [
        "number_df.agg(sum)"
      ],
      "id": "UjmWdxoxTYQS",
      "execution_count": null,
      "outputs": []
    },
    {
      "cell_type": "code",
      "metadata": {
        "id": "xghOKoceTcDA"
      },
      "source": [
        "number_df.agg(['sum', 'mean'])"
      ],
      "id": "xghOKoceTcDA",
      "execution_count": null,
      "outputs": []
    },
    {
      "cell_type": "code",
      "metadata": {
        "id": "04CtH2JcTqmH"
      },
      "source": [
        "def my_sum(data):           # 내가 직접 함수를 만들어서도 작성 가능하다.\n",
        "    return data.sum()\n",
        "\n",
        "number_df.agg([sum, lambda x: x.sum(), my_sum])"
      ],
      "id": "04CtH2JcTqmH",
      "execution_count": null,
      "outputs": []
    },
    {
      "cell_type": "markdown",
      "metadata": {
        "id": "lyEoKQWCU1hn"
      },
      "source": [
        "# Aggregation with dict"
      ],
      "id": "lyEoKQWCU1hn"
    },
    {
      "cell_type": "code",
      "metadata": {
        "id": "1aMKgBfSU4SR"
      },
      "source": [
        "number_df.agg({         # 원하는 부분만 보고 싶을때 딕셔너리 사용해서 가능하다.\n",
        "    \"transaction\" : \"median\",\n",
        "    \"floor\" : \"max\"\n",
        "})"
      ],
      "id": "1aMKgBfSU4SR",
      "execution_count": null,
      "outputs": []
    },
    {
      "cell_type": "code",
      "metadata": {
        "id": "sZ0lYjvVVK2U"
      },
      "source": [
        "number_df.agg({\n",
        "    \"transaction\" : [\"median\", \"mean\"],\n",
        "    \"floor\" : \"max\"\n",
        "})"
      ],
      "id": "sZ0lYjvVVK2U",
      "execution_count": null,
      "outputs": []
    },
    {
      "cell_type": "markdown",
      "metadata": {
        "id": "HXt1mwbLVfgX"
      },
      "source": [
        "# Custom describe"
      ],
      "id": "HXt1mwbLVfgX"
    },
    {
      "cell_type": "code",
      "metadata": {
        "id": "1owCRcN_VdxZ"
      },
      "source": [
        "from functools import partial"
      ],
      "id": "1owCRcN_VdxZ",
      "execution_count": null,
      "outputs": []
    },
    {
      "cell_type": "code",
      "metadata": {
        "id": "EN8G1koucXmw"
      },
      "source": [
        "cal_return(\"네이버\")    ##############?????????????????###################"
      ],
      "id": "EN8G1koucXmw",
      "execution_count": null,
      "outputs": []
    },
    {
      "cell_type": "code",
      "metadata": {
        "id": "9X8dkRhAV6-x"
      },
      "source": [
        "def cal_return(stock, date=\"2020\"):     # 잘 실수하는 값을 2020이라고 했을 때 이걸 고정시키면 사용자는 stock만 바꿔서 사용하면 됨\n",
        "    print(f\"stock:{stock}\")\n",
        "    print(date)\n",
        "    return 0.3"
      ],
      "id": "9X8dkRhAV6-x",
      "execution_count": null,
      "outputs": []
    },
    {
      "cell_type": "code",
      "metadata": {
        "id": "xA3umiWlWXS0"
      },
      "source": [
        "# cal_return(stock, date=\"20210101\")\n",
        "\n",
        "cal_return_with_date = partial(cal_return, date=\"20210101\")"
      ],
      "id": "xA3umiWlWXS0",
      "execution_count": null,
      "outputs": []
    },
    {
      "cell_type": "code",
      "metadata": {
        "id": "26TCT5MsWpmD"
      },
      "source": [
        "cal_return_with_date"
      ],
      "id": "26TCT5MsWpmD",
      "execution_count": null,
      "outputs": []
    },
    {
      "cell_type": "code",
      "metadata": {
        "id": "30JNGXAgWvsc"
      },
      "source": [
        "cal_return_with_date(\"네이버\")"
      ],
      "id": "30JNGXAgWvsc",
      "execution_count": null,
      "outputs": []
    },
    {
      "cell_type": "code",
      "metadata": {
        "id": "35Sp_uA_WERy"
      },
      "source": [
        "a = 3.2345\n",
        "\n",
        "text = \"This is a number\"\n",
        "\n",
        "print(f\"This is a number{a:27}\")"
      ],
      "id": "35Sp_uA_WERy",
      "execution_count": null,
      "outputs": []
    },
    {
      "cell_type": "code",
      "metadata": {
        "id": "59VT9y3sXN1G"
      },
      "source": [
        "q_25 = partial(pd.Series.quantile, q=0.25)      # 위에꺼는 사용자 직접 함수이고 이건 파이썬 내에 있는 함수"
      ],
      "id": "59VT9y3sXN1G",
      "execution_count": null,
      "outputs": []
    },
    {
      "cell_type": "code",
      "metadata": {
        "id": "Q2r9VhoCXdGb"
      },
      "source": [
        "q_25.__name__ = \"25%\""
      ],
      "id": "Q2r9VhoCXdGb",
      "execution_count": null,
      "outputs": []
    },
    {
      "cell_type": "code",
      "metadata": {
        "id": "PALR2sQgc9dp"
      },
      "source": [
        "number_df.agg([q_25])"
      ],
      "id": "PALR2sQgc9dp",
      "execution_count": null,
      "outputs": []
    },
    {
      "cell_type": "code",
      "metadata": {
        "id": "byIlsldRYGhe"
      },
      "source": [
        "q_25"
      ],
      "id": "byIlsldRYGhe",
      "execution_count": null,
      "outputs": []
    },
    {
      "cell_type": "markdown",
      "metadata": {
        "id": "uryNjea5Yqk-"
      },
      "source": [
        "# Quiz. number_df.describe(), DIY"
      ],
      "id": "uryNjea5Yqk-"
    },
    {
      "cell_type": "code",
      "metadata": {
        "id": "0G3VcXz2Yxar"
      },
      "source": [
        "number_df.describe()"
      ],
      "id": "0G3VcXz2Yxar",
      "execution_count": null,
      "outputs": []
    },
    {
      "cell_type": "code",
      "metadata": {
        "id": "Vu15V0wFY3id"
      },
      "source": [
        "q_25 = partial(pd.Series.quantile, q=0.25)\n",
        "q_25.__name__ = \"25%\"\n",
        "\n",
        "q_50 = partial(pd.Series.quantile, q=0.50)\n",
        "q_50.__name__ = \"50%\"\n",
        "\n",
        "q_75 = partial(pd.Series.quantile, q=0.75)\n",
        "q_75.__name__ = \"75%\""
      ],
      "id": "Vu15V0wFY3id",
      "execution_count": null,
      "outputs": []
    },
    {
      "cell_type": "code",
      "metadata": {
        "id": "_zof9ywldRL3"
      },
      "source": [
        "number_df.agg([\"count\", \"mean\", \"std\", \"min\", q_25, q_50, q_75, \"max\"])"
      ],
      "id": "_zof9ywldRL3",
      "execution_count": null,
      "outputs": []
    },
    {
      "cell_type": "code",
      "metadata": {
        "id": "AYlyfDnTeEkn"
      },
      "source": [
        "%timeit number_df['area'].apply(lambda x: x+1)\n",
        "%timeit -n 100 -r 3 number_df[['area']].apply(lambda x: x+1)        # %timeit -n 숫자1 -r 숫자2 코드\n",
        "                                                                    # n은 숫자1만큼 loops 돌리고 r은 숫자2만큼 runs 돌린다. \n",
        "                                                                    # 총 (숫자1 x 숫자2) 번 돌아간다."
      ],
      "id": "AYlyfDnTeEkn",
      "execution_count": null,
      "outputs": []
    },
    {
      "cell_type": "markdown",
      "metadata": {
        "id": "kqo_mjwtUTUN"
      },
      "source": [
        "# Transformation"
      ],
      "id": "kqo_mjwtUTUN"
    },
    {
      "cell_type": "code",
      "metadata": {
        "id": "QIgWPFsiT0h5"
      },
      "source": [
        "number_df.transaction.transform(lambda x: x+1)"
      ],
      "id": "QIgWPFsiT0h5",
      "execution_count": null,
      "outputs": []
    },
    {
      "cell_type": "code",
      "metadata": {
        "id": "lBU36gWBe0up"
      },
      "source": [
        "number_df.transaction.transform([abs, lambda x: x+1])"
      ],
      "id": "lBU36gWBe0up",
      "execution_count": null,
      "outputs": []
    },
    {
      "cell_type": "code",
      "metadata": {
        "id": "yfNEimFEe9CW"
      },
      "source": [
        "number_df.transform([abs, lambda x: x+1])"
      ],
      "id": "yfNEimFEe9CW",
      "execution_count": null,
      "outputs": []
    },
    {
      "cell_type": "code",
      "metadata": {
        "id": "R6BLQDomfKlk"
      },
      "source": [
        "number_df.transform({       # 앞의 aggregation과는 달리 Nan값이 없다\n",
        "    \"transaction\" : lambda x: x*10000,\n",
        "    \"floor\" : [lambda x: x+2, \"abs\"]\n",
        "})"
      ],
      "id": "R6BLQDomfKlk",
      "execution_count": null,
      "outputs": []
    },
    {
      "cell_type": "code",
      "metadata": {
        "id": "Mj-p8Tc1fiTq"
      },
      "source": [
        ""
      ],
      "id": "Mj-p8Tc1fiTq",
      "execution_count": null,
      "outputs": []
    }
  ]
}