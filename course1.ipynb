{
  "nbformat": 4,
  "nbformat_minor": 5,
  "metadata": {
    "kernelspec": {
      "display_name": "Python 3",
      "language": "python",
      "name": "python3"
    },
    "language_info": {
      "codemirror_mode": {
        "name": "ipython",
        "version": 3
      },
      "file_extension": ".py",
      "mimetype": "text/x-python",
      "name": "python",
      "nbconvert_exporter": "python",
      "pygments_lexer": "ipython3",
      "version": "3.7.10"
    },
    "colab": {
      "name": "course1",
      "provenance": [],
      "collapsed_sections": [
        "b9bf446a-d3d6-4a38-9dc7-4e192285a8fb",
        "11a2fa5f-3b08-49be-9d50-10f224c834ad",
        "ef0034ef-3183-4b33-8db9-31f6a8a3f7ef",
        "a3b908c6-b8e7-4192-a405-1954e56138f2",
        "b13ac8fa-7a69-4707-a87b-2c245de4ed4f",
        "29d029e8-9fee-4b3f-b0d8-b37f58d6618b",
        "eb618924-15d1-4895-89ab-d610e817ecfc",
        "d7dc94ac-150a-4876-9eda-008de257178f",
        "83e865be-1498-4431-8614-3de9010b7be2",
        "159b6147-5fd2-41da-9410-7806e5043c1e",
        "3cdce7fd-a197-4940-85b8-7b6a2294c32b",
        "a4013b56-8965-4355-98d2-ce9902cf306a",
        "ddcb48b1-5dca-4832-857c-b2e4c78422ae",
        "c416e9ff-51fa-4551-9600-1b2e25eb7ae6",
        "bfd10cea-8706-4090-b9e4-93965279f8e5"
      ]
    }
  },
  "cells": [
    {
      "cell_type": "code",
      "metadata": {
        "colab": {
          "base_uri": "https://localhost:8080/"
        },
        "id": "alQV90FjDFPB",
        "outputId": "43cae303-1ca2-4889-f7a7-d58c50a38cdb"
      },
      "source": [
        "from google.colab import drive\n",
        "drive.mount('/content/drive')"
      ],
      "id": "alQV90FjDFPB",
      "execution_count": null,
      "outputs": [
        {
          "output_type": "stream",
          "name": "stdout",
          "text": [
            "Mounted at /content/drive\n"
          ]
        }
      ]
    },
    {
      "cell_type": "code",
      "metadata": {
        "id": "5faa39d1-cd28-40ef-af24-5d7381372a6b"
      },
      "source": [
        "import pandas as pd"
      ],
      "id": "5faa39d1-cd28-40ef-af24-5d7381372a6b",
      "execution_count": null,
      "outputs": []
    },
    {
      "cell_type": "markdown",
      "metadata": {
        "id": "knXPoynzyvot"
      },
      "source": [
        ""
      ],
      "id": "knXPoynzyvot"
    },
    {
      "cell_type": "code",
      "metadata": {
        "colab": {
          "base_uri": "https://localhost:8080/",
          "height": 36
        },
        "id": "uygAt-UbgJZD",
        "outputId": "e959e4f1-908c-4b21-c765-f6213660ffbc"
      },
      "source": [
        "pd.__version__"
      ],
      "id": "uygAt-UbgJZD",
      "execution_count": null,
      "outputs": [
        {
          "output_type": "execute_result",
          "data": {
            "application/vnd.google.colaboratory.intrinsic+json": {
              "type": "string"
            },
            "text/plain": [
              "'1.1.5'"
            ]
          },
          "metadata": {},
          "execution_count": 3
        }
      ]
    },
    {
      "cell_type": "code",
      "metadata": {
        "colab": {
          "base_uri": "https://localhost:8080/"
        },
        "id": "61786f63-0aa1-4ad3-b95e-2d67310c5760",
        "outputId": "61ca4689-fb42-4391-919c-b9eb309062da"
      },
      "source": [
        "!pwd    # 느낌표 다음에 실행되는거는 유닉스 명령어 실행\n",
        "        # 현재 디렉토리를 알려줌(!pwd)\n",
        "# !ls drive/MyDrive\n",
        "        # 디렉토리 내의 모든 파일을 나열함(!ls)"
      ],
      "id": "61786f63-0aa1-4ad3-b95e-2d67310c5760",
      "execution_count": 1,
      "outputs": [
        {
          "output_type": "stream",
          "name": "stdout",
          "text": [
            "/content\n"
          ]
        }
      ]
    },
    {
      "cell_type": "code",
      "metadata": {
        "id": "f7769f6d-94a3-4615-90de-0b1bcb002872"
      },
      "source": [
        "data_file1 = \"/content/drive/MyDrive/data/아파트(매매)__실거래가_(20190701_20200531).csv\"\n",
        "# csv파일은 콤마로 분리된 데이터파일을 뜻함"
      ],
      "id": "f7769f6d-94a3-4615-90de-0b1bcb002872",
      "execution_count": null,
      "outputs": []
    },
    {
      "cell_type": "markdown",
      "metadata": {
        "id": "9ca7dc74-62be-43f7-bd3c-8894383affc5"
      },
      "source": [
        "# Indexing\n",
        "\n",
        "> 들여쓴 블록\n",
        "\n"
      ],
      "id": "9ca7dc74-62be-43f7-bd3c-8894383affc5"
    },
    {
      "cell_type": "markdown",
      "metadata": {
        "id": "9529564c-2538-4586-b8fd-0a83562e7a3a"
      },
      "source": [
        "## data 불러오기"
      ],
      "id": "9529564c-2538-4586-b8fd-0a83562e7a3a"
    },
    {
      "cell_type": "markdown",
      "metadata": {
        "id": "722f0f2b-20aa-4a89-83f5-9cd24dc0d0d6"
      },
      "source": [
        "- ```python\n",
        "    >>> pd.read_csv(file_name, skiprows=..., encoding=...)\n",
        "  ```"
      ],
      "id": "722f0f2b-20aa-4a89-83f5-9cd24dc0d0d6"
    },
    {
      "cell_type": "code",
      "metadata": {
        "id": "d8752b26-1221-42e0-9f56-19a80a1a22e4"
      },
      "source": [
        "df = pd.read_csv(data_file1, skiprows=15, encoding='euc-kr')\n",
        "# skiprows : csv파일에 실직적인 부분만 파악하기 위해 필요없는 부분은 건너뛸 수 있다.\n",
        "df.head(4)      # 위에서 n번째를 보여줌\n",
        "df.tail(3)      # 끝에서 n번째를 보여줌"
      ],
      "id": "d8752b26-1221-42e0-9f56-19a80a1a22e4",
      "execution_count": null,
      "outputs": []
    },
    {
      "cell_type": "code",
      "metadata": {
        "id": "z7otgY1JGkKO"
      },
      "source": [
        "x=[[1,2,3],[4,5,6]]\n",
        "print(x[1][2])"
      ],
      "id": "z7otgY1JGkKO",
      "execution_count": null,
      "outputs": []
    },
    {
      "cell_type": "code",
      "metadata": {
        "id": "2ddfd9c7-8fd1-48d3-89af-dfa7c96d3b7c"
      },
      "source": [
        "df.shape    # 몇 by 몇 matrix인지 알려줌"
      ],
      "id": "2ddfd9c7-8fd1-48d3-89af-dfa7c96d3b7c",
      "execution_count": null,
      "outputs": []
    },
    {
      "cell_type": "code",
      "metadata": {
        "id": "7ddd9fbe-bf6d-438b-8f4b-9fa3d3aceff8"
      },
      "source": [
        "df.dtypes   #각 column마다 어떤 자료형인지 알려줌"
      ],
      "id": "7ddd9fbe-bf6d-438b-8f4b-9fa3d3aceff8",
      "execution_count": null,
      "outputs": []
    },
    {
      "cell_type": "code",
      "metadata": {
        "id": "759887cc-587e-4dc1-a2c2-6a9fe60ff096"
      },
      "source": [
        "df.index"
      ],
      "id": "759887cc-587e-4dc1-a2c2-6a9fe60ff096",
      "execution_count": null,
      "outputs": []
    },
    {
      "cell_type": "code",
      "metadata": {
        "id": "bb36bcef-89ff-455d-87b4-bc3ec1316c2b"
      },
      "source": [
        "df.columns"
      ],
      "id": "bb36bcef-89ff-455d-87b4-bc3ec1316c2b",
      "execution_count": null,
      "outputs": []
    },
    {
      "cell_type": "code",
      "metadata": {
        "id": "fcafacca-2b28-45f0-9f4e-f06d49e2db35"
      },
      "source": [
        "df.to_numpy()    # numpy배열로 만들어줌"
      ],
      "id": "fcafacca-2b28-45f0-9f4e-f06d49e2db35",
      "execution_count": null,
      "outputs": []
    },
    {
      "cell_type": "markdown",
      "metadata": {
        "id": "eca82a73-87a9-4669-89e4-3ffb3553a915"
      },
      "source": [
        "### ex) 데이터의 하단 10개를 출력해 보자."
      ],
      "id": "eca82a73-87a9-4669-89e4-3ffb3553a915"
    },
    {
      "cell_type": "markdown",
      "metadata": {
        "id": "5ec97e53-0fe2-48d6-89a9-383142575683"
      },
      "source": [
        "- hint: `df.tail`"
      ],
      "id": "5ec97e53-0fe2-48d6-89a9-383142575683"
    },
    {
      "cell_type": "code",
      "metadata": {
        "id": "eb56c1b4-4b28-4efb-8e30-4c2655943d17"
      },
      "source": [
        "df.tail(10)"
      ],
      "id": "eb56c1b4-4b28-4efb-8e30-4c2655943d17",
      "execution_count": null,
      "outputs": []
    },
    {
      "cell_type": "markdown",
      "metadata": {
        "id": "46832058-5ad2-4671-9707-09bd5f1a7136"
      },
      "source": [
        "---"
      ],
      "id": "46832058-5ad2-4671-9707-09bd5f1a7136"
    },
    {
      "cell_type": "markdown",
      "metadata": {
        "id": "841b1f7d-e68d-47f9-a81c-4b2de08c1e63"
      },
      "source": [
        "## Index 설정"
      ],
      "id": "841b1f7d-e68d-47f9-a81c-4b2de08c1e63"
    },
    {
      "cell_type": "code",
      "metadata": {
        "id": "c6ff160b-da3b-49c6-a496-df3a96495b73"
      },
      "source": [
        "apt_df = df.set_index(\"단지명\")     # 인덱스를 단지명으로 바꿔줌(0~32299에서 건영맨션,태평라이프 등등으로 바뀜)\n",
        "apt_df.tail()"
      ],
      "id": "c6ff160b-da3b-49c6-a496-df3a96495b73",
      "execution_count": null,
      "outputs": []
    },
    {
      "cell_type": "code",
      "metadata": {
        "id": "4a10bd13-d8fb-4efc-bcab-ba2703176837"
      },
      "source": [
        "# 되돌릴 때\n",
        "# apt_df.reset_index()"
      ],
      "id": "4a10bd13-d8fb-4efc-bcab-ba2703176837",
      "execution_count": null,
      "outputs": []
    },
    {
      "cell_type": "markdown",
      "metadata": {
        "id": "3e341f35-f6b4-4b48-ae95-3d2bb4df4c81"
      },
      "source": [
        "## 1. Label based indexing"
      ],
      "id": "3e341f35-f6b4-4b48-ae95-3d2bb4df4c81"
    },
    {
      "cell_type": "markdown",
      "metadata": {
        "id": "5ae1bc91-5316-4bbd-8fda-b56ff6f4513d"
      },
      "source": [
        "- `.loc` 를 사용한다.\n",
        "    ```python\n",
        "    >>> df.loc[row_labels, column_labels]\n",
        "    ```"
      ],
      "id": "5ae1bc91-5316-4bbd-8fda-b56ff6f4513d"
    },
    {
      "cell_type": "code",
      "metadata": {
        "scrolled": true,
        "tags": [],
        "id": "e737d48d-b1c3-4b3d-ad21-609a1d0a5a35"
      },
      "source": [
        "apt_df.loc[\"대구테크노폴리스남해오네뜨1차\"]"
      ],
      "id": "e737d48d-b1c3-4b3d-ad21-609a1d0a5a35",
      "execution_count": null,
      "outputs": []
    },
    {
      "cell_type": "code",
      "metadata": {
        "id": "f86d3d9b-3738-4edc-9487-c8824995f5cf"
      },
      "source": [
        "apt_df.loc[:, [\"계약년월\", \"시군구\"]]"
      ],
      "id": "f86d3d9b-3738-4edc-9487-c8824995f5cf",
      "execution_count": null,
      "outputs": []
    },
    {
      "cell_type": "markdown",
      "metadata": {
        "id": "b9bf446a-d3d6-4a38-9dc7-4e192285a8fb"
      },
      "source": [
        "### ex) \n",
        "마음에 드는 두 아파트에 대한 거래 금액과 전용면적을 출력해보자"
      ],
      "id": "b9bf446a-d3d6-4a38-9dc7-4e192285a8fb"
    },
    {
      "cell_type": "code",
      "metadata": {
        "id": "c3f3cf59-2d1d-4bb1-b2cf-d6a1bdc1900c"
      },
      "source": [
        "apt_df.loc[[\"개나리맨션\",\"태평라이프\"],[\"전용면적(㎡)\", \"거래금액(만원)\"]]"
      ],
      "id": "c3f3cf59-2d1d-4bb1-b2cf-d6a1bdc1900c",
      "execution_count": null,
      "outputs": []
    },
    {
      "cell_type": "markdown",
      "metadata": {
        "id": "5b785870-5a57-4124-bfd5-ad107f017d33"
      },
      "source": [
        "## 2. Position based indexing"
      ],
      "id": "5b785870-5a57-4124-bfd5-ad107f017d33"
    },
    {
      "cell_type": "markdown",
      "metadata": {
        "id": "66bfeea5-3bd8-4ef9-86a7-01452daf2337"
      },
      "source": [
        "- `.iloc` 를 사용한다.\n",
        "    ```python\n",
        "    >>> df.iloc[row_positions, column_positions]\n",
        "    ```"
      ],
      "id": "66bfeea5-3bd8-4ef9-86a7-01452daf2337"
    },
    {
      "cell_type": "code",
      "metadata": {
        "id": "c8ba6e9a-f54e-45bc-b320-efc0cca57dec"
      },
      "source": [
        "apt_df.iloc[0]      # 첫번째 행이 출력됨"
      ],
      "id": "c8ba6e9a-f54e-45bc-b320-efc0cca57dec",
      "execution_count": null,
      "outputs": []
    },
    {
      "cell_type": "code",
      "metadata": {
        "id": "d5fa8124-9574-4e8f-9154-5a92576293ed"
      },
      "source": [
        "apt_df.iloc[[0]]    # 위의 결과와는 다르게 matrix(표)로 출력됨"
      ],
      "id": "d5fa8124-9574-4e8f-9154-5a92576293ed",
      "execution_count": null,
      "outputs": []
    },
    {
      "cell_type": "code",
      "metadata": {
        "id": "987611db-01fc-433f-a80e-0748270e77cf"
      },
      "source": [
        "apt_df.iloc[0:1]    # [[0]]과 [0:1]은 같은 인덱스를 뜻한다."
      ],
      "id": "987611db-01fc-433f-a80e-0748270e77cf",
      "execution_count": null,
      "outputs": []
    },
    {
      "cell_type": "code",
      "metadata": {
        "id": "ecea7668-46b6-4d3c-8eaa-ab75f3a6b6f1"
      },
      "source": [
        "apt_df.iloc[:, 1:5]     "
      ],
      "id": "ecea7668-46b6-4d3c-8eaa-ab75f3a6b6f1",
      "execution_count": null,
      "outputs": []
    },
    {
      "cell_type": "code",
      "metadata": {
        "id": "66a2a8c8-6c10-402f-b203-cc7388a59446"
      },
      "source": [
        "apt_df.iloc[1, 1]       # 첫번째 행과 첫번째 열을 뜻하는데 젤 위의 변수명은 빼고 생각한다!!"
      ],
      "id": "66a2a8c8-6c10-402f-b203-cc7388a59446",
      "execution_count": null,
      "outputs": []
    },
    {
      "cell_type": "markdown",
      "metadata": {
        "id": "11a2fa5f-3b08-49be-9d50-10f224c834ad"
      },
      "source": [
        "### ex)\n",
        "`iloc` 을 사용해서 `apt_df` 데이터 프레임의 `'전용면적(㎡)'`, `'거래금액(만원)'` 두 컬럼을 출력한다. 단 이 때 출력한 행은 마지막 10개의 행으로 제한한다."
      ],
      "id": "11a2fa5f-3b08-49be-9d50-10f224c834ad"
    },
    {
      "cell_type": "code",
      "metadata": {
        "id": "8db95289-9d4a-4c1a-8e8c-695e1f8a3d2f"
      },
      "source": [
        "# 직접 position count\n",
        "print(apt_df.iloc[-10:, [4,7]])\n",
        "\n",
        "# column position 직접 count하지 않고 코드로 작성 & list_comprehension 사용\n",
        "col_idx = [apt_df.columns.get_loc(col_name) for col_name in [\"전용면적(㎡)\", \"거래금액(만원)\"]]\n",
        "print(col_idx)\n",
        "print(apt_df.iloc[-10: ,col_idx])"
      ],
      "id": "8db95289-9d4a-4c1a-8e8c-695e1f8a3d2f",
      "execution_count": null,
      "outputs": []
    },
    {
      "cell_type": "markdown",
      "metadata": {
        "id": "61929faa-ee3f-46c2-b61a-7d08c990d9f2"
      },
      "source": [
        "## 3. dict_like indexing (`__getitem__`)"
      ],
      "id": "61929faa-ee3f-46c2-b61a-7d08c990d9f2"
    },
    {
      "cell_type": "markdown",
      "metadata": {
        "id": "86218920-cc35-45e7-833d-13a65d2b6f2f"
      },
      "source": [
        "- `[]`을 사용한다.\n",
        "    ```python\n",
        "    >>> df[['col1', 'col2']]\n",
        "    ```"
      ],
      "id": "86218920-cc35-45e7-833d-13a65d2b6f2f"
    },
    {
      "cell_type": "code",
      "metadata": {
        "id": "e8b2f09b-c775-40dc-a9cb-644674ee1e4b"
      },
      "source": [
        "apt_df[['거래금액(만원)']]"
      ],
      "id": "e8b2f09b-c775-40dc-a9cb-644674ee1e4b",
      "execution_count": null,
      "outputs": []
    },
    {
      "cell_type": "markdown",
      "metadata": {
        "id": "ef0034ef-3183-4b33-8db9-31f6a8a3f7ef"
      },
      "source": [
        "### ex)\n",
        "\n",
        "`시군구`, `계약년월` 열을 선택해보자"
      ],
      "id": "ef0034ef-3183-4b33-8db9-31f6a8a3f7ef"
    },
    {
      "cell_type": "code",
      "metadata": {
        "id": "XBBQZppfSbfO"
      },
      "source": [
        "apt_df[[\"시군구\", \"계약년월\"]]"
      ],
      "id": "XBBQZppfSbfO",
      "execution_count": null,
      "outputs": []
    },
    {
      "cell_type": "markdown",
      "metadata": {
        "id": "giHC4BZ6fOKM"
      },
      "source": [
        ""
      ],
      "id": "giHC4BZ6fOKM"
    },
    {
      "cell_type": "markdown",
      "metadata": {
        "id": "305d0de6-f914-46fd-bf31-6b0dcebefdf1"
      },
      "source": [
        "## 4. Boolean Indexing"
      ],
      "id": "305d0de6-f914-46fd-bf31-6b0dcebefdf1"
    },
    {
      "cell_type": "code",
      "metadata": {
        "id": "J_X6ySPJS4ZV"
      },
      "source": [
        "df['해제사유발생일'].isna()"
      ],
      "id": "J_X6ySPJS4ZV",
      "execution_count": null,
      "outputs": []
    },
    {
      "cell_type": "code",
      "metadata": {
        "id": "476d3ab9-0f7a-4397-b2c4-44d3d6267e33"
      },
      "source": [
        "df['해제사유발생일'].isnull()       # 파이썬에서는 isnull() = isna()"
      ],
      "id": "476d3ab9-0f7a-4397-b2c4-44d3d6267e33",
      "execution_count": null,
      "outputs": []
    },
    {
      "cell_type": "code",
      "metadata": {
        "id": "77a412a3-5e0f-47e9-949c-5401756f1005"
      },
      "source": [
        "mask = df['해제사유발생일'].isna() # df['해제사유발생일'].notna()\n",
        "                                   # notna() : 결측값은 False 그 외에는 True    (결측값이란 비어있는 값)\n",
        "                                   # isna() : 결측값은 True 그 외에는 False\n",
        "df.loc[mask]        # mask : 해제사유발생일이 NaN인 것들을 모아둔 것"
      ],
      "id": "77a412a3-5e0f-47e9-949c-5401756f1005",
      "execution_count": null,
      "outputs": []
    },
    {
      "cell_type": "markdown",
      "metadata": {
        "id": "a3b908c6-b8e7-4192-a405-1954e56138f2"
      },
      "source": [
        "### logical operator\n",
        "\n",
        "- `~` for **not**\n",
        "- `&` for **and**\n",
        "- `|` for **or**"
      ],
      "id": "a3b908c6-b8e7-4192-a405-1954e56138f2"
    },
    {
      "cell_type": "markdown",
      "metadata": {
        "id": "2789e2de-6a5e-4402-b8a7-e633569bfec0"
      },
      "source": [
        "'해제사유발생일' 이 값이 `NaN` 이 아닌것 선택하기"
      ],
      "id": "2789e2de-6a5e-4402-b8a7-e633569bfec0"
    },
    {
      "cell_type": "code",
      "metadata": {
        "id": "9ad29519-0a61-4b9d-bf1e-df3624ce6aa1"
      },
      "source": [
        "df.loc[~mask]       # ~mask : not mask = not NaN"
      ],
      "id": "9ad29519-0a61-4b9d-bf1e-df3624ce6aa1",
      "execution_count": null,
      "outputs": []
    },
    {
      "cell_type": "markdown",
      "metadata": {
        "id": "b13ac8fa-7a69-4707-a87b-2c245de4ed4f"
      },
      "source": [
        "### 두가지 조건 만족하는 row 골라내기\n",
        "\n",
        "- '해제사유발생일' 값이 있을것\n",
        "- 건축년도가 2020년이다."
      ],
      "id": "b13ac8fa-7a69-4707-a87b-2c245de4ed4f"
    },
    {
      "cell_type": "code",
      "metadata": {
        "id": "248584c5-6539-4ff9-942b-233be005f1e2"
      },
      "source": [
        "year_condition = df['건축년도'] == 2020\n",
        "\n",
        "df.loc[year_condition & ~mask]"
      ],
      "id": "248584c5-6539-4ff9-942b-233be005f1e2",
      "execution_count": null,
      "outputs": []
    },
    {
      "cell_type": "markdown",
      "metadata": {
        "id": "29d029e8-9fee-4b3f-b0d8-b37f58d6618b"
      },
      "source": [
        "### ex)\n",
        "단지명이 `'대구역센트럴자이'` 이거나 또는 `해제사유발생일`이 존재하는 데이터를 골라보자"
      ],
      "id": "29d029e8-9fee-4b3f-b0d8-b37f58d6618b"
    },
    {
      "cell_type": "code",
      "metadata": {
        "id": "1d957150-ce9d-413b-992f-5ff41a755250"
      },
      "source": [
        "apt_condition = df[\"단지명\"] == \"대구역센트럴자이\"\n",
        "df.loc[apt_condition | ~mask]"
      ],
      "id": "1d957150-ce9d-413b-992f-5ff41a755250",
      "execution_count": null,
      "outputs": []
    },
    {
      "cell_type": "markdown",
      "metadata": {
        "id": "0fe2e3ef-13d5-449f-b147-bad142a7d529"
      },
      "source": [
        "\n",
        "```python\n",
        ">>> df.isin()\n",
        "```"
      ],
      "id": "0fe2e3ef-13d5-449f-b147-bad142a7d529"
    },
    {
      "cell_type": "code",
      "metadata": {
        "id": "d35c6727-cad9-4063-9e22-d39ec294ea1d"
      },
      "source": [
        "apt_mask = df['단지명'].isin(['개나리맨션', '세종아파트'])\n",
        "df.loc[apt_mask]['거래금액(만원)']"
      ],
      "id": "d35c6727-cad9-4063-9e22-d39ec294ea1d",
      "execution_count": null,
      "outputs": []
    },
    {
      "cell_type": "markdown",
      "metadata": {
        "id": "14208be3-20fe-45f9-9af4-486a39691a3b"
      },
      "source": [
        "## 5. 필요없는 부분 제거(drop) 하기"
      ],
      "id": "14208be3-20fe-45f9-9af4-486a39691a3b"
    },
    {
      "cell_type": "markdown",
      "metadata": {
        "id": "b9a0027a-6aba-4be3-ac95-31efeb81bca4"
      },
      "source": [
        "- na 가 하나라도 존재하는 행 제거"
      ],
      "id": "b9a0027a-6aba-4be3-ac95-31efeb81bca4"
    },
    {
      "cell_type": "code",
      "metadata": {
        "id": "2d70d41a-e77d-46c8-8059-c899f5c1d0d6"
      },
      "source": [
        "df.dropna(axis=\"index\", how='any')      # dropna(how='any')이면 어떤 행에 Nan이 하나라도 있으면 drop한다는 뜻\n",
        "                                        # dropna(how='all')이면 행 안에 모든 것이 Nan이면 drop한다는 뜻"
      ],
      "id": "2d70d41a-e77d-46c8-8059-c899f5c1d0d6",
      "execution_count": null,
      "outputs": []
    },
    {
      "cell_type": "markdown",
      "metadata": {
        "id": "eb618924-15d1-4895-89ab-d610e817ecfc"
      },
      "source": [
        "### ex)\n",
        "\n",
        "na 가 하나라도 존재하는 열 제거"
      ],
      "id": "eb618924-15d1-4895-89ab-d610e817ecfc"
    },
    {
      "cell_type": "code",
      "metadata": {
        "id": "6b932d5b-11b3-44f1-8b57-36a27b76d2db"
      },
      "source": [
        "df.dropna(axis='columns', how='any')"
      ],
      "id": "6b932d5b-11b3-44f1-8b57-36a27b76d2db",
      "execution_count": null,
      "outputs": []
    },
    {
      "cell_type": "markdown",
      "metadata": {
        "id": "e8b27e65-c6ef-42ad-a22a-faec4f1dfb51"
      },
      "source": [
        "- 명시적으로 drop 하기"
      ],
      "id": "e8b27e65-c6ef-42ad-a22a-faec4f1dfb51"
    },
    {
      "cell_type": "code",
      "metadata": {
        "id": "6e4f8006-8ccc-4fd5-8816-4e68496519ea"
      },
      "source": [
        "df.drop(['해제사유발생일'], axis=\"columns\")     # column이라는 곳에서 해제사유발생일을 찾아서 없앤다는 뜻\n",
        "                                                # df.drop 어디 변수에 저장 안할 경우에는 복사본이 만들어진다고 생각하기! 원형 df는 바뀌지 않는다."
      ],
      "id": "6e4f8006-8ccc-4fd5-8816-4e68496519ea",
      "execution_count": null,
      "outputs": []
    },
    {
      "cell_type": "code",
      "metadata": {
        "id": "mtJ8bj_Pu-2x"
      },
      "source": [
        "df"
      ],
      "id": "mtJ8bj_Pu-2x",
      "execution_count": null,
      "outputs": []
    },
    {
      "cell_type": "markdown",
      "metadata": {
        "id": "d7dc94ac-150a-4876-9eda-008de257178f"
      },
      "source": [
        "### ex)\n",
        "\n",
        "`해제사유발생일`, `번지`, `본번`, `부번` 은 열은 이제 다시는 사용할 일이 없다. 이 열들을 drop 해보자."
      ],
      "id": "d7dc94ac-150a-4876-9eda-008de257178f"
    },
    {
      "cell_type": "code",
      "metadata": {
        "id": "5d326a8e-6d6f-4c5d-89dc-2353f58b49fd"
      },
      "source": [
        "df = df.drop([\"해제사유발생일\", \"번지\", \"본번\", \"부번\"], axis=\"columns\")\n",
        "# df.drop([\"해제사유발생일\", \"번지\", \"본번\", \"부번\"], axis=\"columns\",inplace=True) 위의 실행결과와 같다.\n",
        "# inplace=False이면 return a copy, inplace=True이면 do operation inplace and return None"
      ],
      "id": "5d326a8e-6d6f-4c5d-89dc-2353f58b49fd",
      "execution_count": null,
      "outputs": []
    },
    {
      "cell_type": "code",
      "metadata": {
        "id": "Z1jyERPivgCx"
      },
      "source": [
        "df"
      ],
      "id": "Z1jyERPivgCx",
      "execution_count": null,
      "outputs": []
    },
    {
      "cell_type": "markdown",
      "metadata": {
        "id": "97ce5e43-0410-4906-8b49-fee5655f952a"
      },
      "source": [
        "--- "
      ],
      "id": "97ce5e43-0410-4906-8b49-fee5655f952a"
    },
    {
      "cell_type": "markdown",
      "metadata": {
        "id": "5a6c4a6d-1318-4a73-a8c1-27e418c5d9b3"
      },
      "source": [
        "## 6. data column 추가하기"
      ],
      "id": "5a6c4a6d-1318-4a73-a8c1-27e418c5d9b3"
    },
    {
      "cell_type": "markdown",
      "metadata": {
        "id": "83e865be-1498-4431-8614-3de9010b7be2"
      },
      "source": [
        "### column 명 바꾸기"
      ],
      "id": "83e865be-1498-4431-8614-3de9010b7be2"
    },
    {
      "cell_type": "code",
      "metadata": {
        "id": "f3896146-3523-4850-9d8d-a95843b1dfb5"
      },
      "source": [
        "rename_map = {\n",
        "    \"계약년월\":'yearmonth',\n",
        "    \"계약일\": 'date',\n",
        "    \"시군구\":\"address\",\n",
        "    \"단지명\":\"apt\",\n",
        "    \"전용면적(㎡)\":\"area\",\n",
        "    \"거래금액(만원)\":\"transaction\",\n",
        "    \"층\":\"floor\",\n",
        "    \"건축년도\":\"built\",\n",
        "    \"도로명\":\"road\"\n",
        "}\n",
        "df.rename(\n",
        "    rename_map, axis=\"columns\", inplace=True\n",
        ")\n",
        "# rename(inplace=True)이면 진짜 바꿀거니까 복사본을 만드는게 아니라 실제로 바꾸라는 의미"
      ],
      "id": "f3896146-3523-4850-9d8d-a95843b1dfb5",
      "execution_count": null,
      "outputs": []
    },
    {
      "cell_type": "code",
      "metadata": {
        "id": "GlPhhJfZ75dP"
      },
      "source": [
        "df"
      ],
      "id": "GlPhhJfZ75dP",
      "execution_count": null,
      "outputs": []
    },
    {
      "cell_type": "markdown",
      "metadata": {
        "id": "47934af1-8b03-4f0a-917c-40984b633ef8"
      },
      "source": [
        "datetime format\n",
        "\n",
        "- `%Y` : 2020, 2021\n",
        "- `%m` : 01, 02, ... 12\n",
        "- `%d` : 01, 02, ... 31"
      ],
      "id": "47934af1-8b03-4f0a-917c-40984b633ef8"
    },
    {
      "cell_type": "code",
      "metadata": {
        "id": "6KeuecFYYvyt"
      },
      "source": [
        "import datetime     # datetime 모듈을 불러옴\n",
        "\n",
        "time_data = datetime.datetime.strptime(\"2020-06-01\",\"%Y-%m-%d\")     # %Y : 연도가 네자리 수 인 연도 표시\n",
        "# datetime 모듈 안의 datetime 클래스는 날짜와 시간을 동시에 표시할 수 있다.\n",
        "# datetime(연, 월, 일, 시, 분, 초, (마이크로 초))\n",
        "# strptime() 메서드는 다양한 포멧의 문자열을 datetime 객체로 변환해줍니다.\n",
        "time_data"
      ],
      "id": "6KeuecFYYvyt",
      "execution_count": null,
      "outputs": []
    },
    {
      "cell_type": "code",
      "metadata": {
        "id": "7dST8F_IZp9p"
      },
      "source": [
        "time_data.date()"
      ],
      "id": "7dST8F_IZp9p",
      "execution_count": null,
      "outputs": []
    },
    {
      "cell_type": "code",
      "metadata": {
        "id": "BNNlg0G_xrGz"
      },
      "source": [
        "time_data.year"
      ],
      "id": "BNNlg0G_xrGz",
      "execution_count": null,
      "outputs": []
    },
    {
      "cell_type": "code",
      "metadata": {
        "id": "Mmr4M7TvxwPb"
      },
      "source": [
        "time_data.day"
      ],
      "id": "Mmr4M7TvxwPb",
      "execution_count": null,
      "outputs": []
    },
    {
      "cell_type": "code",
      "metadata": {
        "id": "e5a9cb7e-f7a8-42b6-b2ce-15f12b3cfaf8"
      },
      "source": [
        "df.head()       # default 값이 5"
      ],
      "id": "e5a9cb7e-f7a8-42b6-b2ce-15f12b3cfaf8",
      "execution_count": null,
      "outputs": []
    },
    {
      "cell_type": "markdown",
      "metadata": {
        "id": "159b6147-5fd2-41da-9410-7806e5043c1e"
      },
      "source": [
        "### 계약날짜 column 만들기"
      ],
      "id": "159b6147-5fd2-41da-9410-7806e5043c1e"
    },
    {
      "cell_type": "markdown",
      "metadata": {
        "id": "bdea3ca0-73ea-409b-b799-74c23de4e75b"
      },
      "source": [
        "`yearmonth`와 `date` 열을 합쳐서 하나로 만들고 pandas 의 시계열 자료형으로 바꾸자\n",
        "\n",
        "---\n",
        "\n",
        "\n",
        "시계열 자료 : 인덱스가 날짜 혹은 시간인 데이터"
      ],
      "id": "bdea3ca0-73ea-409b-b799-74c23de4e75b"
    },
    {
      "cell_type": "code",
      "metadata": {
        "id": "20a2fb8a-6111-419c-a6ee-f43bd14f66b4"
      },
      "source": [
        "# pandas의 to_datetime은 날짜 또는 시간을 나타내는 문자열을 자동으로 datetime 자료형으로 바꾸고 DatetimeIndex 자료형 인덱스를 생성한다.\n",
        "# astype('str') : 모든 열의 데이터타입을 ()안에 있는 자료형으로 변경\n",
        "df[\"cdate\"] = pd.to_datetime(df['yearmonth'].astype('str') + df['date'].astype('str'), format=\"%Y%m%d\")\n",
        "\n",
        "# 위의 format=\"%Y%m%d\"은 읽어오는 format이고 적히는 형식은 \"Y-m-d\"으로 적힌다."
      ],
      "id": "20a2fb8a-6111-419c-a6ee-f43bd14f66b4",
      "execution_count": null,
      "outputs": []
    },
    {
      "cell_type": "code",
      "metadata": {
        "id": "12e44947-248e-4dff-b579-a0e714fe7409"
      },
      "source": [
        "df"
      ],
      "id": "12e44947-248e-4dff-b579-a0e714fe7409",
      "execution_count": null,
      "outputs": []
    },
    {
      "cell_type": "markdown",
      "metadata": {
        "id": "3cdce7fd-a197-4940-85b8-7b6a2294c32b"
      },
      "source": [
        "### ex)\n",
        "- `계약년월`, `계약일` column을 drop 해보자"
      ],
      "id": "3cdce7fd-a197-4940-85b8-7b6a2294c32b"
    },
    {
      "cell_type": "code",
      "metadata": {
        "id": "66f0ed65-3049-473e-9080-f63f52de8543"
      },
      "source": [
        "df = df.drop([\"yearmonth\", \"date\"], axis=\"columns\")"
      ],
      "id": "66f0ed65-3049-473e-9080-f63f52de8543",
      "execution_count": null,
      "outputs": []
    },
    {
      "cell_type": "code",
      "metadata": {
        "id": "1v6qlvc7x-f6"
      },
      "source": [
        "df"
      ],
      "id": "1v6qlvc7x-f6",
      "execution_count": null,
      "outputs": []
    },
    {
      "cell_type": "markdown",
      "metadata": {
        "id": "a4013b56-8965-4355-98d2-ce9902cf306a"
      },
      "source": [
        "### 계약날짜를 년, 월, 날짜로 나누어 새로운 column으로 추가"
      ],
      "id": "a4013b56-8965-4355-98d2-ce9902cf306a"
    },
    {
      "cell_type": "code",
      "metadata": {
        "id": "95c964ad-2afe-4966-8591-0d2e955c92cc"
      },
      "source": [
        "#dataframe.series.dt(distribution).year : 한 column을 그 column내의 요소들로 나누어 새로운 column들을 만들 수 있다.\n",
        "df['year'] = df.cdate.dt.year\n",
        "df['month'] = df.cdate.dt.month\n",
        "df['day'] = df.cdate.dt.day"
      ],
      "id": "95c964ad-2afe-4966-8591-0d2e955c92cc",
      "execution_count": null,
      "outputs": []
    },
    {
      "cell_type": "code",
      "metadata": {
        "id": "1368ca0e-46ce-4e17-9f84-d73e6637c603"
      },
      "source": [
        "df.head(5)"
      ],
      "id": "1368ca0e-46ce-4e17-9f84-d73e6637c603",
      "execution_count": null,
      "outputs": []
    },
    {
      "cell_type": "markdown",
      "metadata": {
        "id": "ddcb48b1-5dca-4832-857c-b2e4c78422ae"
      },
      "source": [
        "### 주소를 각각 시, 구, 동 으로 나고 이를 column으로 저장"
      ],
      "id": "ddcb48b1-5dca-4832-857c-b2e4c78422ae"
    },
    {
      "cell_type": "code",
      "metadata": {
        "id": "ddffac61-5953-4606-9fdc-e3516cbcb1fd"
      },
      "source": [
        "df[['city', 'gu', 'dong']] = df.address.str.split(' ', n=2, expand=True)"
      ],
      "id": "ddffac61-5953-4606-9fdc-e3516cbcb1fd",
      "execution_count": null,
      "outputs": []
    },
    {
      "cell_type": "code",
      "metadata": {
        "id": "133f742e-7f48-426e-aad4-c3a6a51b5a26"
      },
      "source": [
        "df.head(5)"
      ],
      "id": "133f742e-7f48-426e-aad4-c3a6a51b5a26",
      "execution_count": null,
      "outputs": []
    },
    {
      "cell_type": "code",
      "metadata": {
        "id": "5cbf5ae9-4d68-4ac8-9753-9815aef6cd4a"
      },
      "source": [
        "df = df.drop(['address'], axis='columns')"
      ],
      "id": "5cbf5ae9-4d68-4ac8-9753-9815aef6cd4a",
      "execution_count": null,
      "outputs": []
    },
    {
      "cell_type": "code",
      "metadata": {
        "id": "CoKTHWq00Wgh"
      },
      "source": [
        "df"
      ],
      "id": "CoKTHWq00Wgh",
      "execution_count": null,
      "outputs": []
    },
    {
      "cell_type": "markdown",
      "metadata": {
        "id": "e6ada810-d346-4a8d-b46d-50d331cbe6a6"
      },
      "source": [
        "---"
      ],
      "id": "e6ada810-d346-4a8d-b46d-50d331cbe6a6"
    },
    {
      "cell_type": "markdown",
      "metadata": {
        "id": "c416e9ff-51fa-4551-9600-1b2e25eb7ae6"
      },
      "source": [
        "### 매매금액(`transaction`)을 숫자형 자료로 바꾸자"
      ],
      "id": "c416e9ff-51fa-4551-9600-1b2e25eb7ae6"
    },
    {
      "cell_type": "markdown",
      "metadata": {
        "id": "3200d055-bee5-4d30-bf80-1d9fb4626140"
      },
      "source": [
        "- `DataFrame.apply`: 전체 row, column 에 적용\n",
        "- `Series.map`, `Series.apply`, `DataFrame.applymap`: 각각의 요소마다 적용(elementwise)"
      ],
      "id": "3200d055-bee5-4d30-bf80-1d9fb4626140"
    },
    {
      "cell_type": "code",
      "metadata": {
        "id": "ITQWOVIIep-Y"
      },
      "source": [
        "df.head(2)"
      ],
      "id": "ITQWOVIIep-Y",
      "execution_count": null,
      "outputs": []
    },
    {
      "cell_type": "code",
      "metadata": {
        "id": "466c8bbf-0257-4711-8e93-7a9b5f13b255"
      },
      "source": [
        "# lambda x: x(return값) : small task를 표현할때 사용\n",
        "# lambda x: x+3 vs def(add3(x)): return x+3\n",
        "\n",
        "df['transaction'].map(lambda string: string.replace(',', ''))   # 3자리 마다 (,) 적힌걸 없애는 과정"
      ],
      "id": "466c8bbf-0257-4711-8e93-7a9b5f13b255",
      "execution_count": null,
      "outputs": []
    },
    {
      "cell_type": "code",
      "metadata": {
        "id": "a6b35b64-6e81-43f2-a0ba-3b9315a0400e"
      },
      "source": [
        "# dataFrame에서 복수 개의 column이 필요하다면 apply함수를 사용\n",
        "\n",
        "df['transaction'].apply(lambda string: string.replace(',', ''))"
      ],
      "id": "a6b35b64-6e81-43f2-a0ba-3b9315a0400e",
      "execution_count": null,
      "outputs": []
    },
    {
      "cell_type": "code",
      "metadata": {
        "id": "e301fd57-2c83-4a6f-b958-8aa894ce533b"
      },
      "source": [
        "# applymap() 함수는 dataframe클래스의 함수이긴 하지만 \n",
        "# 위의 apply함수처럼 각 row(axis=1)나 각 column(axis=0)별로 작동하는 함수가 아니라, 각 요소(element)별로 작동한다.\n",
        "# 마치 선형대수에서 벡터에 스칼라를 연산하면, 벡터의 요소 하나하나에 해당 연산을 해주는 것처럼\n",
        "\n",
        "df[['transaction']].applymap(lambda string: string.replace(',', ''))"
      ],
      "id": "e301fd57-2c83-4a6f-b958-8aa894ce533b",
      "execution_count": null,
      "outputs": []
    },
    {
      "cell_type": "code",
      "metadata": {
        "id": "4de5f9d1-0449-4f93-b9fe-5696a72a20bc"
      },
      "source": [
        "df['transaction'] = df['transaction'].str.replace(',', '').astype(int)      # string이였던 자료형을 int형으로 바꾸었다."
      ],
      "id": "4de5f9d1-0449-4f93-b9fe-5696a72a20bc",
      "execution_count": null,
      "outputs": []
    },
    {
      "cell_type": "code",
      "metadata": {
        "id": "2837acc2-f7e5-49ec-8efc-0296e94bbd92"
      },
      "source": [
        "df"
      ],
      "id": "2837acc2-f7e5-49ec-8efc-0296e94bbd92",
      "execution_count": null,
      "outputs": []
    },
    {
      "cell_type": "markdown",
      "metadata": {
        "id": "bfd10cea-8706-4090-b9e4-93965279f8e5"
      },
      "source": [
        "### `cdate`(계약날짜) 를 새 인덱스로 설정한후 파일로 저장하자"
      ],
      "id": "bfd10cea-8706-4090-b9e4-93965279f8e5"
    },
    {
      "cell_type": "code",
      "metadata": {
        "id": "8eedd7a8-3880-45ad-acc1-0753d11fa929"
      },
      "source": [
        "df.set_index('cdate').to_csv(\"apt_trade_part1.csv\")     #df.set_index로 인덱스 지정후, to_csv로 csv파일로 저장"
      ],
      "id": "8eedd7a8-3880-45ad-acc1-0753d11fa929",
      "execution_count": null,
      "outputs": []
    },
    {
      "cell_type": "code",
      "metadata": {
        "id": "6e5e57f6-dd44-42df-89eb-7aa4f5a2fa7e"
      },
      "source": [
        "pd.read_csv(\"apt_trade_part1.csv\")"
      ],
      "id": "6e5e57f6-dd44-42df-89eb-7aa4f5a2fa7e",
      "execution_count": null,
      "outputs": []
    },
    {
      "cell_type": "code",
      "metadata": {
        "id": "9e080528-c37b-4087-a53e-738565b646df"
      },
      "source": [
        "df.cdate.dtype.type"
      ],
      "id": "9e080528-c37b-4087-a53e-738565b646df",
      "execution_count": null,
      "outputs": []
    }
  ]
}